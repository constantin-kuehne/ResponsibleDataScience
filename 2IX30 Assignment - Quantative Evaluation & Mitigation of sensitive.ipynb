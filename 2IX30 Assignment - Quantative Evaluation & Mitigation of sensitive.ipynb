{
 "cells": [
  {
   "cell_type": "code",
   "execution_count": 1,
   "metadata": {},
   "outputs": [
    {
     "name": "stdout",
     "output_type": "stream",
     "text": [
      "pandas        Tested version: 2.0.3   Your version: 2.2.3\n",
      "numpy         Tested version: 1.21.5  Your version: 2.1.3\n",
      "matplotlib    Tested version: 3.5.3   Your version: 3.8.4\n",
      "scikit-learn  Tested version: 1.2.2   Your version: 1.6.1\n"
     ]
    }
   ],
   "source": [
    "import time, matplotlib, sklearn\n",
    "\n",
    "# visualizatoin \n",
    "import matplotlib.pyplot as plt \n",
    "import seaborn as sns\n",
    "# data wrangling\n",
    "import pandas as pd\n",
    "import numpy as np \n",
    "\n",
    "# data preprocessing\n",
    "from sklearn.model_selection import train_test_split\n",
    "from sklearn.pipeline import Pipeline\n",
    "from sklearn.compose import ColumnTransformer, make_column_selector\n",
    "from sklearn.preprocessing import OneHotEncoder, RobustScaler\n",
    "from sklearn.feature_selection import VarianceThreshold\n",
    "from sklearn.impute import SimpleImputer\n",
    "from sklearn.metrics import accuracy_score, precision_score, recall_score, f1_score, confusion_matrix, roc_auc_score, roc_curve, auc, RocCurveDisplay\n",
    "from sklearn.calibration import calibration_curve\n",
    "from sklearn.base import BaseEstimator, TransformerMixin\n",
    "\n",
    "# learning\n",
    "from sklearn.linear_model import LogisticRegression\n",
    "from sklearn.tree import DecisionTreeClassifier\n",
    "from sklearn.ensemble import RandomForestClassifier\n",
    "import xgboost as xgb\n",
    "from sklearn.model_selection import cross_val_score, KFold\n",
    "from sklearn.model_selection import GridSearchCV\n",
    "from sklearn.model_selection import RandomizedSearchCV\n",
    "from scipy.stats import randint\n",
    "\n",
    "\n",
    "# the data intro has been tested with the following versions\n",
    "print(\"pandas        Tested version: 2.0.3   Your version: %s\" % pd.__version__)\n",
    "print(\"numpy         Tested version: 1.21.5  Your version: %s\" % np.__version__)\n",
    "print(\"matplotlib    Tested version: 3.5.3   Your version: %s\" % matplotlib.__version__)\n",
    "print(\"scikit-learn  Tested version: 1.2.2   Your version: %s\" % sklearn.__version__)"
   ]
  },
  {
   "cell_type": "code",
   "execution_count": 2,
   "metadata": {},
   "outputs": [
    {
     "data": {
      "application/vnd.microsoft.datawrangler.viewer.v0+json": {
       "columns": [
        {
         "name": "index",
         "rawType": "int64",
         "type": "integer"
        },
        {
         "name": "encounter_id",
         "rawType": "int64",
         "type": "integer"
        },
        {
         "name": "patient_id",
         "rawType": "int64",
         "type": "integer"
        },
        {
         "name": "hospital_id",
         "rawType": "int64",
         "type": "integer"
        },
        {
         "name": "hospital_death",
         "rawType": "int64",
         "type": "integer"
        },
        {
         "name": "age",
         "rawType": "float64",
         "type": "float"
        },
        {
         "name": "bmi",
         "rawType": "float64",
         "type": "float"
        },
        {
         "name": "elective_surgery",
         "rawType": "int64",
         "type": "integer"
        },
        {
         "name": "ethnicity",
         "rawType": "object",
         "type": "string"
        },
        {
         "name": "gender",
         "rawType": "object",
         "type": "string"
        },
        {
         "name": "height",
         "rawType": "float64",
         "type": "float"
        },
        {
         "name": "hospital_admit_source",
         "rawType": "object",
         "type": "unknown"
        },
        {
         "name": "icu_admit_source",
         "rawType": "object",
         "type": "string"
        },
        {
         "name": "icu_id",
         "rawType": "int64",
         "type": "integer"
        },
        {
         "name": "icu_stay_type",
         "rawType": "object",
         "type": "string"
        },
        {
         "name": "icu_type",
         "rawType": "object",
         "type": "string"
        },
        {
         "name": "pre_icu_los_days",
         "rawType": "float64",
         "type": "float"
        },
        {
         "name": "readmission_status",
         "rawType": "int64",
         "type": "integer"
        },
        {
         "name": "weight",
         "rawType": "float64",
         "type": "float"
        },
        {
         "name": "albumin_apache",
         "rawType": "float64",
         "type": "float"
        },
        {
         "name": "apache_2_diagnosis",
         "rawType": "float64",
         "type": "float"
        },
        {
         "name": "apache_3j_diagnosis",
         "rawType": "float64",
         "type": "float"
        },
        {
         "name": "apache_post_operative",
         "rawType": "int64",
         "type": "integer"
        },
        {
         "name": "arf_apache",
         "rawType": "float64",
         "type": "float"
        },
        {
         "name": "bilirubin_apache",
         "rawType": "float64",
         "type": "float"
        },
        {
         "name": "bun_apache",
         "rawType": "float64",
         "type": "float"
        },
        {
         "name": "creatinine_apache",
         "rawType": "float64",
         "type": "float"
        },
        {
         "name": "fio2_apache",
         "rawType": "float64",
         "type": "float"
        },
        {
         "name": "gcs_eyes_apache",
         "rawType": "float64",
         "type": "float"
        },
        {
         "name": "gcs_motor_apache",
         "rawType": "float64",
         "type": "float"
        },
        {
         "name": "gcs_unable_apache",
         "rawType": "float64",
         "type": "float"
        },
        {
         "name": "gcs_verbal_apache",
         "rawType": "float64",
         "type": "float"
        },
        {
         "name": "glucose_apache",
         "rawType": "float64",
         "type": "float"
        },
        {
         "name": "heart_rate_apache",
         "rawType": "float64",
         "type": "float"
        },
        {
         "name": "hematocrit_apache",
         "rawType": "float64",
         "type": "float"
        },
        {
         "name": "intubated_apache",
         "rawType": "float64",
         "type": "float"
        },
        {
         "name": "map_apache",
         "rawType": "float64",
         "type": "float"
        },
        {
         "name": "paco2_apache",
         "rawType": "float64",
         "type": "float"
        },
        {
         "name": "paco2_for_ph_apache",
         "rawType": "float64",
         "type": "float"
        },
        {
         "name": "pao2_apache",
         "rawType": "float64",
         "type": "float"
        },
        {
         "name": "ph_apache",
         "rawType": "float64",
         "type": "float"
        },
        {
         "name": "resprate_apache",
         "rawType": "float64",
         "type": "float"
        },
        {
         "name": "sodium_apache",
         "rawType": "float64",
         "type": "float"
        },
        {
         "name": "temp_apache",
         "rawType": "float64",
         "type": "float"
        },
        {
         "name": "urineoutput_apache",
         "rawType": "float64",
         "type": "float"
        },
        {
         "name": "ventilated_apache",
         "rawType": "float64",
         "type": "float"
        },
        {
         "name": "wbc_apache",
         "rawType": "float64",
         "type": "float"
        },
        {
         "name": "d1_diasbp_invasive_max",
         "rawType": "float64",
         "type": "float"
        },
        {
         "name": "d1_diasbp_invasive_min",
         "rawType": "float64",
         "type": "float"
        },
        {
         "name": "d1_diasbp_max",
         "rawType": "float64",
         "type": "float"
        },
        {
         "name": "d1_diasbp_min",
         "rawType": "float64",
         "type": "float"
        },
        {
         "name": "d1_diasbp_noninvasive_max",
         "rawType": "float64",
         "type": "float"
        },
        {
         "name": "d1_diasbp_noninvasive_min",
         "rawType": "float64",
         "type": "float"
        },
        {
         "name": "d1_heartrate_max",
         "rawType": "float64",
         "type": "float"
        },
        {
         "name": "d1_heartrate_min",
         "rawType": "float64",
         "type": "float"
        },
        {
         "name": "d1_mbp_invasive_max",
         "rawType": "float64",
         "type": "float"
        },
        {
         "name": "d1_mbp_invasive_min",
         "rawType": "float64",
         "type": "float"
        },
        {
         "name": "d1_mbp_max",
         "rawType": "float64",
         "type": "float"
        },
        {
         "name": "d1_mbp_min",
         "rawType": "float64",
         "type": "float"
        },
        {
         "name": "d1_mbp_noninvasive_max",
         "rawType": "float64",
         "type": "float"
        },
        {
         "name": "d1_mbp_noninvasive_min",
         "rawType": "float64",
         "type": "float"
        },
        {
         "name": "d1_resprate_max",
         "rawType": "float64",
         "type": "float"
        },
        {
         "name": "d1_resprate_min",
         "rawType": "float64",
         "type": "float"
        },
        {
         "name": "d1_spo2_max",
         "rawType": "float64",
         "type": "float"
        },
        {
         "name": "d1_spo2_min",
         "rawType": "float64",
         "type": "float"
        },
        {
         "name": "d1_sysbp_invasive_max",
         "rawType": "float64",
         "type": "float"
        },
        {
         "name": "d1_sysbp_invasive_min",
         "rawType": "float64",
         "type": "float"
        },
        {
         "name": "d1_sysbp_max",
         "rawType": "float64",
         "type": "float"
        },
        {
         "name": "d1_sysbp_min",
         "rawType": "float64",
         "type": "float"
        },
        {
         "name": "d1_sysbp_noninvasive_max",
         "rawType": "float64",
         "type": "float"
        },
        {
         "name": "d1_sysbp_noninvasive_min",
         "rawType": "float64",
         "type": "float"
        },
        {
         "name": "d1_temp_max",
         "rawType": "float64",
         "type": "float"
        },
        {
         "name": "d1_temp_min",
         "rawType": "float64",
         "type": "float"
        },
        {
         "name": "h1_diasbp_invasive_max",
         "rawType": "float64",
         "type": "float"
        },
        {
         "name": "h1_diasbp_invasive_min",
         "rawType": "float64",
         "type": "float"
        },
        {
         "name": "h1_diasbp_max",
         "rawType": "float64",
         "type": "float"
        },
        {
         "name": "h1_diasbp_min",
         "rawType": "float64",
         "type": "float"
        },
        {
         "name": "h1_diasbp_noninvasive_max",
         "rawType": "float64",
         "type": "float"
        },
        {
         "name": "h1_diasbp_noninvasive_min",
         "rawType": "float64",
         "type": "float"
        },
        {
         "name": "h1_heartrate_max",
         "rawType": "float64",
         "type": "float"
        },
        {
         "name": "h1_heartrate_min",
         "rawType": "float64",
         "type": "float"
        },
        {
         "name": "h1_mbp_invasive_max",
         "rawType": "float64",
         "type": "float"
        },
        {
         "name": "h1_mbp_invasive_min",
         "rawType": "float64",
         "type": "float"
        },
        {
         "name": "h1_mbp_max",
         "rawType": "float64",
         "type": "float"
        },
        {
         "name": "h1_mbp_min",
         "rawType": "float64",
         "type": "float"
        },
        {
         "name": "h1_mbp_noninvasive_max",
         "rawType": "float64",
         "type": "float"
        },
        {
         "name": "h1_mbp_noninvasive_min",
         "rawType": "float64",
         "type": "float"
        },
        {
         "name": "h1_resprate_max",
         "rawType": "float64",
         "type": "float"
        },
        {
         "name": "h1_resprate_min",
         "rawType": "float64",
         "type": "float"
        },
        {
         "name": "h1_spo2_max",
         "rawType": "float64",
         "type": "float"
        },
        {
         "name": "h1_spo2_min",
         "rawType": "float64",
         "type": "float"
        },
        {
         "name": "h1_sysbp_invasive_max",
         "rawType": "float64",
         "type": "float"
        },
        {
         "name": "h1_sysbp_invasive_min",
         "rawType": "float64",
         "type": "float"
        },
        {
         "name": "h1_sysbp_max",
         "rawType": "float64",
         "type": "float"
        },
        {
         "name": "h1_sysbp_min",
         "rawType": "float64",
         "type": "float"
        },
        {
         "name": "h1_sysbp_noninvasive_max",
         "rawType": "float64",
         "type": "float"
        },
        {
         "name": "h1_sysbp_noninvasive_min",
         "rawType": "float64",
         "type": "float"
        },
        {
         "name": "h1_temp_max",
         "rawType": "float64",
         "type": "float"
        },
        {
         "name": "h1_temp_min",
         "rawType": "float64",
         "type": "float"
        },
        {
         "name": "d1_albumin_max",
         "rawType": "float64",
         "type": "float"
        },
        {
         "name": "d1_albumin_min",
         "rawType": "float64",
         "type": "float"
        },
        {
         "name": "d1_bilirubin_max",
         "rawType": "float64",
         "type": "float"
        },
        {
         "name": "d1_bilirubin_min",
         "rawType": "float64",
         "type": "float"
        },
        {
         "name": "d1_bun_max",
         "rawType": "float64",
         "type": "float"
        },
        {
         "name": "d1_bun_min",
         "rawType": "float64",
         "type": "float"
        },
        {
         "name": "d1_calcium_max",
         "rawType": "float64",
         "type": "float"
        },
        {
         "name": "d1_calcium_min",
         "rawType": "float64",
         "type": "float"
        },
        {
         "name": "d1_creatinine_max",
         "rawType": "float64",
         "type": "float"
        },
        {
         "name": "d1_creatinine_min",
         "rawType": "float64",
         "type": "float"
        },
        {
         "name": "d1_glucose_max",
         "rawType": "float64",
         "type": "float"
        },
        {
         "name": "d1_glucose_min",
         "rawType": "float64",
         "type": "float"
        },
        {
         "name": "d1_hco3_max",
         "rawType": "float64",
         "type": "float"
        },
        {
         "name": "d1_hco3_min",
         "rawType": "float64",
         "type": "float"
        },
        {
         "name": "d1_hemaglobin_max",
         "rawType": "float64",
         "type": "float"
        },
        {
         "name": "d1_hemaglobin_min",
         "rawType": "float64",
         "type": "float"
        },
        {
         "name": "d1_hematocrit_max",
         "rawType": "float64",
         "type": "float"
        },
        {
         "name": "d1_hematocrit_min",
         "rawType": "float64",
         "type": "float"
        },
        {
         "name": "d1_inr_max",
         "rawType": "float64",
         "type": "float"
        },
        {
         "name": "d1_inr_min",
         "rawType": "float64",
         "type": "float"
        },
        {
         "name": "d1_lactate_max",
         "rawType": "float64",
         "type": "float"
        },
        {
         "name": "d1_lactate_min",
         "rawType": "float64",
         "type": "float"
        },
        {
         "name": "d1_platelets_max",
         "rawType": "float64",
         "type": "float"
        },
        {
         "name": "d1_platelets_min",
         "rawType": "float64",
         "type": "float"
        },
        {
         "name": "d1_potassium_max",
         "rawType": "float64",
         "type": "float"
        },
        {
         "name": "d1_potassium_min",
         "rawType": "float64",
         "type": "float"
        },
        {
         "name": "d1_sodium_max",
         "rawType": "float64",
         "type": "float"
        },
        {
         "name": "d1_sodium_min",
         "rawType": "float64",
         "type": "float"
        },
        {
         "name": "d1_wbc_max",
         "rawType": "float64",
         "type": "float"
        },
        {
         "name": "d1_wbc_min",
         "rawType": "float64",
         "type": "float"
        },
        {
         "name": "h1_albumin_max",
         "rawType": "float64",
         "type": "float"
        },
        {
         "name": "h1_albumin_min",
         "rawType": "float64",
         "type": "float"
        },
        {
         "name": "h1_bilirubin_max",
         "rawType": "float64",
         "type": "float"
        },
        {
         "name": "h1_bilirubin_min",
         "rawType": "float64",
         "type": "float"
        },
        {
         "name": "h1_bun_max",
         "rawType": "float64",
         "type": "float"
        },
        {
         "name": "h1_bun_min",
         "rawType": "float64",
         "type": "float"
        },
        {
         "name": "h1_calcium_max",
         "rawType": "float64",
         "type": "float"
        },
        {
         "name": "h1_calcium_min",
         "rawType": "float64",
         "type": "float"
        },
        {
         "name": "h1_creatinine_max",
         "rawType": "float64",
         "type": "float"
        },
        {
         "name": "h1_creatinine_min",
         "rawType": "float64",
         "type": "float"
        },
        {
         "name": "h1_glucose_max",
         "rawType": "float64",
         "type": "float"
        },
        {
         "name": "h1_glucose_min",
         "rawType": "float64",
         "type": "float"
        },
        {
         "name": "h1_hco3_max",
         "rawType": "float64",
         "type": "float"
        },
        {
         "name": "h1_hco3_min",
         "rawType": "float64",
         "type": "float"
        },
        {
         "name": "h1_hemaglobin_max",
         "rawType": "float64",
         "type": "float"
        },
        {
         "name": "h1_hemaglobin_min",
         "rawType": "float64",
         "type": "float"
        },
        {
         "name": "h1_hematocrit_max",
         "rawType": "float64",
         "type": "float"
        },
        {
         "name": "h1_hematocrit_min",
         "rawType": "float64",
         "type": "float"
        },
        {
         "name": "h1_inr_max",
         "rawType": "float64",
         "type": "float"
        },
        {
         "name": "h1_inr_min",
         "rawType": "float64",
         "type": "float"
        },
        {
         "name": "h1_lactate_max",
         "rawType": "float64",
         "type": "float"
        },
        {
         "name": "h1_lactate_min",
         "rawType": "float64",
         "type": "float"
        },
        {
         "name": "h1_platelets_max",
         "rawType": "float64",
         "type": "float"
        },
        {
         "name": "h1_platelets_min",
         "rawType": "float64",
         "type": "float"
        },
        {
         "name": "h1_potassium_max",
         "rawType": "float64",
         "type": "float"
        },
        {
         "name": "h1_potassium_min",
         "rawType": "float64",
         "type": "float"
        },
        {
         "name": "h1_sodium_max",
         "rawType": "float64",
         "type": "float"
        },
        {
         "name": "h1_sodium_min",
         "rawType": "float64",
         "type": "float"
        },
        {
         "name": "h1_wbc_max",
         "rawType": "float64",
         "type": "float"
        },
        {
         "name": "h1_wbc_min",
         "rawType": "float64",
         "type": "float"
        },
        {
         "name": "d1_arterial_pco2_max",
         "rawType": "float64",
         "type": "float"
        },
        {
         "name": "d1_arterial_pco2_min",
         "rawType": "float64",
         "type": "float"
        },
        {
         "name": "d1_arterial_ph_max",
         "rawType": "float64",
         "type": "float"
        },
        {
         "name": "d1_arterial_ph_min",
         "rawType": "float64",
         "type": "float"
        },
        {
         "name": "d1_arterial_po2_max",
         "rawType": "float64",
         "type": "float"
        },
        {
         "name": "d1_arterial_po2_min",
         "rawType": "float64",
         "type": "float"
        },
        {
         "name": "d1_pao2fio2ratio_max",
         "rawType": "float64",
         "type": "float"
        },
        {
         "name": "d1_pao2fio2ratio_min",
         "rawType": "float64",
         "type": "float"
        },
        {
         "name": "h1_arterial_pco2_max",
         "rawType": "float64",
         "type": "float"
        },
        {
         "name": "h1_arterial_pco2_min",
         "rawType": "float64",
         "type": "float"
        },
        {
         "name": "h1_arterial_ph_max",
         "rawType": "float64",
         "type": "float"
        },
        {
         "name": "h1_arterial_ph_min",
         "rawType": "float64",
         "type": "float"
        },
        {
         "name": "h1_arterial_po2_max",
         "rawType": "float64",
         "type": "float"
        },
        {
         "name": "h1_arterial_po2_min",
         "rawType": "float64",
         "type": "float"
        },
        {
         "name": "h1_pao2fio2ratio_max",
         "rawType": "float64",
         "type": "float"
        },
        {
         "name": "h1_pao2fio2ratio_min",
         "rawType": "float64",
         "type": "float"
        },
        {
         "name": "apache_4a_hospital_death_prob",
         "rawType": "float64",
         "type": "float"
        },
        {
         "name": "apache_4a_icu_death_prob",
         "rawType": "float64",
         "type": "float"
        },
        {
         "name": "aids",
         "rawType": "float64",
         "type": "float"
        },
        {
         "name": "cirrhosis",
         "rawType": "float64",
         "type": "float"
        },
        {
         "name": "diabetes_mellitus",
         "rawType": "float64",
         "type": "float"
        },
        {
         "name": "hepatic_failure",
         "rawType": "float64",
         "type": "float"
        },
        {
         "name": "immunosuppression",
         "rawType": "float64",
         "type": "float"
        },
        {
         "name": "leukemia",
         "rawType": "float64",
         "type": "float"
        },
        {
         "name": "lymphoma",
         "rawType": "float64",
         "type": "float"
        },
        {
         "name": "solid_tumor_with_metastasis",
         "rawType": "float64",
         "type": "float"
        },
        {
         "name": "apache_3j_bodysystem",
         "rawType": "object",
         "type": "string"
        },
        {
         "name": "apache_2_bodysystem",
         "rawType": "object",
         "type": "string"
        }
       ],
       "conversionMethod": "pd.DataFrame",
       "ref": "e21264a3-2a5d-4b8a-b6af-c4fb0a60cf77",
       "rows": [
        [
         "0",
         "66154",
         "25312",
         "118",
         "0",
         "68.0",
         "22.73",
         "0",
         "Caucasian",
         "M",
         "180.3",
         "Floor",
         "Floor",
         "92",
         "admit",
         "CTICU",
         "0.541666667",
         "0",
         "73.9",
         "2.3",
         "113.0",
         "502.01",
         "0",
         "0.0",
         "0.4",
         "31.0",
         "2.51",
         null,
         "3.0",
         "6.0",
         "0.0",
         "4.0",
         "168.0",
         "118.0",
         "27.4",
         "0.0",
         "40.0",
         null,
         null,
         null,
         null,
         "36.0",
         "134.0",
         "39.3",
         null,
         "0.0",
         "14.1",
         "46.0",
         "32.0",
         "68.0",
         "37.0",
         "68.0",
         "37.0",
         "119.0",
         "72.0",
         "66.0",
         "40.0",
         "89.0",
         "46.0",
         "89.0",
         "46.0",
         "34.0",
         "10.0",
         "100.0",
         "74.0",
         "122.0",
         "64.0",
         "131.0",
         "73.0",
         "131.0",
         "73.0",
         "39.9",
         "37.2",
         null,
         null,
         "68.0",
         "63.0",
         "68.0",
         "63.0",
         "119.0",
         "108.0",
         null,
         null,
         "86.0",
         "85.0",
         "86.0",
         "85.0",
         "26.0",
         "18.0",
         "100.0",
         "74.0",
         null,
         null,
         "131.0",
         "115.0",
         "131.0",
         "115.0",
         "39.5",
         "37.5",
         "2.3",
         "2.3",
         "0.4",
         "0.4",
         "31.0",
         "30.0",
         "8.5",
         "7.4",
         "2.51",
         "2.23",
         "168.0",
         "109.0",
         "19.0",
         "15.0",
         "8.9",
         "8.9",
         "27.4",
         "27.4",
         null,
         null,
         "1.3",
         "1.0",
         "233.0",
         "233.0",
         "4.0",
         "3.4",
         "136.0",
         "134.0",
         "14.1",
         "14.1",
         null,
         null,
         null,
         null,
         null,
         null,
         null,
         null,
         null,
         null,
         null,
         null,
         null,
         null,
         null,
         null,
         null,
         null,
         null,
         null,
         null,
         null,
         null,
         null,
         null,
         null,
         null,
         null,
         null,
         null,
         null,
         null,
         null,
         null,
         null,
         null,
         null,
         null,
         null,
         null,
         null,
         null,
         null,
         null,
         null,
         null,
         "0.1",
         "0.05",
         "0.0",
         "0.0",
         "1.0",
         "0.0",
         "0.0",
         "0.0",
         "0.0",
         "0.0",
         "Sepsis",
         "Cardiovascular"
        ],
        [
         "1",
         "114252",
         "59342",
         "81",
         "0",
         "77.0",
         "27.42",
         "0",
         "Caucasian",
         "F",
         "160.0",
         "Floor",
         "Floor",
         "90",
         "admit",
         "Med-Surg ICU",
         "0.927777778",
         "0",
         "70.2",
         null,
         "108.0",
         "203.01",
         "0",
         "0.0",
         null,
         "9.0",
         "0.56",
         "1.0",
         "1.0",
         "3.0",
         "0.0",
         "1.0",
         "145.0",
         "120.0",
         "36.9",
         "0.0",
         "46.0",
         "37.0",
         "37.0",
         "51.0",
         "7.45",
         "33.0",
         "145.0",
         "35.1",
         null,
         "1.0",
         "12.7",
         null,
         null,
         "95.0",
         "31.0",
         "95.0",
         "31.0",
         "118.0",
         "72.0",
         null,
         null,
         "120.0",
         "38.0",
         "120.0",
         "38.0",
         "32.0",
         "12.0",
         "100.0",
         "70.0",
         null,
         null,
         "159.0",
         "67.0",
         "159.0",
         "67.0",
         "36.3",
         "35.1",
         null,
         null,
         "61.0",
         "48.0",
         "61.0",
         "48.0",
         "114.0",
         "100.0",
         null,
         null,
         "85.0",
         "57.0",
         "85.0",
         "57.0",
         "31.0",
         "28.0",
         "95.0",
         "70.0",
         null,
         null,
         "95.0",
         "71.0",
         "95.0",
         "71.0",
         "36.3",
         "36.3",
         "1.6",
         "1.6",
         "0.5",
         "0.5",
         "11.0",
         "9.0",
         "8.6",
         "8.0",
         "0.71",
         "0.56",
         "145.0",
         "128.0",
         "27.0",
         "26.0",
         "11.3",
         "11.1",
         "36.9",
         "36.1",
         "1.3",
         "1.3",
         "3.5",
         "3.5",
         "557.0",
         "487.0",
         "4.2",
         "3.8",
         "145.0",
         "145.0",
         "23.3",
         "12.7",
         null,
         null,
         null,
         null,
         "9.0",
         "9.0",
         "8.6",
         "8.6",
         "0.56",
         "0.56",
         "145.0",
         "143.0",
         "27.0",
         "27.0",
         "11.3",
         "11.3",
         "36.9",
         "36.9",
         "1.3",
         "1.3",
         "3.5",
         "3.5",
         "557.0",
         "557.0",
         "4.2",
         "4.2",
         "145.0",
         "145.0",
         "12.7",
         "12.7",
         "37.0",
         "37.0",
         "7.45",
         "7.45",
         "51.0",
         "51.0",
         "54.8",
         "51.0",
         "37.0",
         "37.0",
         "7.45",
         "7.45",
         "51.0",
         "51.0",
         "51.0",
         "51.0",
         "0.47",
         "0.29",
         "0.0",
         "0.0",
         "1.0",
         "0.0",
         "0.0",
         "0.0",
         "0.0",
         "0.0",
         "Respiratory",
         "Respiratory"
        ],
        [
         "2",
         "119783",
         "50777",
         "118",
         "0",
         "25.0",
         "31.95",
         "0",
         "Caucasian",
         "F",
         "172.7",
         "Emergency Department",
         "Accident & Emergency",
         "93",
         "admit",
         "Med-Surg ICU",
         "0.000694444",
         "0",
         "95.3",
         null,
         "122.0",
         "703.03",
         "0",
         "0.0",
         null,
         null,
         null,
         null,
         "3.0",
         "6.0",
         "0.0",
         "5.0",
         null,
         "102.0",
         null,
         "0.0",
         "68.0",
         null,
         null,
         null,
         null,
         "37.0",
         null,
         "36.7",
         null,
         "0.0",
         null,
         null,
         null,
         "88.0",
         "48.0",
         "88.0",
         "48.0",
         "96.0",
         "68.0",
         null,
         null,
         "102.0",
         "68.0",
         "102.0",
         "68.0",
         "21.0",
         "8.0",
         "98.0",
         "91.0",
         null,
         null,
         "148.0",
         "105.0",
         "148.0",
         "105.0",
         "37.0",
         "36.7",
         null,
         null,
         "88.0",
         "58.0",
         "88.0",
         "58.0",
         "96.0",
         "78.0",
         null,
         null,
         "91.0",
         "83.0",
         "91.0",
         "83.0",
         "20.0",
         "16.0",
         "98.0",
         "91.0",
         null,
         null,
         "148.0",
         "124.0",
         "148.0",
         "124.0",
         "36.7",
         "36.7",
         null,
         null,
         null,
         null,
         null,
         null,
         null,
         null,
         null,
         null,
         null,
         null,
         null,
         null,
         null,
         null,
         null,
         null,
         null,
         null,
         null,
         null,
         null,
         null,
         null,
         null,
         null,
         null,
         null,
         null,
         null,
         null,
         null,
         null,
         null,
         null,
         null,
         null,
         null,
         null,
         null,
         null,
         null,
         null,
         null,
         null,
         null,
         null,
         null,
         null,
         null,
         null,
         null,
         null,
         null,
         null,
         null,
         null,
         null,
         null,
         null,
         null,
         null,
         null,
         null,
         null,
         null,
         null,
         null,
         null,
         null,
         null,
         null,
         null,
         null,
         null,
         "0.0",
         "0.0",
         "0.0",
         "0.0",
         "0.0",
         "0.0",
         "0.0",
         "0.0",
         "0.0",
         "0.0",
         "Metabolic",
         "Metabolic"
        ],
        [
         "3",
         "79267",
         "46918",
         "118",
         "0",
         "81.0",
         "22.64",
         "1",
         "Caucasian",
         "F",
         "165.1",
         "Operating Room",
         "Operating Room / Recovery",
         "92",
         "admit",
         "CTICU",
         "0.000694444",
         "0",
         "61.7",
         null,
         "203.0",
         "1206.03",
         "1",
         "0.0",
         null,
         null,
         null,
         "0.6",
         "4.0",
         "6.0",
         "0.0",
         "5.0",
         "185.0",
         "114.0",
         "25.9",
         "1.0",
         "60.0",
         "30.0",
         "30.0",
         "142.0",
         "7.39",
         "4.0",
         null,
         "34.8",
         null,
         "1.0",
         "8.0",
         "62.0",
         "30.0",
         "48.0",
         "42.0",
         "48.0",
         "42.0",
         "116.0",
         "92.0",
         "92.0",
         "52.0",
         "84.0",
         "84.0",
         "84.0",
         "84.0",
         "23.0",
         "7.0",
         "100.0",
         "95.0",
         "164.0",
         "78.0",
         "158.0",
         "84.0",
         "158.0",
         "84.0",
         "38.0",
         "34.8",
         "62.0",
         "44.0",
         "62.0",
         "44.0",
         null,
         null,
         "100.0",
         "96.0",
         "92.0",
         "71.0",
         "92.0",
         "71.0",
         null,
         null,
         "12.0",
         "11.0",
         "100.0",
         "99.0",
         "136.0",
         "106.0",
         "136.0",
         "106.0",
         null,
         null,
         "35.6",
         "34.8",
         null,
         null,
         null,
         null,
         null,
         null,
         null,
         null,
         null,
         null,
         "185.0",
         "88.0",
         null,
         null,
         "11.6",
         "8.9",
         "34.0",
         "25.9",
         "1.6",
         "1.1",
         null,
         null,
         "198.0",
         "43.0",
         "5.0",
         "3.5",
         null,
         null,
         "9.0",
         "8.0",
         null,
         null,
         null,
         null,
         null,
         null,
         null,
         null,
         null,
         null,
         null,
         null,
         null,
         null,
         "11.6",
         "11.6",
         "34.0",
         "34.0",
         "1.6",
         "1.1",
         null,
         null,
         "43.0",
         "43.0",
         null,
         null,
         null,
         null,
         "8.8",
         "8.8",
         "37.0",
         "27.0",
         "7.44",
         "7.34",
         "337.0",
         "102.0",
         "342.5",
         "236.6666667",
         "36.0",
         "33.0",
         "7.37",
         "7.34",
         "337.0",
         "265.0",
         "337.0",
         "337.0",
         "0.04",
         "0.03",
         "0.0",
         "0.0",
         "0.0",
         "0.0",
         "0.0",
         "0.0",
         "0.0",
         "0.0",
         "Cardiovascular",
         "Cardiovascular"
        ],
        [
         "4",
         "92056",
         "34377",
         "33",
         "0",
         "19.0",
         null,
         "0",
         "Caucasian",
         "M",
         "188.0",
         null,
         "Accident & Emergency",
         "91",
         "admit",
         "Med-Surg ICU",
         "0.073611111",
         "0",
         null,
         null,
         "119.0",
         "601.01",
         "0",
         "0.0",
         null,
         null,
         null,
         null,
         null,
         null,
         null,
         null,
         null,
         "60.0",
         null,
         "0.0",
         "103.0",
         null,
         null,
         null,
         null,
         "16.0",
         null,
         "36.7",
         null,
         "0.0",
         null,
         null,
         null,
         "99.0",
         "57.0",
         "99.0",
         "57.0",
         "89.0",
         "60.0",
         null,
         null,
         "104.0",
         "90.0",
         "104.0",
         "90.0",
         "18.0",
         "16.0",
         "100.0",
         "96.0",
         null,
         null,
         "147.0",
         "120.0",
         "147.0",
         "120.0",
         "37.2",
         "36.7",
         null,
         null,
         "99.0",
         "68.0",
         "99.0",
         "68.0",
         "89.0",
         "76.0",
         null,
         null,
         "104.0",
         "92.0",
         "104.0",
         "92.0",
         null,
         null,
         "100.0",
         "100.0",
         null,
         null,
         "130.0",
         "120.0",
         "130.0",
         "120.0",
         null,
         null,
         null,
         null,
         null,
         null,
         null,
         null,
         null,
         null,
         null,
         null,
         null,
         null,
         null,
         null,
         null,
         null,
         null,
         null,
         null,
         null,
         null,
         null,
         null,
         null,
         null,
         null,
         null,
         null,
         null,
         null,
         null,
         null,
         null,
         null,
         null,
         null,
         null,
         null,
         null,
         null,
         null,
         null,
         null,
         null,
         null,
         null,
         null,
         null,
         null,
         null,
         null,
         null,
         null,
         null,
         null,
         null,
         null,
         null,
         null,
         null,
         null,
         null,
         null,
         null,
         null,
         null,
         null,
         null,
         null,
         null,
         null,
         null,
         null,
         null,
         null,
         null,
         null,
         null,
         "0.0",
         "0.0",
         "0.0",
         "0.0",
         "0.0",
         "0.0",
         "0.0",
         "0.0",
         "Trauma",
         "Trauma"
        ]
       ],
       "shape": {
        "columns": 186,
        "rows": 5
       }
      },
      "text/html": [
       "<div>\n",
       "<style scoped>\n",
       "    .dataframe tbody tr th:only-of-type {\n",
       "        vertical-align: middle;\n",
       "    }\n",
       "\n",
       "    .dataframe tbody tr th {\n",
       "        vertical-align: top;\n",
       "    }\n",
       "\n",
       "    .dataframe thead th {\n",
       "        text-align: right;\n",
       "    }\n",
       "</style>\n",
       "<table border=\"1\" class=\"dataframe\">\n",
       "  <thead>\n",
       "    <tr style=\"text-align: right;\">\n",
       "      <th></th>\n",
       "      <th>encounter_id</th>\n",
       "      <th>patient_id</th>\n",
       "      <th>hospital_id</th>\n",
       "      <th>hospital_death</th>\n",
       "      <th>age</th>\n",
       "      <th>bmi</th>\n",
       "      <th>elective_surgery</th>\n",
       "      <th>ethnicity</th>\n",
       "      <th>gender</th>\n",
       "      <th>height</th>\n",
       "      <th>...</th>\n",
       "      <th>aids</th>\n",
       "      <th>cirrhosis</th>\n",
       "      <th>diabetes_mellitus</th>\n",
       "      <th>hepatic_failure</th>\n",
       "      <th>immunosuppression</th>\n",
       "      <th>leukemia</th>\n",
       "      <th>lymphoma</th>\n",
       "      <th>solid_tumor_with_metastasis</th>\n",
       "      <th>apache_3j_bodysystem</th>\n",
       "      <th>apache_2_bodysystem</th>\n",
       "    </tr>\n",
       "  </thead>\n",
       "  <tbody>\n",
       "    <tr>\n",
       "      <th>0</th>\n",
       "      <td>66154</td>\n",
       "      <td>25312</td>\n",
       "      <td>118</td>\n",
       "      <td>0</td>\n",
       "      <td>68.0</td>\n",
       "      <td>22.73</td>\n",
       "      <td>0</td>\n",
       "      <td>Caucasian</td>\n",
       "      <td>M</td>\n",
       "      <td>180.3</td>\n",
       "      <td>...</td>\n",
       "      <td>0.0</td>\n",
       "      <td>0.0</td>\n",
       "      <td>1.0</td>\n",
       "      <td>0.0</td>\n",
       "      <td>0.0</td>\n",
       "      <td>0.0</td>\n",
       "      <td>0.0</td>\n",
       "      <td>0.0</td>\n",
       "      <td>Sepsis</td>\n",
       "      <td>Cardiovascular</td>\n",
       "    </tr>\n",
       "    <tr>\n",
       "      <th>1</th>\n",
       "      <td>114252</td>\n",
       "      <td>59342</td>\n",
       "      <td>81</td>\n",
       "      <td>0</td>\n",
       "      <td>77.0</td>\n",
       "      <td>27.42</td>\n",
       "      <td>0</td>\n",
       "      <td>Caucasian</td>\n",
       "      <td>F</td>\n",
       "      <td>160.0</td>\n",
       "      <td>...</td>\n",
       "      <td>0.0</td>\n",
       "      <td>0.0</td>\n",
       "      <td>1.0</td>\n",
       "      <td>0.0</td>\n",
       "      <td>0.0</td>\n",
       "      <td>0.0</td>\n",
       "      <td>0.0</td>\n",
       "      <td>0.0</td>\n",
       "      <td>Respiratory</td>\n",
       "      <td>Respiratory</td>\n",
       "    </tr>\n",
       "    <tr>\n",
       "      <th>2</th>\n",
       "      <td>119783</td>\n",
       "      <td>50777</td>\n",
       "      <td>118</td>\n",
       "      <td>0</td>\n",
       "      <td>25.0</td>\n",
       "      <td>31.95</td>\n",
       "      <td>0</td>\n",
       "      <td>Caucasian</td>\n",
       "      <td>F</td>\n",
       "      <td>172.7</td>\n",
       "      <td>...</td>\n",
       "      <td>0.0</td>\n",
       "      <td>0.0</td>\n",
       "      <td>0.0</td>\n",
       "      <td>0.0</td>\n",
       "      <td>0.0</td>\n",
       "      <td>0.0</td>\n",
       "      <td>0.0</td>\n",
       "      <td>0.0</td>\n",
       "      <td>Metabolic</td>\n",
       "      <td>Metabolic</td>\n",
       "    </tr>\n",
       "    <tr>\n",
       "      <th>3</th>\n",
       "      <td>79267</td>\n",
       "      <td>46918</td>\n",
       "      <td>118</td>\n",
       "      <td>0</td>\n",
       "      <td>81.0</td>\n",
       "      <td>22.64</td>\n",
       "      <td>1</td>\n",
       "      <td>Caucasian</td>\n",
       "      <td>F</td>\n",
       "      <td>165.1</td>\n",
       "      <td>...</td>\n",
       "      <td>0.0</td>\n",
       "      <td>0.0</td>\n",
       "      <td>0.0</td>\n",
       "      <td>0.0</td>\n",
       "      <td>0.0</td>\n",
       "      <td>0.0</td>\n",
       "      <td>0.0</td>\n",
       "      <td>0.0</td>\n",
       "      <td>Cardiovascular</td>\n",
       "      <td>Cardiovascular</td>\n",
       "    </tr>\n",
       "    <tr>\n",
       "      <th>4</th>\n",
       "      <td>92056</td>\n",
       "      <td>34377</td>\n",
       "      <td>33</td>\n",
       "      <td>0</td>\n",
       "      <td>19.0</td>\n",
       "      <td>NaN</td>\n",
       "      <td>0</td>\n",
       "      <td>Caucasian</td>\n",
       "      <td>M</td>\n",
       "      <td>188.0</td>\n",
       "      <td>...</td>\n",
       "      <td>0.0</td>\n",
       "      <td>0.0</td>\n",
       "      <td>0.0</td>\n",
       "      <td>0.0</td>\n",
       "      <td>0.0</td>\n",
       "      <td>0.0</td>\n",
       "      <td>0.0</td>\n",
       "      <td>0.0</td>\n",
       "      <td>Trauma</td>\n",
       "      <td>Trauma</td>\n",
       "    </tr>\n",
       "  </tbody>\n",
       "</table>\n",
       "<p>5 rows × 186 columns</p>\n",
       "</div>"
      ],
      "text/plain": [
       "   encounter_id  patient_id  hospital_id  hospital_death   age    bmi  \\\n",
       "0         66154       25312          118               0  68.0  22.73   \n",
       "1        114252       59342           81               0  77.0  27.42   \n",
       "2        119783       50777          118               0  25.0  31.95   \n",
       "3         79267       46918          118               0  81.0  22.64   \n",
       "4         92056       34377           33               0  19.0    NaN   \n",
       "\n",
       "   elective_surgery  ethnicity gender  height  ... aids cirrhosis  \\\n",
       "0                 0  Caucasian      M   180.3  ...  0.0       0.0   \n",
       "1                 0  Caucasian      F   160.0  ...  0.0       0.0   \n",
       "2                 0  Caucasian      F   172.7  ...  0.0       0.0   \n",
       "3                 1  Caucasian      F   165.1  ...  0.0       0.0   \n",
       "4                 0  Caucasian      M   188.0  ...  0.0       0.0   \n",
       "\n",
       "   diabetes_mellitus hepatic_failure immunosuppression  leukemia  lymphoma  \\\n",
       "0                1.0             0.0               0.0       0.0       0.0   \n",
       "1                1.0             0.0               0.0       0.0       0.0   \n",
       "2                0.0             0.0               0.0       0.0       0.0   \n",
       "3                0.0             0.0               0.0       0.0       0.0   \n",
       "4                0.0             0.0               0.0       0.0       0.0   \n",
       "\n",
       "   solid_tumor_with_metastasis  apache_3j_bodysystem  apache_2_bodysystem  \n",
       "0                          0.0                Sepsis       Cardiovascular  \n",
       "1                          0.0           Respiratory          Respiratory  \n",
       "2                          0.0             Metabolic            Metabolic  \n",
       "3                          0.0        Cardiovascular       Cardiovascular  \n",
       "4                          0.0                Trauma               Trauma  \n",
       "\n",
       "[5 rows x 186 columns]"
      ]
     },
     "execution_count": 2,
     "metadata": {},
     "output_type": "execute_result"
    }
   ],
   "source": [
    "# description\n",
    "description = pd.read_csv('WiDS_Datathon_2020_Dictionary.csv')\n",
    "description_dict = description.set_index('Variable Name').to_dict(orient='index')\n",
    "# data\n",
    "df = pd.read_csv('training_v2.csv')\n",
    "# drop sensitive features\n",
    "# df = df.drop(columns=['age', 'ethnicity', 'gender'])\n",
    "df.head()"
   ]
  },
  {
   "cell_type": "code",
   "execution_count": 3,
   "metadata": {},
   "outputs": [],
   "source": [
    "test_size = 0.2 # proportion for train versus test+val split\n",
    "val_size = 0.5 # proportion for test versus val split\n",
    "random_state = 42  # random state is used to set a seed for randomness, which is only relevant for reproducibility purposes\n",
    "max_missing = 0.7  # maximum percentage of missing values for a column to be dropped"
   ]
  },
  {
   "cell_type": "code",
   "execution_count": 4,
   "metadata": {},
   "outputs": [],
   "source": [
    "class DropHighlyCorrelatedFeatures(BaseEstimator, TransformerMixin):\n",
    "    def __init__(self, threshold=0.8):\n",
    "        self.threshold = threshold\n",
    "        self.features_to_drop = None\n",
    "\n",
    "    def fit(self, X, y=None):\n",
    "        # Calculate the correlation matrix\n",
    "        X = pd.DataFrame(X)\n",
    "        corr_matrix = X.corr()\n",
    "\n",
    "        # Find pairs of features that are highly correlated\n",
    "        highly_correlated = [(i, j) for i in corr_matrix.columns for j in corr_matrix.columns if (corr_matrix.loc[i, j] > self.threshold) and (i != j)]\n",
    "\n",
    "        # Remove one feature from each highly correlated pair\n",
    "        self.features_to_drop = set()\n",
    "        for i, j in highly_correlated:\n",
    "            if i not in self.features_to_drop and j not in self.features_to_drop:\n",
    "                self.features_to_drop.add(j)\n",
    "\n",
    "        return self\n",
    "\n",
    "    def transform(self, X):\n",
    "        # Drop the highly correlated features\n",
    "        X = pd.DataFrame(X)\n",
    "        X_reduced = X.drop(columns=self.features_to_drop)\n",
    "        return X_reduced\n",
    "\n",
    "    def get_feature_names_out(self, input_features=None):\n",
    "        new_features = []\n",
    "        for i, feature in enumerate(input_features):\n",
    "            if i not in self.features_to_drop:\n",
    "                new_features.append(feature)\n",
    "        return np.array(new_features)"
   ]
  },
  {
   "cell_type": "code",
   "execution_count": 5,
   "metadata": {},
   "outputs": [
    {
     "data": {
      "text/html": [
       "<style>#sk-container-id-1 {\n",
       "  /* Definition of color scheme common for light and dark mode */\n",
       "  --sklearn-color-text: #000;\n",
       "  --sklearn-color-text-muted: #666;\n",
       "  --sklearn-color-line: gray;\n",
       "  /* Definition of color scheme for unfitted estimators */\n",
       "  --sklearn-color-unfitted-level-0: #fff5e6;\n",
       "  --sklearn-color-unfitted-level-1: #f6e4d2;\n",
       "  --sklearn-color-unfitted-level-2: #ffe0b3;\n",
       "  --sklearn-color-unfitted-level-3: chocolate;\n",
       "  /* Definition of color scheme for fitted estimators */\n",
       "  --sklearn-color-fitted-level-0: #f0f8ff;\n",
       "  --sklearn-color-fitted-level-1: #d4ebff;\n",
       "  --sklearn-color-fitted-level-2: #b3dbfd;\n",
       "  --sklearn-color-fitted-level-3: cornflowerblue;\n",
       "\n",
       "  /* Specific color for light theme */\n",
       "  --sklearn-color-text-on-default-background: var(--sg-text-color, var(--theme-code-foreground, var(--jp-content-font-color1, black)));\n",
       "  --sklearn-color-background: var(--sg-background-color, var(--theme-background, var(--jp-layout-color0, white)));\n",
       "  --sklearn-color-border-box: var(--sg-text-color, var(--theme-code-foreground, var(--jp-content-font-color1, black)));\n",
       "  --sklearn-color-icon: #696969;\n",
       "\n",
       "  @media (prefers-color-scheme: dark) {\n",
       "    /* Redefinition of color scheme for dark theme */\n",
       "    --sklearn-color-text-on-default-background: var(--sg-text-color, var(--theme-code-foreground, var(--jp-content-font-color1, white)));\n",
       "    --sklearn-color-background: var(--sg-background-color, var(--theme-background, var(--jp-layout-color0, #111)));\n",
       "    --sklearn-color-border-box: var(--sg-text-color, var(--theme-code-foreground, var(--jp-content-font-color1, white)));\n",
       "    --sklearn-color-icon: #878787;\n",
       "  }\n",
       "}\n",
       "\n",
       "#sk-container-id-1 {\n",
       "  color: var(--sklearn-color-text);\n",
       "}\n",
       "\n",
       "#sk-container-id-1 pre {\n",
       "  padding: 0;\n",
       "}\n",
       "\n",
       "#sk-container-id-1 input.sk-hidden--visually {\n",
       "  border: 0;\n",
       "  clip: rect(1px 1px 1px 1px);\n",
       "  clip: rect(1px, 1px, 1px, 1px);\n",
       "  height: 1px;\n",
       "  margin: -1px;\n",
       "  overflow: hidden;\n",
       "  padding: 0;\n",
       "  position: absolute;\n",
       "  width: 1px;\n",
       "}\n",
       "\n",
       "#sk-container-id-1 div.sk-dashed-wrapped {\n",
       "  border: 1px dashed var(--sklearn-color-line);\n",
       "  margin: 0 0.4em 0.5em 0.4em;\n",
       "  box-sizing: border-box;\n",
       "  padding-bottom: 0.4em;\n",
       "  background-color: var(--sklearn-color-background);\n",
       "}\n",
       "\n",
       "#sk-container-id-1 div.sk-container {\n",
       "  /* jupyter's `normalize.less` sets `[hidden] { display: none; }`\n",
       "     but bootstrap.min.css set `[hidden] { display: none !important; }`\n",
       "     so we also need the `!important` here to be able to override the\n",
       "     default hidden behavior on the sphinx rendered scikit-learn.org.\n",
       "     See: https://github.com/scikit-learn/scikit-learn/issues/21755 */\n",
       "  display: inline-block !important;\n",
       "  position: relative;\n",
       "}\n",
       "\n",
       "#sk-container-id-1 div.sk-text-repr-fallback {\n",
       "  display: none;\n",
       "}\n",
       "\n",
       "div.sk-parallel-item,\n",
       "div.sk-serial,\n",
       "div.sk-item {\n",
       "  /* draw centered vertical line to link estimators */\n",
       "  background-image: linear-gradient(var(--sklearn-color-text-on-default-background), var(--sklearn-color-text-on-default-background));\n",
       "  background-size: 2px 100%;\n",
       "  background-repeat: no-repeat;\n",
       "  background-position: center center;\n",
       "}\n",
       "\n",
       "/* Parallel-specific style estimator block */\n",
       "\n",
       "#sk-container-id-1 div.sk-parallel-item::after {\n",
       "  content: \"\";\n",
       "  width: 100%;\n",
       "  border-bottom: 2px solid var(--sklearn-color-text-on-default-background);\n",
       "  flex-grow: 1;\n",
       "}\n",
       "\n",
       "#sk-container-id-1 div.sk-parallel {\n",
       "  display: flex;\n",
       "  align-items: stretch;\n",
       "  justify-content: center;\n",
       "  background-color: var(--sklearn-color-background);\n",
       "  position: relative;\n",
       "}\n",
       "\n",
       "#sk-container-id-1 div.sk-parallel-item {\n",
       "  display: flex;\n",
       "  flex-direction: column;\n",
       "}\n",
       "\n",
       "#sk-container-id-1 div.sk-parallel-item:first-child::after {\n",
       "  align-self: flex-end;\n",
       "  width: 50%;\n",
       "}\n",
       "\n",
       "#sk-container-id-1 div.sk-parallel-item:last-child::after {\n",
       "  align-self: flex-start;\n",
       "  width: 50%;\n",
       "}\n",
       "\n",
       "#sk-container-id-1 div.sk-parallel-item:only-child::after {\n",
       "  width: 0;\n",
       "}\n",
       "\n",
       "/* Serial-specific style estimator block */\n",
       "\n",
       "#sk-container-id-1 div.sk-serial {\n",
       "  display: flex;\n",
       "  flex-direction: column;\n",
       "  align-items: center;\n",
       "  background-color: var(--sklearn-color-background);\n",
       "  padding-right: 1em;\n",
       "  padding-left: 1em;\n",
       "}\n",
       "\n",
       "\n",
       "/* Toggleable style: style used for estimator/Pipeline/ColumnTransformer box that is\n",
       "clickable and can be expanded/collapsed.\n",
       "- Pipeline and ColumnTransformer use this feature and define the default style\n",
       "- Estimators will overwrite some part of the style using the `sk-estimator` class\n",
       "*/\n",
       "\n",
       "/* Pipeline and ColumnTransformer style (default) */\n",
       "\n",
       "#sk-container-id-1 div.sk-toggleable {\n",
       "  /* Default theme specific background. It is overwritten whether we have a\n",
       "  specific estimator or a Pipeline/ColumnTransformer */\n",
       "  background-color: var(--sklearn-color-background);\n",
       "}\n",
       "\n",
       "/* Toggleable label */\n",
       "#sk-container-id-1 label.sk-toggleable__label {\n",
       "  cursor: pointer;\n",
       "  display: flex;\n",
       "  width: 100%;\n",
       "  margin-bottom: 0;\n",
       "  padding: 0.5em;\n",
       "  box-sizing: border-box;\n",
       "  text-align: center;\n",
       "  align-items: start;\n",
       "  justify-content: space-between;\n",
       "  gap: 0.5em;\n",
       "}\n",
       "\n",
       "#sk-container-id-1 label.sk-toggleable__label .caption {\n",
       "  font-size: 0.6rem;\n",
       "  font-weight: lighter;\n",
       "  color: var(--sklearn-color-text-muted);\n",
       "}\n",
       "\n",
       "#sk-container-id-1 label.sk-toggleable__label-arrow:before {\n",
       "  /* Arrow on the left of the label */\n",
       "  content: \"▸\";\n",
       "  float: left;\n",
       "  margin-right: 0.25em;\n",
       "  color: var(--sklearn-color-icon);\n",
       "}\n",
       "\n",
       "#sk-container-id-1 label.sk-toggleable__label-arrow:hover:before {\n",
       "  color: var(--sklearn-color-text);\n",
       "}\n",
       "\n",
       "/* Toggleable content - dropdown */\n",
       "\n",
       "#sk-container-id-1 div.sk-toggleable__content {\n",
       "  max-height: 0;\n",
       "  max-width: 0;\n",
       "  overflow: hidden;\n",
       "  text-align: left;\n",
       "  /* unfitted */\n",
       "  background-color: var(--sklearn-color-unfitted-level-0);\n",
       "}\n",
       "\n",
       "#sk-container-id-1 div.sk-toggleable__content.fitted {\n",
       "  /* fitted */\n",
       "  background-color: var(--sklearn-color-fitted-level-0);\n",
       "}\n",
       "\n",
       "#sk-container-id-1 div.sk-toggleable__content pre {\n",
       "  margin: 0.2em;\n",
       "  border-radius: 0.25em;\n",
       "  color: var(--sklearn-color-text);\n",
       "  /* unfitted */\n",
       "  background-color: var(--sklearn-color-unfitted-level-0);\n",
       "}\n",
       "\n",
       "#sk-container-id-1 div.sk-toggleable__content.fitted pre {\n",
       "  /* unfitted */\n",
       "  background-color: var(--sklearn-color-fitted-level-0);\n",
       "}\n",
       "\n",
       "#sk-container-id-1 input.sk-toggleable__control:checked~div.sk-toggleable__content {\n",
       "  /* Expand drop-down */\n",
       "  max-height: 200px;\n",
       "  max-width: 100%;\n",
       "  overflow: auto;\n",
       "}\n",
       "\n",
       "#sk-container-id-1 input.sk-toggleable__control:checked~label.sk-toggleable__label-arrow:before {\n",
       "  content: \"▾\";\n",
       "}\n",
       "\n",
       "/* Pipeline/ColumnTransformer-specific style */\n",
       "\n",
       "#sk-container-id-1 div.sk-label input.sk-toggleable__control:checked~label.sk-toggleable__label {\n",
       "  color: var(--sklearn-color-text);\n",
       "  background-color: var(--sklearn-color-unfitted-level-2);\n",
       "}\n",
       "\n",
       "#sk-container-id-1 div.sk-label.fitted input.sk-toggleable__control:checked~label.sk-toggleable__label {\n",
       "  background-color: var(--sklearn-color-fitted-level-2);\n",
       "}\n",
       "\n",
       "/* Estimator-specific style */\n",
       "\n",
       "/* Colorize estimator box */\n",
       "#sk-container-id-1 div.sk-estimator input.sk-toggleable__control:checked~label.sk-toggleable__label {\n",
       "  /* unfitted */\n",
       "  background-color: var(--sklearn-color-unfitted-level-2);\n",
       "}\n",
       "\n",
       "#sk-container-id-1 div.sk-estimator.fitted input.sk-toggleable__control:checked~label.sk-toggleable__label {\n",
       "  /* fitted */\n",
       "  background-color: var(--sklearn-color-fitted-level-2);\n",
       "}\n",
       "\n",
       "#sk-container-id-1 div.sk-label label.sk-toggleable__label,\n",
       "#sk-container-id-1 div.sk-label label {\n",
       "  /* The background is the default theme color */\n",
       "  color: var(--sklearn-color-text-on-default-background);\n",
       "}\n",
       "\n",
       "/* On hover, darken the color of the background */\n",
       "#sk-container-id-1 div.sk-label:hover label.sk-toggleable__label {\n",
       "  color: var(--sklearn-color-text);\n",
       "  background-color: var(--sklearn-color-unfitted-level-2);\n",
       "}\n",
       "\n",
       "/* Label box, darken color on hover, fitted */\n",
       "#sk-container-id-1 div.sk-label.fitted:hover label.sk-toggleable__label.fitted {\n",
       "  color: var(--sklearn-color-text);\n",
       "  background-color: var(--sklearn-color-fitted-level-2);\n",
       "}\n",
       "\n",
       "/* Estimator label */\n",
       "\n",
       "#sk-container-id-1 div.sk-label label {\n",
       "  font-family: monospace;\n",
       "  font-weight: bold;\n",
       "  display: inline-block;\n",
       "  line-height: 1.2em;\n",
       "}\n",
       "\n",
       "#sk-container-id-1 div.sk-label-container {\n",
       "  text-align: center;\n",
       "}\n",
       "\n",
       "/* Estimator-specific */\n",
       "#sk-container-id-1 div.sk-estimator {\n",
       "  font-family: monospace;\n",
       "  border: 1px dotted var(--sklearn-color-border-box);\n",
       "  border-radius: 0.25em;\n",
       "  box-sizing: border-box;\n",
       "  margin-bottom: 0.5em;\n",
       "  /* unfitted */\n",
       "  background-color: var(--sklearn-color-unfitted-level-0);\n",
       "}\n",
       "\n",
       "#sk-container-id-1 div.sk-estimator.fitted {\n",
       "  /* fitted */\n",
       "  background-color: var(--sklearn-color-fitted-level-0);\n",
       "}\n",
       "\n",
       "/* on hover */\n",
       "#sk-container-id-1 div.sk-estimator:hover {\n",
       "  /* unfitted */\n",
       "  background-color: var(--sklearn-color-unfitted-level-2);\n",
       "}\n",
       "\n",
       "#sk-container-id-1 div.sk-estimator.fitted:hover {\n",
       "  /* fitted */\n",
       "  background-color: var(--sklearn-color-fitted-level-2);\n",
       "}\n",
       "\n",
       "/* Specification for estimator info (e.g. \"i\" and \"?\") */\n",
       "\n",
       "/* Common style for \"i\" and \"?\" */\n",
       "\n",
       ".sk-estimator-doc-link,\n",
       "a:link.sk-estimator-doc-link,\n",
       "a:visited.sk-estimator-doc-link {\n",
       "  float: right;\n",
       "  font-size: smaller;\n",
       "  line-height: 1em;\n",
       "  font-family: monospace;\n",
       "  background-color: var(--sklearn-color-background);\n",
       "  border-radius: 1em;\n",
       "  height: 1em;\n",
       "  width: 1em;\n",
       "  text-decoration: none !important;\n",
       "  margin-left: 0.5em;\n",
       "  text-align: center;\n",
       "  /* unfitted */\n",
       "  border: var(--sklearn-color-unfitted-level-1) 1pt solid;\n",
       "  color: var(--sklearn-color-unfitted-level-1);\n",
       "}\n",
       "\n",
       ".sk-estimator-doc-link.fitted,\n",
       "a:link.sk-estimator-doc-link.fitted,\n",
       "a:visited.sk-estimator-doc-link.fitted {\n",
       "  /* fitted */\n",
       "  border: var(--sklearn-color-fitted-level-1) 1pt solid;\n",
       "  color: var(--sklearn-color-fitted-level-1);\n",
       "}\n",
       "\n",
       "/* On hover */\n",
       "div.sk-estimator:hover .sk-estimator-doc-link:hover,\n",
       ".sk-estimator-doc-link:hover,\n",
       "div.sk-label-container:hover .sk-estimator-doc-link:hover,\n",
       ".sk-estimator-doc-link:hover {\n",
       "  /* unfitted */\n",
       "  background-color: var(--sklearn-color-unfitted-level-3);\n",
       "  color: var(--sklearn-color-background);\n",
       "  text-decoration: none;\n",
       "}\n",
       "\n",
       "div.sk-estimator.fitted:hover .sk-estimator-doc-link.fitted:hover,\n",
       ".sk-estimator-doc-link.fitted:hover,\n",
       "div.sk-label-container:hover .sk-estimator-doc-link.fitted:hover,\n",
       ".sk-estimator-doc-link.fitted:hover {\n",
       "  /* fitted */\n",
       "  background-color: var(--sklearn-color-fitted-level-3);\n",
       "  color: var(--sklearn-color-background);\n",
       "  text-decoration: none;\n",
       "}\n",
       "\n",
       "/* Span, style for the box shown on hovering the info icon */\n",
       ".sk-estimator-doc-link span {\n",
       "  display: none;\n",
       "  z-index: 9999;\n",
       "  position: relative;\n",
       "  font-weight: normal;\n",
       "  right: .2ex;\n",
       "  padding: .5ex;\n",
       "  margin: .5ex;\n",
       "  width: min-content;\n",
       "  min-width: 20ex;\n",
       "  max-width: 50ex;\n",
       "  color: var(--sklearn-color-text);\n",
       "  box-shadow: 2pt 2pt 4pt #999;\n",
       "  /* unfitted */\n",
       "  background: var(--sklearn-color-unfitted-level-0);\n",
       "  border: .5pt solid var(--sklearn-color-unfitted-level-3);\n",
       "}\n",
       "\n",
       ".sk-estimator-doc-link.fitted span {\n",
       "  /* fitted */\n",
       "  background: var(--sklearn-color-fitted-level-0);\n",
       "  border: var(--sklearn-color-fitted-level-3);\n",
       "}\n",
       "\n",
       ".sk-estimator-doc-link:hover span {\n",
       "  display: block;\n",
       "}\n",
       "\n",
       "/* \"?\"-specific style due to the `<a>` HTML tag */\n",
       "\n",
       "#sk-container-id-1 a.estimator_doc_link {\n",
       "  float: right;\n",
       "  font-size: 1rem;\n",
       "  line-height: 1em;\n",
       "  font-family: monospace;\n",
       "  background-color: var(--sklearn-color-background);\n",
       "  border-radius: 1rem;\n",
       "  height: 1rem;\n",
       "  width: 1rem;\n",
       "  text-decoration: none;\n",
       "  /* unfitted */\n",
       "  color: var(--sklearn-color-unfitted-level-1);\n",
       "  border: var(--sklearn-color-unfitted-level-1) 1pt solid;\n",
       "}\n",
       "\n",
       "#sk-container-id-1 a.estimator_doc_link.fitted {\n",
       "  /* fitted */\n",
       "  border: var(--sklearn-color-fitted-level-1) 1pt solid;\n",
       "  color: var(--sklearn-color-fitted-level-1);\n",
       "}\n",
       "\n",
       "/* On hover */\n",
       "#sk-container-id-1 a.estimator_doc_link:hover {\n",
       "  /* unfitted */\n",
       "  background-color: var(--sklearn-color-unfitted-level-3);\n",
       "  color: var(--sklearn-color-background);\n",
       "  text-decoration: none;\n",
       "}\n",
       "\n",
       "#sk-container-id-1 a.estimator_doc_link.fitted:hover {\n",
       "  /* fitted */\n",
       "  background-color: var(--sklearn-color-fitted-level-3);\n",
       "}\n",
       "</style><div id=\"sk-container-id-1\" class=\"sk-top-container\"><div class=\"sk-text-repr-fallback\"><pre>ColumnTransformer(transformers=[(&#x27;num&#x27;,\n",
       "                                 Pipeline(steps=[(&#x27;constant&#x27;,\n",
       "                                                  VarianceThreshold()),\n",
       "                                                 (&#x27;drop_correlated&#x27;,\n",
       "                                                  DropHighlyCorrelatedFeatures()),\n",
       "                                                 (&#x27;imputer&#x27;, SimpleImputer()),\n",
       "                                                 (&#x27;scaling&#x27;,\n",
       "                                                  RobustScaler(quantile_range=(10,\n",
       "                                                                               90)))]),\n",
       "                                 &lt;sklearn.compose._column_transformer.make_column_selector object at 0x15974f6a0&gt;),\n",
       "                                (&#x27;cat&#x27;,\n",
       "                                 Pipeline(steps=[(&#x27;imputer&#x27;,\n",
       "                                                  SimpleImputer(fill_value=&#x27;MISSING&#x27;,\n",
       "                                                                strategy=&#x27;constant&#x27;)),\n",
       "                                                 (&#x27;encoder&#x27;,\n",
       "                                                  OneHotEncoder(drop=&#x27;first&#x27;,\n",
       "                                                                handle_unknown=&#x27;ignore&#x27;,\n",
       "                                                                sparse_output=False)),\n",
       "                                                 (&#x27;constant&#x27;,\n",
       "                                                  VarianceThreshold())]),\n",
       "                                 &lt;sklearn.compose._column_transformer.make_column_selector object at 0x15974dc30&gt;)])</pre><b>In a Jupyter environment, please rerun this cell to show the HTML representation or trust the notebook. <br />On GitHub, the HTML representation is unable to render, please try loading this page with nbviewer.org.</b></div><div class=\"sk-container\" hidden><div class=\"sk-item sk-dashed-wrapped\"><div class=\"sk-label-container\"><div class=\"sk-label fitted sk-toggleable\"><input class=\"sk-toggleable__control sk-hidden--visually\" id=\"sk-estimator-id-1\" type=\"checkbox\" ><label for=\"sk-estimator-id-1\" class=\"sk-toggleable__label fitted sk-toggleable__label-arrow\"><div><div>ColumnTransformer</div></div><div><a class=\"sk-estimator-doc-link fitted\" rel=\"noreferrer\" target=\"_blank\" href=\"https://scikit-learn.org/1.6/modules/generated/sklearn.compose.ColumnTransformer.html\">?<span>Documentation for ColumnTransformer</span></a><span class=\"sk-estimator-doc-link fitted\">i<span>Fitted</span></span></div></label><div class=\"sk-toggleable__content fitted\"><pre>ColumnTransformer(transformers=[(&#x27;num&#x27;,\n",
       "                                 Pipeline(steps=[(&#x27;constant&#x27;,\n",
       "                                                  VarianceThreshold()),\n",
       "                                                 (&#x27;drop_correlated&#x27;,\n",
       "                                                  DropHighlyCorrelatedFeatures()),\n",
       "                                                 (&#x27;imputer&#x27;, SimpleImputer()),\n",
       "                                                 (&#x27;scaling&#x27;,\n",
       "                                                  RobustScaler(quantile_range=(10,\n",
       "                                                                               90)))]),\n",
       "                                 &lt;sklearn.compose._column_transformer.make_column_selector object at 0x15974f6a0&gt;),\n",
       "                                (&#x27;cat&#x27;,\n",
       "                                 Pipeline(steps=[(&#x27;imputer&#x27;,\n",
       "                                                  SimpleImputer(fill_value=&#x27;MISSING&#x27;,\n",
       "                                                                strategy=&#x27;constant&#x27;)),\n",
       "                                                 (&#x27;encoder&#x27;,\n",
       "                                                  OneHotEncoder(drop=&#x27;first&#x27;,\n",
       "                                                                handle_unknown=&#x27;ignore&#x27;,\n",
       "                                                                sparse_output=False)),\n",
       "                                                 (&#x27;constant&#x27;,\n",
       "                                                  VarianceThreshold())]),\n",
       "                                 &lt;sklearn.compose._column_transformer.make_column_selector object at 0x15974dc30&gt;)])</pre></div> </div></div><div class=\"sk-parallel\"><div class=\"sk-parallel-item\"><div class=\"sk-item\"><div class=\"sk-label-container\"><div class=\"sk-label fitted sk-toggleable\"><input class=\"sk-toggleable__control sk-hidden--visually\" id=\"sk-estimator-id-2\" type=\"checkbox\" ><label for=\"sk-estimator-id-2\" class=\"sk-toggleable__label fitted sk-toggleable__label-arrow\"><div><div>num</div></div></label><div class=\"sk-toggleable__content fitted\"><pre>&lt;sklearn.compose._column_transformer.make_column_selector object at 0x15974f6a0&gt;</pre></div> </div></div><div class=\"sk-serial\"><div class=\"sk-item\"><div class=\"sk-serial\"><div class=\"sk-item\"><div class=\"sk-estimator fitted sk-toggleable\"><input class=\"sk-toggleable__control sk-hidden--visually\" id=\"sk-estimator-id-3\" type=\"checkbox\" ><label for=\"sk-estimator-id-3\" class=\"sk-toggleable__label fitted sk-toggleable__label-arrow\"><div><div>VarianceThreshold</div></div><div><a class=\"sk-estimator-doc-link fitted\" rel=\"noreferrer\" target=\"_blank\" href=\"https://scikit-learn.org/1.6/modules/generated/sklearn.feature_selection.VarianceThreshold.html\">?<span>Documentation for VarianceThreshold</span></a></div></label><div class=\"sk-toggleable__content fitted\"><pre>VarianceThreshold()</pre></div> </div></div><div class=\"sk-item\"><div class=\"sk-estimator fitted sk-toggleable\"><input class=\"sk-toggleable__control sk-hidden--visually\" id=\"sk-estimator-id-4\" type=\"checkbox\" ><label for=\"sk-estimator-id-4\" class=\"sk-toggleable__label fitted sk-toggleable__label-arrow\"><div><div>DropHighlyCorrelatedFeatures</div></div></label><div class=\"sk-toggleable__content fitted\"><pre>DropHighlyCorrelatedFeatures()</pre></div> </div></div><div class=\"sk-item\"><div class=\"sk-estimator fitted sk-toggleable\"><input class=\"sk-toggleable__control sk-hidden--visually\" id=\"sk-estimator-id-5\" type=\"checkbox\" ><label for=\"sk-estimator-id-5\" class=\"sk-toggleable__label fitted sk-toggleable__label-arrow\"><div><div>SimpleImputer</div></div><div><a class=\"sk-estimator-doc-link fitted\" rel=\"noreferrer\" target=\"_blank\" href=\"https://scikit-learn.org/1.6/modules/generated/sklearn.impute.SimpleImputer.html\">?<span>Documentation for SimpleImputer</span></a></div></label><div class=\"sk-toggleable__content fitted\"><pre>SimpleImputer()</pre></div> </div></div><div class=\"sk-item\"><div class=\"sk-estimator fitted sk-toggleable\"><input class=\"sk-toggleable__control sk-hidden--visually\" id=\"sk-estimator-id-6\" type=\"checkbox\" ><label for=\"sk-estimator-id-6\" class=\"sk-toggleable__label fitted sk-toggleable__label-arrow\"><div><div>RobustScaler</div></div><div><a class=\"sk-estimator-doc-link fitted\" rel=\"noreferrer\" target=\"_blank\" href=\"https://scikit-learn.org/1.6/modules/generated/sklearn.preprocessing.RobustScaler.html\">?<span>Documentation for RobustScaler</span></a></div></label><div class=\"sk-toggleable__content fitted\"><pre>RobustScaler(quantile_range=(10, 90))</pre></div> </div></div></div></div></div></div></div><div class=\"sk-parallel-item\"><div class=\"sk-item\"><div class=\"sk-label-container\"><div class=\"sk-label fitted sk-toggleable\"><input class=\"sk-toggleable__control sk-hidden--visually\" id=\"sk-estimator-id-7\" type=\"checkbox\" ><label for=\"sk-estimator-id-7\" class=\"sk-toggleable__label fitted sk-toggleable__label-arrow\"><div><div>cat</div></div></label><div class=\"sk-toggleable__content fitted\"><pre>&lt;sklearn.compose._column_transformer.make_column_selector object at 0x15974dc30&gt;</pre></div> </div></div><div class=\"sk-serial\"><div class=\"sk-item\"><div class=\"sk-serial\"><div class=\"sk-item\"><div class=\"sk-estimator fitted sk-toggleable\"><input class=\"sk-toggleable__control sk-hidden--visually\" id=\"sk-estimator-id-8\" type=\"checkbox\" ><label for=\"sk-estimator-id-8\" class=\"sk-toggleable__label fitted sk-toggleable__label-arrow\"><div><div>SimpleImputer</div></div><div><a class=\"sk-estimator-doc-link fitted\" rel=\"noreferrer\" target=\"_blank\" href=\"https://scikit-learn.org/1.6/modules/generated/sklearn.impute.SimpleImputer.html\">?<span>Documentation for SimpleImputer</span></a></div></label><div class=\"sk-toggleable__content fitted\"><pre>SimpleImputer(fill_value=&#x27;MISSING&#x27;, strategy=&#x27;constant&#x27;)</pre></div> </div></div><div class=\"sk-item\"><div class=\"sk-estimator fitted sk-toggleable\"><input class=\"sk-toggleable__control sk-hidden--visually\" id=\"sk-estimator-id-9\" type=\"checkbox\" ><label for=\"sk-estimator-id-9\" class=\"sk-toggleable__label fitted sk-toggleable__label-arrow\"><div><div>OneHotEncoder</div></div><div><a class=\"sk-estimator-doc-link fitted\" rel=\"noreferrer\" target=\"_blank\" href=\"https://scikit-learn.org/1.6/modules/generated/sklearn.preprocessing.OneHotEncoder.html\">?<span>Documentation for OneHotEncoder</span></a></div></label><div class=\"sk-toggleable__content fitted\"><pre>OneHotEncoder(drop=&#x27;first&#x27;, handle_unknown=&#x27;ignore&#x27;, sparse_output=False)</pre></div> </div></div><div class=\"sk-item\"><div class=\"sk-estimator fitted sk-toggleable\"><input class=\"sk-toggleable__control sk-hidden--visually\" id=\"sk-estimator-id-10\" type=\"checkbox\" ><label for=\"sk-estimator-id-10\" class=\"sk-toggleable__label fitted sk-toggleable__label-arrow\"><div><div>VarianceThreshold</div></div><div><a class=\"sk-estimator-doc-link fitted\" rel=\"noreferrer\" target=\"_blank\" href=\"https://scikit-learn.org/1.6/modules/generated/sklearn.feature_selection.VarianceThreshold.html\">?<span>Documentation for VarianceThreshold</span></a></div></label><div class=\"sk-toggleable__content fitted\"><pre>VarianceThreshold()</pre></div> </div></div></div></div></div></div></div></div></div></div></div>"
      ],
      "text/plain": [
       "ColumnTransformer(transformers=[('num',\n",
       "                                 Pipeline(steps=[('constant',\n",
       "                                                  VarianceThreshold()),\n",
       "                                                 ('drop_correlated',\n",
       "                                                  DropHighlyCorrelatedFeatures()),\n",
       "                                                 ('imputer', SimpleImputer()),\n",
       "                                                 ('scaling',\n",
       "                                                  RobustScaler(quantile_range=(10,\n",
       "                                                                               90)))]),\n",
       "                                 <sklearn.compose._column_transformer.make_column_selector object at 0x15974f6a0>),\n",
       "                                ('cat',\n",
       "                                 Pipeline(steps=[('imputer',\n",
       "                                                  SimpleImputer(fill_value='MISSING',\n",
       "                                                                strategy='constant')),\n",
       "                                                 ('encoder',\n",
       "                                                  OneHotEncoder(drop='first',\n",
       "                                                                handle_unknown='ignore',\n",
       "                                                                sparse_output=False)),\n",
       "                                                 ('constant',\n",
       "                                                  VarianceThreshold())]),\n",
       "                                 <sklearn.compose._column_transformer.make_column_selector object at 0x15974dc30>)])"
      ]
     },
     "metadata": {},
     "output_type": "display_data"
    },
    {
     "name": "stdout",
     "output_type": "stream",
     "text": [
      "Time: 2.28s\n",
      "Train set: 73370 rows, 108 columns\n",
      "Validation set: 9171 rows, 108 columns\n",
      "Test set: 9172 rows, 108 columns\n"
     ]
    }
   ],
   "source": [
    "start_time = time.time()\n",
    "\n",
    "# save features\n",
    "X = df.copy().drop(['hospital_death', 'patient_id', 'encounter_id', 'hospital_id', 'icu_id', # drop identifiers\n",
    "                    'apache_4a_hospital_death_prob', 'apache_4a_icu_death_prob', # drop APACHE scores\n",
    "                    'apache_2_bodysystem', # drop because of similarity with apache_3j_bodysystem\n",
    "                    'ethnicity', 'age', 'gender' # Check if can be dropped\n",
    "                    ],\n",
    "                   axis=1)\n",
    "# save target variable\n",
    "y = df['hospital_death'].copy()\n",
    "# save APACHE scores for later evaluation on train / test / validation data\n",
    "y_apache = df['apache_4a_hospital_death_prob'].copy()\n",
    "\n",
    "\"\"\" SPLIT DATA SET \"\"\"\n",
    "# split the dataset into train and test+validation set\n",
    "(\n",
    "    X_train,\n",
    "    X_test,\n",
    "    y_train,\n",
    "    y_test,\n",
    "    y_apache_train,\n",
    "    y_apache_test,\n",
    "    ) = train_test_split(X, y, y_apache, \n",
    "                         test_size=test_size, # used for testing and validation\n",
    "                         random_state=random_state # for reproducibility\n",
    "                        ) \n",
    "# split the test set into test + validation set\n",
    "(\n",
    "    X_val,\n",
    "    X_test,\n",
    "    y_val,\n",
    "    y_test,\n",
    "    y_apache_val,\n",
    "    y_apache_test,\n",
    "    ) = train_test_split(X_test, y_test, y_apache_test, \n",
    "                         test_size=val_size, # used for testing and validation\n",
    "                         random_state=random_state # for reproducibility\n",
    "                        ) \n",
    "\n",
    "\"\"\"MISSING VALUES\"\"\"\n",
    "# drop columns with many missing values\n",
    "missing = X_train.isna().sum() > max_missing * len(X_train)\n",
    "missing = missing[missing].index\n",
    "X_train = X_train.drop(missing, axis=1)\n",
    "X_val = X_val.drop(missing, axis=1)\n",
    "X_test = X_test.drop(missing, axis=1)\n",
    "\n",
    "\"\"\"FURTHER PROCESSING PIPELINE\"\"\"\n",
    "# define pre-processing steps for numerical features\n",
    "num_transformer = Pipeline(steps=[(\"constant\", VarianceThreshold()), # remove constant features\n",
    "                                  (\"drop_correlated\", DropHighlyCorrelatedFeatures(threshold=0.8)),\n",
    "                                  (\"imputer\", SimpleImputer(strategy=\"mean\")),\n",
    "                                  (\"scaling\", RobustScaler(quantile_range=(10, 90))),\n",
    "                                 ])\n",
    "# define preprocessing steps for categorical features\n",
    "cat_transformer = Pipeline(steps=[\n",
    "    (\"imputer\", SimpleImputer(strategy=\"constant\", fill_value=\"MISSING\")),\n",
    "    (\"encoder\", OneHotEncoder(drop='first', sparse_output=False, handle_unknown=\"ignore\")),\n",
    "    (\"constant\", VarianceThreshold())\n",
    "    ])\n",
    "# create preprocessing pipeline\n",
    "prep_pipeline = ColumnTransformer(\n",
    "    transformers=[\n",
    "        ('num', num_transformer, make_column_selector(dtype_exclude=object)), # apply to columns NOT of type object (int or float)\n",
    "        ('cat', cat_transformer, make_column_selector(dtype_include=object)) # apply to columns of type object\n",
    "    ])\n",
    "\n",
    "prep_pipeline.fit(X_train, y_train)\n",
    "display(prep_pipeline) # display preprocessing pipeline\n",
    "\n",
    "# transform data sets\n",
    "X_train = pd.DataFrame(prep_pipeline.transform(X_train), columns=prep_pipeline.get_feature_names_out())\n",
    "X_val = pd.DataFrame(prep_pipeline.transform(X_val), columns=prep_pipeline.get_feature_names_out())\n",
    "X_test = pd.DataFrame(prep_pipeline.transform(X_test), columns=prep_pipeline.get_feature_names_out())\n",
    "        \n",
    "\"\"\"PRINT STATS\"\"\"\n",
    "print(\"Time: %.2fs\" % (time.time() - start_time))\n",
    "print(\"Train set: %s rows, %s columns\" % X_train.shape)\n",
    "print(\"Validation set: %s rows, %s columns\" % X_val.shape)\n",
    "print(\"Test set: %s rows, %s columns\" % X_test.shape)"
   ]
  },
  {
   "cell_type": "markdown",
   "metadata": {},
   "source": [
    "## Evaluation"
   ]
  },
  {
   "cell_type": "code",
   "execution_count": 6,
   "metadata": {},
   "outputs": [],
   "source": [
    "def plotCFMatrix(cm): # input is the confusion matrix from sklearn\n",
    "    \n",
    "    plt.figure(figsize=(8, 6))  \n",
    "    sns.set_style(\"whitegrid\") \n",
    "    sns.heatmap(cm, annot=True, fmt=\"d\")\n",
    "    plt.title('Confusion Matrix')\n",
    "    plt.ylabel('Actual Values')\n",
    "    plt.xlabel('Predicted Values')\n",
    "    plt.show()"
   ]
  },
  {
   "cell_type": "code",
   "execution_count": 7,
   "metadata": {},
   "outputs": [],
   "source": [
    "def Metrics(y_true, y_pred):\n",
    "    accuracy = accuracy_score(y_true, y_pred)\n",
    "    precision = precision_score(y_true, y_pred)\n",
    "    recall = recall_score(y_true, y_pred)\n",
    "    f1 = f1_score(y_true, y_pred)\n",
    "    \n",
    "    cm = confusion_matrix(y_true, y_pred)\n",
    "    tn, fp, fn, tp = cm.ravel()\n",
    "    tpr = tp / (tp + fn)\n",
    "    tnr = tn / (tn + fp)\n",
    "    \n",
    "    print(f'Accuracy: {accuracy:.2f}')\n",
    "    print(f'Precision: {precision:.2f}')\n",
    "    print(f'Recall: {recall:.2f}')\n",
    "    print(f'F1 Score: {f1:.2f}')\n",
    "    print(f'TPR: {tpr}')\n",
    "    print(f'TNR: {tnr}')\n",
    "    return accuracy, precision, recall, f1, tpr, tnr"
   ]
  },
  {
   "cell_type": "code",
   "execution_count": 8,
   "metadata": {},
   "outputs": [],
   "source": [
    "def calibration_plot(y_true, y_prob, model_name):\n",
    "    prob_true, prob_pred = calibration_curve(y_true, y_prob, n_bins=10)\n",
    "    \n",
    "    plt.figure(figsize=(8, 6))\n",
    "    plt.plot(prob_pred, prob_true, marker='o', label=model_name)\n",
    "    plt.plot([0, 1], [0, 1], linestyle='--', color='gray')\n",
    "    plt.xlabel('Mean Predicted Probability')\n",
    "    plt.ylabel('Fraction of Positives')\n",
    "    plt.title(f'Calibration Plot of {model_name}')\n",
    "    plt.legend()\n",
    "    plt.show()"
   ]
  },
  {
   "cell_type": "markdown",
   "metadata": {},
   "source": [
    "## XGBoost Model"
   ]
  },
  {
   "cell_type": "code",
   "execution_count": 9,
   "metadata": {},
   "outputs": [],
   "source": [
    "%matplotlib inline"
   ]
  },
  {
   "cell_type": "code",
   "execution_count": 10,
   "metadata": {},
   "outputs": [],
   "source": [
    "parameters = {\n",
    "    'n_estimators': [50,100,200,500,1000],\n",
    "    'learning_rate': [0.1, 0.3, 0.6, 0.8, 1.0],\n",
    "    'max_depth': [1,3,6,10],\n",
    "    'reg_alpha': [0.0, 0.1, 0.5, 1.0],\n",
    "    'reg_lambda': [0.1, 0.5, 1.0, 1.5],\n",
    "}"
   ]
  },
  {
   "cell_type": "code",
   "execution_count": 11,
   "metadata": {},
   "outputs": [],
   "source": [
    "# xg = xgb.XGBClassifier(random_state=42)\n",
    "# g = RandomizedSearchCV(xg, parameters, cv=5, n_jobs=8)\n",
    "# g.fit(X_train, y_train)\n",
    "# cls_params = g.best_params_\n",
    "# cls_params"
   ]
  },
  {
   "cell_type": "code",
   "execution_count": 12,
   "metadata": {},
   "outputs": [],
   "source": [
    "xg = xgb.XGBClassifier(\n",
    "    objective='binary:logistic',\n",
    "    learning_rate=0.1,\n",
    "    n_estimators=100,\n",
    "    max_depth=10,\n",
    "    reg_lambda=1.0,\n",
    "    reg_alpha=0.0,\n",
    "    random_state=42\n",
    ")\n",
    "xg.fit(X_train, y_train)\n",
    "xg_pred = xg.predict(X_val)\n",
    "xg_pred_proba = xg.predict_proba(X_val)[:, 1]"
   ]
  },
  {
   "cell_type": "code",
   "execution_count": 13,
   "metadata": {},
   "outputs": [
    {
     "name": "stdout",
     "output_type": "stream",
     "text": [
      "Accuracy: 0.93\n",
      "Precision: 0.74\n",
      "Recall: 0.32\n",
      "F1 Score: 0.45\n",
      "TPR: 0.31909547738693467\n",
      "TNR: 0.9892537313432835\n"
     ]
    }
   ],
   "source": [
    "cm_xg = confusion_matrix(y_val, xg_pred)\n",
    "accuracy_xg, precision_xg, recall_xg, f1_xg, tpr_xg, tnr_xg = Metrics(y_val, xg_pred)"
   ]
  },
  {
   "cell_type": "code",
   "execution_count": 14,
   "metadata": {},
   "outputs": [
    {
     "data": {
      "image/png": "[encoded data removed]",
      "text/plain": [
       "<Figure size 800x600 with 2 Axes>"
      ]
     },
     "metadata": {},
     "output_type": "display_data"
    }
   ],
   "source": [
    "plotCFMatrix(cm_xg)"
   ]
  },
  {
   "cell_type": "code",
   "execution_count": 15,
   "metadata": {},
   "outputs": [
    {
     "data": {
      "image/png": "[encoded data removed]",
      "text/plain": [
       "<Figure size 640x480 with 1 Axes>"
      ]
     },
     "metadata": {},
     "output_type": "display_data"
    }
   ],
   "source": [
    "RocCurveDisplay.from_predictions(y_true=y_val, y_pred=xg_pred_proba, name='XGBoost')\n",
    "plt.plot([0, 1], [0, 1], linestyle=\"--\", label='Random Predictions (AUC=0.5)')\n",
    "plt.legend()\n",
    "plt.show()"
   ]
  },
  {
   "cell_type": "code",
   "execution_count": 16,
   "metadata": {},
   "outputs": [
    {
     "data": {
      "image/png": "[encoded data removed]",
      "text/plain": [
       "<Figure size 800x600 with 1 Axes>"
      ]
     },
     "metadata": {},
     "output_type": "display_data"
    }
   ],
   "source": [
    "calibration_plot(y_val, xg_pred_proba, \"XGBoost\")"
   ]
  },
  {
   "cell_type": "markdown",
   "metadata": {},
   "source": [
    "Top 10 most important features for XGBoost"
   ]
  },
  {
   "cell_type": "code",
   "execution_count": 17,
   "metadata": {},
   "outputs": [
    {
     "data": {
      "image/png": "[encoded data removed]",
      "text/plain": [
       "<Figure size 1000x600 with 1 Axes>"
      ]
     },
     "metadata": {},
     "output_type": "display_data"
    }
   ],
   "source": [
    "fig, ax = plt.subplots(figsize=(10, 6))\n",
    "ax.barh(range(10), xg.feature_importances_[:10])\n",
    "ax.set_yticks(range(10), X_train.columns[:10])\n",
    "ax.set_title('XGBoost Feature Importance')\n",
    "ax.set_xlabel('Importance')\n",
    "ax.set_ylabel('Features')\n",
    "fig.tight_layout()\n",
    "fig.savefig(\"./feature_importance.pdf\", format='pdf', dpi=600, bbox_inches='tight')"
   ]
  },
  {
   "cell_type": "code",
   "execution_count": 18,
   "metadata": {},
   "outputs": [
    {
     "data": {
      "image/png": "[encoded data removed]",
      "text/plain": [
       "<Figure size 1000x600 with 1 Axes>"
      ]
     },
     "metadata": {},
     "output_type": "display_data"
    }
   ],
   "source": [
    "plt.figure(figsize=(10, 6))\n",
    "plt.barh(range(10), xg.feature_importances_[:10])\n",
    "plt.yticks(range(10), X_train.columns[:10])\n",
    "plt.title('XGBoost Feature Importance')\n",
    "plt.xlabel('Importance')\n",
    "plt.ylabel('Features')\n",
    "plt.tight_layout()\n",
    "plt.show()"
   ]
  },
  {
   "cell_type": "code",
   "execution_count": 19,
   "metadata": {},
   "outputs": [],
   "source": [
    "xg_pred_test = xg.predict(X_test)\n",
    "xg_pred_proba_test = xg.predict_proba(X_test)[:, 1]"
   ]
  },
  {
   "cell_type": "code",
   "execution_count": 20,
   "metadata": {},
   "outputs": [
    {
     "data": {
      "text/plain": [
       "array([0, 0, 0, ..., 0, 0, 0])"
      ]
     },
     "execution_count": 20,
     "metadata": {},
     "output_type": "execute_result"
    }
   ],
   "source": [
    "xg_pred_test"
   ]
  },
  {
   "cell_type": "code",
   "execution_count": 21,
   "metadata": {},
   "outputs": [
    {
     "name": "stdout",
     "output_type": "stream",
     "text": [
      "Accuracy: 0.93\n",
      "Precision: 0.68\n",
      "Recall: 0.31\n",
      "F1 Score: 0.43\n",
      "TPR: 0.30973451327433627\n",
      "TNR: 0.986159169550173\n"
     ]
    }
   ],
   "source": [
    "cm_xg = confusion_matrix(y_test, xg_pred_test)\n",
    "accuracy_xg, precision_xg, recall_xg, f1_xg, tpr_xg, tnr_xg = Metrics(y_test, xg_pred_test)"
   ]
  },
  {
   "cell_type": "code",
   "execution_count": 22,
   "metadata": {},
   "outputs": [
    {
     "data": {
      "image/png": "[encoded data removed]",
      "text/plain": [
       "<Figure size 800x600 with 2 Axes>"
      ]
     },
     "metadata": {},
     "output_type": "display_data"
    }
   ],
   "source": [
    "plotCFMatrix(cm_xg)"
   ]
  },
  {
   "cell_type": "code",
   "execution_count": 23,
   "metadata": {},
   "outputs": [
    {
     "data": {
      "image/png": "[encoded data removed]",
      "text/plain": [
       "<Figure size 640x480 with 1 Axes>"
      ]
     },
     "metadata": {},
     "output_type": "display_data"
    }
   ],
   "source": [
    "RocCurveDisplay.from_predictions(y_true=y_val, y_pred=xg_pred_proba, name='XGBoost')\n",
    "plt.plot([0, 1], [0, 1], linestyle=\"--\", label='Random Predictions (AUC=0.5)')\n",
    "plt.legend()\n",
    "plt.show()"
   ]
  },
  {
   "cell_type": "code",
   "execution_count": 24,
   "metadata": {},
   "outputs": [
    {
     "data": {
      "image/png": "[encoded data removed]",
      "text/plain": [
       "<Figure size 800x600 with 1 Axes>"
      ]
     },
     "metadata": {},
     "output_type": "display_data"
    }
   ],
   "source": [
    "calibration_plot(y_val, xg_pred_proba, \"XGBoost\")"
   ]
  },
  {
   "cell_type": "code",
   "execution_count": 25,
   "metadata": {},
   "outputs": [
    {
     "data": {
      "application/vnd.microsoft.datawrangler.viewer.v0+json": {
       "columns": [
        {
         "name": "index",
         "rawType": "int64",
         "type": "integer"
        },
        {
         "name": "Variable Name",
         "rawType": "object",
         "type": "string"
        },
        {
         "name": "Description",
         "rawType": "object",
         "type": "string"
        }
       ],
       "conversionMethod": "pd.DataFrame",
       "ref": "e104d52f-6a81-4963-9cb6-c869a5631efe",
       "rows": [
        [
         "19",
         "albumin_apache",
         "The albumin concentration measured during the first 24 hours which results in the highest APACHE III score"
        ],
        [
         "20",
         "apache_2_diagnosis",
         "The APACHE II diagnosis for the ICU admission"
        ],
        [
         "21",
         "apache_3j_diagnosis",
         "The APACHE III-J sub-diagnosis code which best describes the reason for the ICU admission"
        ],
        [
         "22",
         "apache_post_operative",
         "The APACHE operative status; 1 for post-operative, 0 for non-operative"
        ],
        [
         "23",
         "arf_apache",
         "Whether the patient had acute renal failure during the first 24 hours of their unit stay, defined as a 24 hour urine output <410ml, creatinine >=133 micromol/L and no chronic dialysis"
        ],
        [
         "24",
         "bilirubin_apache",
         "The bilirubin concentration measured during the first 24 hours which results in the highest APACHE III score"
        ],
        [
         "25",
         "bun_apache",
         "The blood urea nitrogen concentration measured during the first 24 hours which results in the highest APACHE III score"
        ],
        [
         "26",
         "creatinine_apache",
         "The creatinine concentration measured during the first 24 hours which results in the highest APACHE III score"
        ],
        [
         "27",
         "fio2_apache",
         "The fraction of inspired oxygen from the arterial blood gas taken during the first 24 hours of unit admission which produces the highest APACHE III score for oxygenation"
        ],
        [
         "28",
         "gcs_eyes_apache",
         "The eye opening component of the Glasgow Coma Scale measured during the first 24 hours which results in the highest APACHE III score"
        ],
        [
         "29",
         "gcs_motor_apache",
         "The motor component of the Glasgow Coma Scale measured during the first 24 hours which results in the highest APACHE III score"
        ],
        [
         "30",
         "gcs_unable_apache",
         "Whether the Glasgow Coma Scale was unable to be assessed due to patient sedation"
        ],
        [
         "31",
         "gcs_verbal_apache",
         "The verbal component of the Glasgow Coma Scale measured during the first 24 hours which results in the highest APACHE III score"
        ],
        [
         "32",
         "glucose_apache",
         "The glucose concentration measured during the first 24 hours which results in the highest APACHE III score"
        ],
        [
         "33",
         "heart_rate_apache",
         "The heart rate measured during the first 24 hours which results in the highest APACHE III score"
        ],
        [
         "34",
         "hematocrit_apache",
         "The hematocrit measured during the first 24 hours which results in the highest APACHE III score"
        ],
        [
         "35",
         "intubated_apache",
         "Whether the patient was intubated at the time of the highest scoring arterial blood gas used in the oxygenation score"
        ],
        [
         "36",
         "map_apache",
         "The mean arterial pressure measured during the first 24 hours which results in the highest APACHE III score"
        ],
        [
         "37",
         "paco2_apache",
         "The partial pressure of carbon dioxide from the arterial blood gas taken during the first 24 hours of unit admission which produces the highest APACHE III score for oxygenation"
        ],
        [
         "38",
         "paco2_for_ph_apache",
         "The partial pressure of carbon dioxide from the arterial blood gas taken during the first 24 hours of unit admission which produces the highest APACHE III score for acid-base disturbance"
        ],
        [
         "39",
         "pao2_apache",
         "The partial pressure of oxygen from the arterial blood gas taken during the first 24 hours of unit admission which produces the highest APACHE III score for oxygenation"
        ],
        [
         "40",
         "ph_apache",
         "The pH from the arterial blood gas taken during the first 24 hours of unit admission which produces the highest APACHE III score for acid-base disturbance"
        ],
        [
         "41",
         "resprate_apache",
         "The respiratory rate measured during the first 24 hours which results in the highest APACHE III score"
        ],
        [
         "42",
         "sodium_apache",
         "The sodium concentration measured during the first 24 hours which results in the highest APACHE III score"
        ],
        [
         "43",
         "temp_apache",
         "The temperature measured during the first 24 hours which results in the highest APACHE III score"
        ],
        [
         "44",
         "urineoutput_apache",
         "The total urine output for the first 24 hours"
        ],
        [
         "45",
         "ventilated_apache",
         "Whether the patient was invasively ventilated at the time of the highest scoring arterial blood gas using the oxygenation scoring algorithm, including any mode of positive pressure ventilation delivered through a circuit attached to an endo-tracheal tube or tracheostomy"
        ],
        [
         "46",
         "wbc_apache",
         "The white blood cell count measured during the first 24 hours which results in the highest APACHE III score"
        ],
        [
         "175",
         "apache_4a_hospital_death_prob",
         "The APACHE IVa probabilistic prediction of in-hospital mortality for the patient which utilizes the APACHE III score and other covariates, including diagnosis."
        ],
        [
         "176",
         "apache_4a_icu_death_prob",
         "The APACHE IVa probabilistic prediction of in ICU mortality for the patient which utilizes the APACHE III score and other covariates, including diagnosis"
        ],
        [
         "185",
         "apache_3j_bodysystem",
         "Admission diagnosis group for APACHE III"
        ],
        [
         "186",
         "apache_2_bodysystem",
         "Admission diagnosis group for APACHE II"
        ]
       ],
       "shape": {
        "columns": 2,
        "rows": 32
       }
      },
      "text/html": [
       "<div>\n",
       "<style scoped>\n",
       "    .dataframe tbody tr th:only-of-type {\n",
       "        vertical-align: middle;\n",
       "    }\n",
       "\n",
       "    .dataframe tbody tr th {\n",
       "        vertical-align: top;\n",
       "    }\n",
       "\n",
       "    .dataframe thead th {\n",
       "        text-align: right;\n",
       "    }\n",
       "</style>\n",
       "<table border=\"1\" class=\"dataframe\">\n",
       "  <thead>\n",
       "    <tr style=\"text-align: right;\">\n",
       "      <th></th>\n",
       "      <th>Variable Name</th>\n",
       "      <th>Description</th>\n",
       "    </tr>\n",
       "  </thead>\n",
       "  <tbody>\n",
       "    <tr>\n",
       "      <th>19</th>\n",
       "      <td>albumin_apache</td>\n",
       "      <td>The albumin concentration measured during the ...</td>\n",
       "    </tr>\n",
       "    <tr>\n",
       "      <th>20</th>\n",
       "      <td>apache_2_diagnosis</td>\n",
       "      <td>The APACHE II diagnosis for the ICU admission</td>\n",
       "    </tr>\n",
       "    <tr>\n",
       "      <th>21</th>\n",
       "      <td>apache_3j_diagnosis</td>\n",
       "      <td>The APACHE III-J sub-diagnosis code which best...</td>\n",
       "    </tr>\n",
       "    <tr>\n",
       "      <th>22</th>\n",
       "      <td>apache_post_operative</td>\n",
       "      <td>The APACHE operative status; 1 for post-operat...</td>\n",
       "    </tr>\n",
       "    <tr>\n",
       "      <th>23</th>\n",
       "      <td>arf_apache</td>\n",
       "      <td>Whether the patient had acute renal failure du...</td>\n",
       "    </tr>\n",
       "    <tr>\n",
       "      <th>24</th>\n",
       "      <td>bilirubin_apache</td>\n",
       "      <td>The bilirubin concentration measured during th...</td>\n",
       "    </tr>\n",
       "    <tr>\n",
       "      <th>25</th>\n",
       "      <td>bun_apache</td>\n",
       "      <td>The blood urea nitrogen concentration measured...</td>\n",
       "    </tr>\n",
       "    <tr>\n",
       "      <th>26</th>\n",
       "      <td>creatinine_apache</td>\n",
       "      <td>The creatinine concentration measured during t...</td>\n",
       "    </tr>\n",
       "    <tr>\n",
       "      <th>27</th>\n",
       "      <td>fio2_apache</td>\n",
       "      <td>The fraction of inspired oxygen from the arter...</td>\n",
       "    </tr>\n",
       "    <tr>\n",
       "      <th>28</th>\n",
       "      <td>gcs_eyes_apache</td>\n",
       "      <td>The eye opening component of the Glasgow Coma ...</td>\n",
       "    </tr>\n",
       "    <tr>\n",
       "      <th>29</th>\n",
       "      <td>gcs_motor_apache</td>\n",
       "      <td>The motor component of the Glasgow Coma Scale ...</td>\n",
       "    </tr>\n",
       "    <tr>\n",
       "      <th>30</th>\n",
       "      <td>gcs_unable_apache</td>\n",
       "      <td>Whether the Glasgow Coma Scale was unable to b...</td>\n",
       "    </tr>\n",
       "    <tr>\n",
       "      <th>31</th>\n",
       "      <td>gcs_verbal_apache</td>\n",
       "      <td>The verbal component of the Glasgow Coma Scale...</td>\n",
       "    </tr>\n",
       "    <tr>\n",
       "      <th>32</th>\n",
       "      <td>glucose_apache</td>\n",
       "      <td>The glucose concentration measured during the ...</td>\n",
       "    </tr>\n",
       "    <tr>\n",
       "      <th>33</th>\n",
       "      <td>heart_rate_apache</td>\n",
       "      <td>The heart rate measured during the first 24 ho...</td>\n",
       "    </tr>\n",
       "    <tr>\n",
       "      <th>34</th>\n",
       "      <td>hematocrit_apache</td>\n",
       "      <td>The hematocrit measured during the first 24 ho...</td>\n",
       "    </tr>\n",
       "    <tr>\n",
       "      <th>35</th>\n",
       "      <td>intubated_apache</td>\n",
       "      <td>Whether the patient was intubated at the time ...</td>\n",
       "    </tr>\n",
       "    <tr>\n",
       "      <th>36</th>\n",
       "      <td>map_apache</td>\n",
       "      <td>The mean arterial pressure measured during the...</td>\n",
       "    </tr>\n",
       "    <tr>\n",
       "      <th>37</th>\n",
       "      <td>paco2_apache</td>\n",
       "      <td>The partial pressure of carbon dioxide from th...</td>\n",
       "    </tr>\n",
       "    <tr>\n",
       "      <th>38</th>\n",
       "      <td>paco2_for_ph_apache</td>\n",
       "      <td>The partial pressure of carbon dioxide from th...</td>\n",
       "    </tr>\n",
       "    <tr>\n",
       "      <th>39</th>\n",
       "      <td>pao2_apache</td>\n",
       "      <td>The partial pressure of oxygen from the arteri...</td>\n",
       "    </tr>\n",
       "    <tr>\n",
       "      <th>40</th>\n",
       "      <td>ph_apache</td>\n",
       "      <td>The pH from the arterial blood gas taken durin...</td>\n",
       "    </tr>\n",
       "    <tr>\n",
       "      <th>41</th>\n",
       "      <td>resprate_apache</td>\n",
       "      <td>The respiratory rate measured during the first...</td>\n",
       "    </tr>\n",
       "    <tr>\n",
       "      <th>42</th>\n",
       "      <td>sodium_apache</td>\n",
       "      <td>The sodium concentration measured during the f...</td>\n",
       "    </tr>\n",
       "    <tr>\n",
       "      <th>43</th>\n",
       "      <td>temp_apache</td>\n",
       "      <td>The temperature measured during the first 24 h...</td>\n",
       "    </tr>\n",
       "    <tr>\n",
       "      <th>44</th>\n",
       "      <td>urineoutput_apache</td>\n",
       "      <td>The total urine output for the first 24 hours</td>\n",
       "    </tr>\n",
       "    <tr>\n",
       "      <th>45</th>\n",
       "      <td>ventilated_apache</td>\n",
       "      <td>Whether the patient was invasively ventilated ...</td>\n",
       "    </tr>\n",
       "    <tr>\n",
       "      <th>46</th>\n",
       "      <td>wbc_apache</td>\n",
       "      <td>The white blood cell count measured during the...</td>\n",
       "    </tr>\n",
       "    <tr>\n",
       "      <th>175</th>\n",
       "      <td>apache_4a_hospital_death_prob</td>\n",
       "      <td>The APACHE IVa probabilistic prediction of in-...</td>\n",
       "    </tr>\n",
       "    <tr>\n",
       "      <th>176</th>\n",
       "      <td>apache_4a_icu_death_prob</td>\n",
       "      <td>The APACHE IVa probabilistic prediction of in ...</td>\n",
       "    </tr>\n",
       "    <tr>\n",
       "      <th>185</th>\n",
       "      <td>apache_3j_bodysystem</td>\n",
       "      <td>Admission diagnosis group for APACHE III</td>\n",
       "    </tr>\n",
       "    <tr>\n",
       "      <th>186</th>\n",
       "      <td>apache_2_bodysystem</td>\n",
       "      <td>Admission diagnosis group for APACHE II</td>\n",
       "    </tr>\n",
       "  </tbody>\n",
       "</table>\n",
       "</div>"
      ],
      "text/plain": [
       "                     Variable Name  \\\n",
       "19                  albumin_apache   \n",
       "20              apache_2_diagnosis   \n",
       "21             apache_3j_diagnosis   \n",
       "22           apache_post_operative   \n",
       "23                      arf_apache   \n",
       "24                bilirubin_apache   \n",
       "25                      bun_apache   \n",
       "26               creatinine_apache   \n",
       "27                     fio2_apache   \n",
       "28                 gcs_eyes_apache   \n",
       "29                gcs_motor_apache   \n",
       "30               gcs_unable_apache   \n",
       "31               gcs_verbal_apache   \n",
       "32                  glucose_apache   \n",
       "33               heart_rate_apache   \n",
       "34               hematocrit_apache   \n",
       "35                intubated_apache   \n",
       "36                      map_apache   \n",
       "37                    paco2_apache   \n",
       "38             paco2_for_ph_apache   \n",
       "39                     pao2_apache   \n",
       "40                       ph_apache   \n",
       "41                 resprate_apache   \n",
       "42                   sodium_apache   \n",
       "43                     temp_apache   \n",
       "44              urineoutput_apache   \n",
       "45               ventilated_apache   \n",
       "46                      wbc_apache   \n",
       "175  apache_4a_hospital_death_prob   \n",
       "176       apache_4a_icu_death_prob   \n",
       "185           apache_3j_bodysystem   \n",
       "186            apache_2_bodysystem   \n",
       "\n",
       "                                           Description  \n",
       "19   The albumin concentration measured during the ...  \n",
       "20       The APACHE II diagnosis for the ICU admission  \n",
       "21   The APACHE III-J sub-diagnosis code which best...  \n",
       "22   The APACHE operative status; 1 for post-operat...  \n",
       "23   Whether the patient had acute renal failure du...  \n",
       "24   The bilirubin concentration measured during th...  \n",
       "25   The blood urea nitrogen concentration measured...  \n",
       "26   The creatinine concentration measured during t...  \n",
       "27   The fraction of inspired oxygen from the arter...  \n",
       "28   The eye opening component of the Glasgow Coma ...  \n",
       "29   The motor component of the Glasgow Coma Scale ...  \n",
       "30   Whether the Glasgow Coma Scale was unable to b...  \n",
       "31   The verbal component of the Glasgow Coma Scale...  \n",
       "32   The glucose concentration measured during the ...  \n",
       "33   The heart rate measured during the first 24 ho...  \n",
       "34   The hematocrit measured during the first 24 ho...  \n",
       "35   Whether the patient was intubated at the time ...  \n",
       "36   The mean arterial pressure measured during the...  \n",
       "37   The partial pressure of carbon dioxide from th...  \n",
       "38   The partial pressure of carbon dioxide from th...  \n",
       "39   The partial pressure of oxygen from the arteri...  \n",
       "40   The pH from the arterial blood gas taken durin...  \n",
       "41   The respiratory rate measured during the first...  \n",
       "42   The sodium concentration measured during the f...  \n",
       "43   The temperature measured during the first 24 h...  \n",
       "44       The total urine output for the first 24 hours  \n",
       "45   Whether the patient was invasively ventilated ...  \n",
       "46   The white blood cell count measured during the...  \n",
       "175  The APACHE IVa probabilistic prediction of in-...  \n",
       "176  The APACHE IVa probabilistic prediction of in ...  \n",
       "185           Admission diagnosis group for APACHE III  \n",
       "186            Admission diagnosis group for APACHE II  "
      ]
     },
     "execution_count": 25,
     "metadata": {},
     "output_type": "execute_result"
    }
   ],
   "source": [
    "description[[\"Variable Name\", \"Description\"]].loc[description[\"Variable Name\"].str.contains(\"apache\")]"
   ]
  },
  {
   "cell_type": "code",
   "execution_count": 26,
   "metadata": {},
   "outputs": [],
   "source": [
    "non_nan_apache = y_apache_test[~y_apache_test.isna()].index"
   ]
  },
  {
   "cell_type": "code",
   "execution_count": 27,
   "metadata": {},
   "outputs": [],
   "source": [
    "y_apache_test_binary = (y_apache_test > 0.5).astype(int)"
   ]
  },
  {
   "cell_type": "code",
   "execution_count": 28,
   "metadata": {},
   "outputs": [
    {
     "name": "stdout",
     "output_type": "stream",
     "text": [
      "Accuracy: 0.92\n",
      "Precision: 0.58\n",
      "Recall: 0.33\n",
      "F1 Score: 0.42\n",
      "TPR: 0.32737276478679506\n",
      "TNR: 0.977436704709432\n"
     ]
    }
   ],
   "source": [
    "cm_xg = confusion_matrix(y_test[non_nan_apache], y_apache_test_binary[non_nan_apache])\n",
    "accuracy_xg, precision_xg, recall_xg, f1_xg, tpr_xg, tnr_xg = Metrics(y_test[non_nan_apache], y_apache_test_binary[non_nan_apache])"
   ]
  },
  {
   "cell_type": "code",
   "execution_count": 29,
   "metadata": {},
   "outputs": [],
   "source": [
    "non_nan_apache_reset = y_apache_test.reset_index(drop=False)[y_apache_test.reset_index(drop=False)[\"index\"].isin(non_nan_apache)].index"
   ]
  },
  {
   "cell_type": "code",
   "execution_count": 30,
   "metadata": {},
   "outputs": [],
   "source": [
    "xg_pred_test = xg.predict(X_test.iloc[non_nan_apache_reset])\n",
    "xg_pred_proba_test = xg.predict_proba(X_test.iloc[non_nan_apache_reset])[:, 1]"
   ]
  },
  {
   "cell_type": "code",
   "execution_count": 31,
   "metadata": {},
   "outputs": [
    {
     "name": "stdout",
     "output_type": "stream",
     "text": [
      "Accuracy: 0.93\n",
      "Precision: 0.68\n",
      "Recall: 0.31\n",
      "F1 Score: 0.43\n",
      "TPR: 0.3108665749656121\n",
      "TNR: 0.9860947133674406\n"
     ]
    }
   ],
   "source": [
    "cm_xg = confusion_matrix(y_test[non_nan_apache], xg_pred_test)\n",
    "accuracy_xg, precision_xg, recall_xg, f1_xg, tpr_xg, tnr_xg = Metrics(y_test[non_nan_apache], xg_pred_test)"
   ]
  },
  {
   "cell_type": "code",
   "execution_count": 32,
   "metadata": {},
   "outputs": [],
   "source": [
    "X_test_with_index = X_test.copy().set_index(y_test.index)"
   ]
  },
  {
   "cell_type": "code",
   "execution_count": 33,
   "metadata": {},
   "outputs": [
    {
     "data": {
      "text/plain": [
       "ethnicity\n",
       "Caucasian           70684\n",
       "African American     9547\n",
       "Other/Unknown        4374\n",
       "Hispanic             3796\n",
       "Asian                1129\n",
       "Native American       788\n",
       "Name: count, dtype: int64"
      ]
     },
     "execution_count": 33,
     "metadata": {},
     "output_type": "execute_result"
    }
   ],
   "source": [
    "df.ethnicity.value_counts()"
   ]
  },
  {
   "cell_type": "code",
   "execution_count": 34,
   "metadata": {},
   "outputs": [],
   "source": [
    "X_test_caucasian = X_test_with_index.loc[df.iloc[y_test.index].loc[df.iloc[y_test.index].ethnicity == \"Caucasian\"].index]\n",
    "y_test_caucasian = y_test.loc[df.iloc[y_test.index].loc[df.iloc[y_test.index].ethnicity == \"Caucasian\"].index]\n",
    "\n",
    "X_test_african_american = X_test_with_index.loc[df.iloc[y_test.index].loc[df.iloc[y_test.index].ethnicity == \"African American\"].index]\n",
    "y_test_african_american = y_test.loc[df.iloc[y_test.index].loc[df.iloc[y_test.index].ethnicity == \"African American\"].index]\n",
    "\n",
    "X_test_other = X_test_with_index.loc[df.iloc[y_test.index].loc[df.iloc[y_test.index].ethnicity == \"Other/Unknown\"].index]\n",
    "y_test_other = y_test.loc[df.iloc[y_test.index].loc[df.iloc[y_test.index].ethnicity == \"Other/Unknown\"].index]\n",
    "\n",
    "X_test_hispanic = X_test_with_index.loc[df.iloc[y_test.index].loc[df.iloc[y_test.index].ethnicity == \"Hispanic\"].index]\n",
    "y_test_hispanic = y_test.loc[df.iloc[y_test.index].loc[df.iloc[y_test.index].ethnicity == \"Hispanic\"].index]\n",
    "\n",
    "X_test_asian = X_test_with_index.loc[df.iloc[y_test.index].loc[df.iloc[y_test.index].ethnicity == \"Asian\"].index]\n",
    "y_test_asian = y_test.loc[df.iloc[y_test.index].loc[df.iloc[y_test.index].ethnicity == \"Asian\"].index]\n",
    "\n",
    "X_test_native_american = X_test_with_index.loc[df.iloc[y_test.index].loc[df.iloc[y_test.index].ethnicity == \"Native American\"].index]\n",
    "y_test_native_american = y_test.loc[df.iloc[y_test.index].loc[df.iloc[y_test.index].ethnicity == \"Native American\"].index]"
   ]
  },
  {
   "cell_type": "code",
   "execution_count": 35,
   "metadata": {},
   "outputs": [
    {
     "name": "stdout",
     "output_type": "stream",
     "text": [
      "Accuracy: 0.93\n",
      "Precision: 0.69\n",
      "Recall: 0.31\n",
      "F1 Score: 0.42\n",
      "TPR: 0.3071786310517529\n",
      "TNR: 0.9869747247635292\n"
     ]
    }
   ],
   "source": [
    "xg_pred_test = xg.predict(X_test_caucasian)\n",
    "xg_pred_proba_test = xg.predict_proba(X_test_caucasian)[:, 1]\n",
    "cm_xg = confusion_matrix(y_test_caucasian, xg_pred_test)\n",
    "accuracy_xg, precision_xg, recall_xg, f1_xg, tpr_xg, tnr_xg = Metrics(y_test_caucasian, xg_pred_test)"
   ]
  },
  {
   "cell_type": "code",
   "execution_count": 36,
   "metadata": {},
   "outputs": [
    {
     "name": "stdout",
     "output_type": "stream",
     "text": [
      "Accuracy: 0.93\n",
      "Precision: 0.57\n",
      "Recall: 0.38\n",
      "F1 Score: 0.45\n",
      "TPR: 0.375\n",
      "TNR: 0.974585635359116\n"
     ]
    }
   ],
   "source": [
    "xg_pred_test = xg.predict(X_test_african_american)\n",
    "xg_pred_proba_test = xg.predict_proba(X_test_african_american)[:, 1]\n",
    "cm_xg = confusion_matrix(y_test_african_american, xg_pred_test)\n",
    "accuracy_xg, precision_xg, recall_xg, f1_xg, tpr_xg, tnr_xg = Metrics(y_test_african_american, xg_pred_test)"
   ]
  },
  {
   "cell_type": "code",
   "execution_count": 37,
   "metadata": {},
   "outputs": [
    {
     "name": "stdout",
     "output_type": "stream",
     "text": [
      "Accuracy: 0.93\n",
      "Precision: 0.77\n",
      "Recall: 0.26\n",
      "F1 Score: 0.38\n",
      "TPR: 0.2564102564102564\n",
      "TNR: 0.9925558312655087\n"
     ]
    }
   ],
   "source": [
    "xg_pred_test = xg.predict(X_test_other)\n",
    "xg_pred_proba_test = xg.predict_proba(X_test_other)[:, 1]\n",
    "cm_xg = confusion_matrix(y_test_other, xg_pred_test)\n",
    "accuracy_xg, precision_xg, recall_xg, f1_xg, tpr_xg, tnr_xg = Metrics(y_test_other, xg_pred_test)"
   ]
  },
  {
   "cell_type": "code",
   "execution_count": 38,
   "metadata": {},
   "outputs": [
    {
     "name": "stdout",
     "output_type": "stream",
     "text": [
      "Accuracy: 0.89\n",
      "Precision: 0.75\n",
      "Recall: 0.20\n",
      "F1 Score: 0.32\n",
      "TPR: 0.2\n",
      "TNR: 0.9903846153846154\n"
     ]
    }
   ],
   "source": [
    "xg_pred_test = xg.predict(X_test_hispanic)\n",
    "xg_pred_proba_test = xg.predict_proba(X_test_hispanic)[:, 1]\n",
    "cm_xg = confusion_matrix(y_test_hispanic, xg_pred_test)\n",
    "accuracy_xg, precision_xg, recall_xg, f1_xg, tpr_xg, tnr_xg = Metrics(y_test_hispanic, xg_pred_test)"
   ]
  },
  {
   "cell_type": "code",
   "execution_count": 39,
   "metadata": {},
   "outputs": [
    {
     "name": "stdout",
     "output_type": "stream",
     "text": [
      "Accuracy: 0.94\n",
      "Precision: 0.71\n",
      "Recall: 0.50\n",
      "F1 Score: 0.59\n",
      "TPR: 0.5\n",
      "TNR: 0.9803921568627451\n"
     ]
    }
   ],
   "source": [
    "xg_pred_test = xg.predict(X_test_asian)\n",
    "xg_pred_proba_test = xg.predict_proba(X_test_asian)[:, 1]\n",
    "cm_xg = confusion_matrix(y_test_asian, xg_pred_test)\n",
    "accuracy_xg, precision_xg, recall_xg, f1_xg, tpr_xg, tnr_xg = Metrics(y_test_asian, xg_pred_test)"
   ]
  },
  {
   "cell_type": "code",
   "execution_count": 40,
   "metadata": {},
   "outputs": [
    {
     "name": "stdout",
     "output_type": "stream",
     "text": [
      "Accuracy: 0.95\n",
      "Precision: 1.00\n",
      "Recall: 0.56\n",
      "F1 Score: 0.71\n",
      "TPR: 0.5555555555555556\n",
      "TNR: 1.0\n"
     ]
    }
   ],
   "source": [
    "xg_pred_test = xg.predict(X_test_native_american)\n",
    "xg_pred_proba_test = xg.predict_proba(X_test_native_american)[:, 1]\n",
    "cm_xg = confusion_matrix(y_test_native_american, xg_pred_test)\n",
    "accuracy_xg, precision_xg, recall_xg, f1_xg, tpr_xg, tnr_xg = Metrics(y_test_native_american, xg_pred_test)"
   ]
  },
  {
   "cell_type": "code",
   "execution_count": 41,
   "metadata": {},
   "outputs": [],
   "source": [
    "from fairlearn.metrics import MetricFrame"
   ]
  },
  {
   "cell_type": "code",
   "execution_count": 82,
   "metadata": {},
   "outputs": [],
   "source": [
    "race = df.iloc[y_test.index].ethnicity"
   ]
  },
  {
   "cell_type": "code",
   "execution_count": 45,
   "metadata": {},
   "outputs": [
    {
     "data": {
      "text/plain": [
       "3218            Caucasian\n",
       "80946           Caucasian\n",
       "19264           Caucasian\n",
       "86854       Other/Unknown\n",
       "56500    African American\n",
       "               ...       \n",
       "63442           Caucasian\n",
       "50745       Other/Unknown\n",
       "36093           Caucasian\n",
       "4256            Caucasian\n",
       "27125           Caucasian\n",
       "Name: ethnicity, Length: 9172, dtype: object"
      ]
     },
     "execution_count": 45,
     "metadata": {},
     "output_type": "execute_result"
    }
   ],
   "source": [
    "race"
   ]
  },
  {
   "cell_type": "code",
   "execution_count": 46,
   "metadata": {},
   "outputs": [
    {
     "data": {
      "text/plain": [
       "3218     0\n",
       "80946    0\n",
       "19264    0\n",
       "86854    0\n",
       "56500    0\n",
       "        ..\n",
       "63442    0\n",
       "50745    0\n",
       "36093    0\n",
       "4256     0\n",
       "27125    0\n",
       "Name: hospital_death, Length: 9172, dtype: int64"
      ]
     },
     "execution_count": 46,
     "metadata": {},
     "output_type": "execute_result"
    }
   ],
   "source": [
    "y_test"
   ]
  },
  {
   "cell_type": "code",
   "execution_count": 49,
   "metadata": {},
   "outputs": [],
   "source": [
    "xg_pred_test_2 = xg.predict(X_test)"
   ]
  },
  {
   "cell_type": "code",
   "execution_count": 55,
   "metadata": {},
   "outputs": [
    {
     "data": {
      "text/plain": [
       "dtype('int64')"
      ]
     },
     "execution_count": 55,
     "metadata": {},
     "output_type": "execute_result"
    }
   ],
   "source": [
    "xg_pred_test_2.dtype"
   ]
  },
  {
   "cell_type": "code",
   "execution_count": 54,
   "metadata": {},
   "outputs": [
    {
     "data": {
      "text/plain": [
       "dtype('int64')"
      ]
     },
     "execution_count": 54,
     "metadata": {},
     "output_type": "execute_result"
    }
   ],
   "source": [
    "y_test.dtype"
   ]
  },
  {
   "cell_type": "code",
   "execution_count": 56,
   "metadata": {},
   "outputs": [
    {
     "data": {
      "text/plain": [
       "3218            Caucasian\n",
       "80946           Caucasian\n",
       "19264           Caucasian\n",
       "86854       Other/Unknown\n",
       "56500    African American\n",
       "               ...       \n",
       "63442           Caucasian\n",
       "50745       Other/Unknown\n",
       "36093           Caucasian\n",
       "4256            Caucasian\n",
       "27125           Caucasian\n",
       "Name: ethnicity, Length: 9172, dtype: object"
      ]
     },
     "execution_count": 56,
     "metadata": {},
     "output_type": "execute_result"
    }
   ],
   "source": [
    "race"
   ]
  },
  {
   "cell_type": "code",
   "execution_count": 57,
   "metadata": {},
   "outputs": [
    {
     "data": {
      "text/plain": [
       "3218     0\n",
       "80946    0\n",
       "19264    0\n",
       "86854    0\n",
       "56500    0\n",
       "        ..\n",
       "63442    0\n",
       "50745    0\n",
       "36093    0\n",
       "4256     0\n",
       "27125    0\n",
       "Name: hospital_death, Length: 9172, dtype: int64"
      ]
     },
     "execution_count": 57,
     "metadata": {},
     "output_type": "execute_result"
    }
   ],
   "source": [
    "y_test"
   ]
  },
  {
   "cell_type": "code",
   "execution_count": 58,
   "metadata": {},
   "outputs": [
    {
     "data": {
      "text/plain": [
       "array([0, 0, 0, ..., 0, 0, 0])"
      ]
     },
     "execution_count": 58,
     "metadata": {},
     "output_type": "execute_result"
    }
   ],
   "source": [
    "xg_pred_test_2"
   ]
  },
  {
   "cell_type": "code",
   "execution_count": 59,
   "metadata": {},
   "outputs": [],
   "source": [
    "from sklearn.metrics import accuracy_score"
   ]
  },
  {
   "cell_type": "code",
   "execution_count": null,
   "metadata": {},
   "outputs": [
    {
     "data": {
      "text/plain": [
       "CategoricalDtype(categories=['African American', 'Asian', 'Caucasian', 'Hispanic',\n",
       "                  'Native American', 'Other/Unknown'],\n",
       ", ordered=False, categories_dtype=object)"
      ]
     },
     "execution_count": 67,
     "metadata": {},
     "output_type": "execute_result"
    }
   ],
   "source": [
    "race = race.astype(\"category\")\n",
    "race.fillna(\"Other/Unknown\", inplace=True)\n",
    "race.dtype"
   ]
  },
  {
   "cell_type": "code",
   "execution_count": 72,
   "metadata": {},
   "outputs": [
    {
     "data": {
      "text/plain": [
       "pandas.core.series.Series"
      ]
     },
     "execution_count": 72,
     "metadata": {},
     "output_type": "execute_result"
    }
   ],
   "source": [
    "type(race)"
   ]
  },
  {
   "cell_type": "code",
   "execution_count": 74,
   "metadata": {},
   "outputs": [
    {
     "data": {
      "text/plain": [
       "CategoricalDtype(categories=['African American', 'Asian', 'Caucasian', 'Hispanic',\n",
       "                  'Native American', 'Other/Unknown'],\n",
       ", ordered=False, categories_dtype=object)"
      ]
     },
     "execution_count": 74,
     "metadata": {},
     "output_type": "execute_result"
    }
   ],
   "source": [
    "race.dtype"
   ]
  },
  {
   "cell_type": "code",
   "execution_count": 75,
   "metadata": {},
   "outputs": [
    {
     "data": {
      "text/plain": [
       "3218     2\n",
       "80946    2\n",
       "19264    2\n",
       "86854    5\n",
       "56500    0\n",
       "        ..\n",
       "63442    2\n",
       "50745    5\n",
       "36093    2\n",
       "4256     2\n",
       "27125    2\n",
       "Length: 9172, dtype: int8"
      ]
     },
     "execution_count": 75,
     "metadata": {},
     "output_type": "execute_result"
    }
   ],
   "source": [
    "race.cat.codes"
   ]
  },
  {
   "cell_type": "code",
   "execution_count": 115,
   "metadata": {},
   "outputs": [
    {
     "data": {
      "text/plain": [
       "0.4253472222222222"
      ]
     },
     "execution_count": 115,
     "metadata": {},
     "output_type": "execute_result"
    }
   ],
   "source": [
    "from fairlearn.metrics import MetricFrame\n",
    "from sklearn.metrics import accuracy_score\n",
    "\n",
    "race_cat = pd.Series(race).astype('category')\n",
    "race_df = pd.DataFrame({\"race\": race})\n",
    "\n",
    "mf = MetricFrame(metrics=f1_score, y_true=y_test, y_pred=xg_pred_test_2, sensitive_features=race_cat)\n",
    "mf.overall.item()"
   ]
  },
  {
   "cell_type": "code",
   "execution_count": 117,
   "metadata": {},
   "outputs": [
    {
     "data": {
      "text/plain": [
       "ethnicity\n",
       "African American    0.451128\n",
       "Asian               0.588235\n",
       "Caucasian           0.424452\n",
       "Hispanic            0.315789\n",
       "Native American     0.714286\n",
       "Other/Unknown       0.375000\n",
       "Name: f1_score, dtype: float64"
      ]
     },
     "execution_count": 117,
     "metadata": {},
     "output_type": "execute_result"
    }
   ],
   "source": [
    "mf.by_group"
   ]
  },
  {
   "cell_type": "code",
   "execution_count": 127,
   "metadata": {},
   "outputs": [
    {
     "data": {
      "text/html": [
       "<style>#sk-container-id-5 {\n",
       "  /* Definition of color scheme common for light and dark mode */\n",
       "  --sklearn-color-text: #000;\n",
       "  --sklearn-color-text-muted: #666;\n",
       "  --sklearn-color-line: gray;\n",
       "  /* Definition of color scheme for unfitted estimators */\n",
       "  --sklearn-color-unfitted-level-0: #fff5e6;\n",
       "  --sklearn-color-unfitted-level-1: #f6e4d2;\n",
       "  --sklearn-color-unfitted-level-2: #ffe0b3;\n",
       "  --sklearn-color-unfitted-level-3: chocolate;\n",
       "  /* Definition of color scheme for fitted estimators */\n",
       "  --sklearn-color-fitted-level-0: #f0f8ff;\n",
       "  --sklearn-color-fitted-level-1: #d4ebff;\n",
       "  --sklearn-color-fitted-level-2: #b3dbfd;\n",
       "  --sklearn-color-fitted-level-3: cornflowerblue;\n",
       "\n",
       "  /* Specific color for light theme */\n",
       "  --sklearn-color-text-on-default-background: var(--sg-text-color, var(--theme-code-foreground, var(--jp-content-font-color1, black)));\n",
       "  --sklearn-color-background: var(--sg-background-color, var(--theme-background, var(--jp-layout-color0, white)));\n",
       "  --sklearn-color-border-box: var(--sg-text-color, var(--theme-code-foreground, var(--jp-content-font-color1, black)));\n",
       "  --sklearn-color-icon: #696969;\n",
       "\n",
       "  @media (prefers-color-scheme: dark) {\n",
       "    /* Redefinition of color scheme for dark theme */\n",
       "    --sklearn-color-text-on-default-background: var(--sg-text-color, var(--theme-code-foreground, var(--jp-content-font-color1, white)));\n",
       "    --sklearn-color-background: var(--sg-background-color, var(--theme-background, var(--jp-layout-color0, #111)));\n",
       "    --sklearn-color-border-box: var(--sg-text-color, var(--theme-code-foreground, var(--jp-content-font-color1, white)));\n",
       "    --sklearn-color-icon: #878787;\n",
       "  }\n",
       "}\n",
       "\n",
       "#sk-container-id-5 {\n",
       "  color: var(--sklearn-color-text);\n",
       "}\n",
       "\n",
       "#sk-container-id-5 pre {\n",
       "  padding: 0;\n",
       "}\n",
       "\n",
       "#sk-container-id-5 input.sk-hidden--visually {\n",
       "  border: 0;\n",
       "  clip: rect(1px 1px 1px 1px);\n",
       "  clip: rect(1px, 1px, 1px, 1px);\n",
       "  height: 1px;\n",
       "  margin: -1px;\n",
       "  overflow: hidden;\n",
       "  padding: 0;\n",
       "  position: absolute;\n",
       "  width: 1px;\n",
       "}\n",
       "\n",
       "#sk-container-id-5 div.sk-dashed-wrapped {\n",
       "  border: 1px dashed var(--sklearn-color-line);\n",
       "  margin: 0 0.4em 0.5em 0.4em;\n",
       "  box-sizing: border-box;\n",
       "  padding-bottom: 0.4em;\n",
       "  background-color: var(--sklearn-color-background);\n",
       "}\n",
       "\n",
       "#sk-container-id-5 div.sk-container {\n",
       "  /* jupyter's `normalize.less` sets `[hidden] { display: none; }`\n",
       "     but bootstrap.min.css set `[hidden] { display: none !important; }`\n",
       "     so we also need the `!important` here to be able to override the\n",
       "     default hidden behavior on the sphinx rendered scikit-learn.org.\n",
       "     See: https://github.com/scikit-learn/scikit-learn/issues/21755 */\n",
       "  display: inline-block !important;\n",
       "  position: relative;\n",
       "}\n",
       "\n",
       "#sk-container-id-5 div.sk-text-repr-fallback {\n",
       "  display: none;\n",
       "}\n",
       "\n",
       "div.sk-parallel-item,\n",
       "div.sk-serial,\n",
       "div.sk-item {\n",
       "  /* draw centered vertical line to link estimators */\n",
       "  background-image: linear-gradient(var(--sklearn-color-text-on-default-background), var(--sklearn-color-text-on-default-background));\n",
       "  background-size: 2px 100%;\n",
       "  background-repeat: no-repeat;\n",
       "  background-position: center center;\n",
       "}\n",
       "\n",
       "/* Parallel-specific style estimator block */\n",
       "\n",
       "#sk-container-id-5 div.sk-parallel-item::after {\n",
       "  content: \"\";\n",
       "  width: 100%;\n",
       "  border-bottom: 2px solid var(--sklearn-color-text-on-default-background);\n",
       "  flex-grow: 1;\n",
       "}\n",
       "\n",
       "#sk-container-id-5 div.sk-parallel {\n",
       "  display: flex;\n",
       "  align-items: stretch;\n",
       "  justify-content: center;\n",
       "  background-color: var(--sklearn-color-background);\n",
       "  position: relative;\n",
       "}\n",
       "\n",
       "#sk-container-id-5 div.sk-parallel-item {\n",
       "  display: flex;\n",
       "  flex-direction: column;\n",
       "}\n",
       "\n",
       "#sk-container-id-5 div.sk-parallel-item:first-child::after {\n",
       "  align-self: flex-end;\n",
       "  width: 50%;\n",
       "}\n",
       "\n",
       "#sk-container-id-5 div.sk-parallel-item:last-child::after {\n",
       "  align-self: flex-start;\n",
       "  width: 50%;\n",
       "}\n",
       "\n",
       "#sk-container-id-5 div.sk-parallel-item:only-child::after {\n",
       "  width: 0;\n",
       "}\n",
       "\n",
       "/* Serial-specific style estimator block */\n",
       "\n",
       "#sk-container-id-5 div.sk-serial {\n",
       "  display: flex;\n",
       "  flex-direction: column;\n",
       "  align-items: center;\n",
       "  background-color: var(--sklearn-color-background);\n",
       "  padding-right: 1em;\n",
       "  padding-left: 1em;\n",
       "}\n",
       "\n",
       "\n",
       "/* Toggleable style: style used for estimator/Pipeline/ColumnTransformer box that is\n",
       "clickable and can be expanded/collapsed.\n",
       "- Pipeline and ColumnTransformer use this feature and define the default style\n",
       "- Estimators will overwrite some part of the style using the `sk-estimator` class\n",
       "*/\n",
       "\n",
       "/* Pipeline and ColumnTransformer style (default) */\n",
       "\n",
       "#sk-container-id-5 div.sk-toggleable {\n",
       "  /* Default theme specific background. It is overwritten whether we have a\n",
       "  specific estimator or a Pipeline/ColumnTransformer */\n",
       "  background-color: var(--sklearn-color-background);\n",
       "}\n",
       "\n",
       "/* Toggleable label */\n",
       "#sk-container-id-5 label.sk-toggleable__label {\n",
       "  cursor: pointer;\n",
       "  display: flex;\n",
       "  width: 100%;\n",
       "  margin-bottom: 0;\n",
       "  padding: 0.5em;\n",
       "  box-sizing: border-box;\n",
       "  text-align: center;\n",
       "  align-items: start;\n",
       "  justify-content: space-between;\n",
       "  gap: 0.5em;\n",
       "}\n",
       "\n",
       "#sk-container-id-5 label.sk-toggleable__label .caption {\n",
       "  font-size: 0.6rem;\n",
       "  font-weight: lighter;\n",
       "  color: var(--sklearn-color-text-muted);\n",
       "}\n",
       "\n",
       "#sk-container-id-5 label.sk-toggleable__label-arrow:before {\n",
       "  /* Arrow on the left of the label */\n",
       "  content: \"▸\";\n",
       "  float: left;\n",
       "  margin-right: 0.25em;\n",
       "  color: var(--sklearn-color-icon);\n",
       "}\n",
       "\n",
       "#sk-container-id-5 label.sk-toggleable__label-arrow:hover:before {\n",
       "  color: var(--sklearn-color-text);\n",
       "}\n",
       "\n",
       "/* Toggleable content - dropdown */\n",
       "\n",
       "#sk-container-id-5 div.sk-toggleable__content {\n",
       "  max-height: 0;\n",
       "  max-width: 0;\n",
       "  overflow: hidden;\n",
       "  text-align: left;\n",
       "  /* unfitted */\n",
       "  background-color: var(--sklearn-color-unfitted-level-0);\n",
       "}\n",
       "\n",
       "#sk-container-id-5 div.sk-toggleable__content.fitted {\n",
       "  /* fitted */\n",
       "  background-color: var(--sklearn-color-fitted-level-0);\n",
       "}\n",
       "\n",
       "#sk-container-id-5 div.sk-toggleable__content pre {\n",
       "  margin: 0.2em;\n",
       "  border-radius: 0.25em;\n",
       "  color: var(--sklearn-color-text);\n",
       "  /* unfitted */\n",
       "  background-color: var(--sklearn-color-unfitted-level-0);\n",
       "}\n",
       "\n",
       "#sk-container-id-5 div.sk-toggleable__content.fitted pre {\n",
       "  /* unfitted */\n",
       "  background-color: var(--sklearn-color-fitted-level-0);\n",
       "}\n",
       "\n",
       "#sk-container-id-5 input.sk-toggleable__control:checked~div.sk-toggleable__content {\n",
       "  /* Expand drop-down */\n",
       "  max-height: 200px;\n",
       "  max-width: 100%;\n",
       "  overflow: auto;\n",
       "}\n",
       "\n",
       "#sk-container-id-5 input.sk-toggleable__control:checked~label.sk-toggleable__label-arrow:before {\n",
       "  content: \"▾\";\n",
       "}\n",
       "\n",
       "/* Pipeline/ColumnTransformer-specific style */\n",
       "\n",
       "#sk-container-id-5 div.sk-label input.sk-toggleable__control:checked~label.sk-toggleable__label {\n",
       "  color: var(--sklearn-color-text);\n",
       "  background-color: var(--sklearn-color-unfitted-level-2);\n",
       "}\n",
       "\n",
       "#sk-container-id-5 div.sk-label.fitted input.sk-toggleable__control:checked~label.sk-toggleable__label {\n",
       "  background-color: var(--sklearn-color-fitted-level-2);\n",
       "}\n",
       "\n",
       "/* Estimator-specific style */\n",
       "\n",
       "/* Colorize estimator box */\n",
       "#sk-container-id-5 div.sk-estimator input.sk-toggleable__control:checked~label.sk-toggleable__label {\n",
       "  /* unfitted */\n",
       "  background-color: var(--sklearn-color-unfitted-level-2);\n",
       "}\n",
       "\n",
       "#sk-container-id-5 div.sk-estimator.fitted input.sk-toggleable__control:checked~label.sk-toggleable__label {\n",
       "  /* fitted */\n",
       "  background-color: var(--sklearn-color-fitted-level-2);\n",
       "}\n",
       "\n",
       "#sk-container-id-5 div.sk-label label.sk-toggleable__label,\n",
       "#sk-container-id-5 div.sk-label label {\n",
       "  /* The background is the default theme color */\n",
       "  color: var(--sklearn-color-text-on-default-background);\n",
       "}\n",
       "\n",
       "/* On hover, darken the color of the background */\n",
       "#sk-container-id-5 div.sk-label:hover label.sk-toggleable__label {\n",
       "  color: var(--sklearn-color-text);\n",
       "  background-color: var(--sklearn-color-unfitted-level-2);\n",
       "}\n",
       "\n",
       "/* Label box, darken color on hover, fitted */\n",
       "#sk-container-id-5 div.sk-label.fitted:hover label.sk-toggleable__label.fitted {\n",
       "  color: var(--sklearn-color-text);\n",
       "  background-color: var(--sklearn-color-fitted-level-2);\n",
       "}\n",
       "\n",
       "/* Estimator label */\n",
       "\n",
       "#sk-container-id-5 div.sk-label label {\n",
       "  font-family: monospace;\n",
       "  font-weight: bold;\n",
       "  display: inline-block;\n",
       "  line-height: 1.2em;\n",
       "}\n",
       "\n",
       "#sk-container-id-5 div.sk-label-container {\n",
       "  text-align: center;\n",
       "}\n",
       "\n",
       "/* Estimator-specific */\n",
       "#sk-container-id-5 div.sk-estimator {\n",
       "  font-family: monospace;\n",
       "  border: 1px dotted var(--sklearn-color-border-box);\n",
       "  border-radius: 0.25em;\n",
       "  box-sizing: border-box;\n",
       "  margin-bottom: 0.5em;\n",
       "  /* unfitted */\n",
       "  background-color: var(--sklearn-color-unfitted-level-0);\n",
       "}\n",
       "\n",
       "#sk-container-id-5 div.sk-estimator.fitted {\n",
       "  /* fitted */\n",
       "  background-color: var(--sklearn-color-fitted-level-0);\n",
       "}\n",
       "\n",
       "/* on hover */\n",
       "#sk-container-id-5 div.sk-estimator:hover {\n",
       "  /* unfitted */\n",
       "  background-color: var(--sklearn-color-unfitted-level-2);\n",
       "}\n",
       "\n",
       "#sk-container-id-5 div.sk-estimator.fitted:hover {\n",
       "  /* fitted */\n",
       "  background-color: var(--sklearn-color-fitted-level-2);\n",
       "}\n",
       "\n",
       "/* Specification for estimator info (e.g. \"i\" and \"?\") */\n",
       "\n",
       "/* Common style for \"i\" and \"?\" */\n",
       "\n",
       ".sk-estimator-doc-link,\n",
       "a:link.sk-estimator-doc-link,\n",
       "a:visited.sk-estimator-doc-link {\n",
       "  float: right;\n",
       "  font-size: smaller;\n",
       "  line-height: 1em;\n",
       "  font-family: monospace;\n",
       "  background-color: var(--sklearn-color-background);\n",
       "  border-radius: 1em;\n",
       "  height: 1em;\n",
       "  width: 1em;\n",
       "  text-decoration: none !important;\n",
       "  margin-left: 0.5em;\n",
       "  text-align: center;\n",
       "  /* unfitted */\n",
       "  border: var(--sklearn-color-unfitted-level-1) 1pt solid;\n",
       "  color: var(--sklearn-color-unfitted-level-1);\n",
       "}\n",
       "\n",
       ".sk-estimator-doc-link.fitted,\n",
       "a:link.sk-estimator-doc-link.fitted,\n",
       "a:visited.sk-estimator-doc-link.fitted {\n",
       "  /* fitted */\n",
       "  border: var(--sklearn-color-fitted-level-1) 1pt solid;\n",
       "  color: var(--sklearn-color-fitted-level-1);\n",
       "}\n",
       "\n",
       "/* On hover */\n",
       "div.sk-estimator:hover .sk-estimator-doc-link:hover,\n",
       ".sk-estimator-doc-link:hover,\n",
       "div.sk-label-container:hover .sk-estimator-doc-link:hover,\n",
       ".sk-estimator-doc-link:hover {\n",
       "  /* unfitted */\n",
       "  background-color: var(--sklearn-color-unfitted-level-3);\n",
       "  color: var(--sklearn-color-background);\n",
       "  text-decoration: none;\n",
       "}\n",
       "\n",
       "div.sk-estimator.fitted:hover .sk-estimator-doc-link.fitted:hover,\n",
       ".sk-estimator-doc-link.fitted:hover,\n",
       "div.sk-label-container:hover .sk-estimator-doc-link.fitted:hover,\n",
       ".sk-estimator-doc-link.fitted:hover {\n",
       "  /* fitted */\n",
       "  background-color: var(--sklearn-color-fitted-level-3);\n",
       "  color: var(--sklearn-color-background);\n",
       "  text-decoration: none;\n",
       "}\n",
       "\n",
       "/* Span, style for the box shown on hovering the info icon */\n",
       ".sk-estimator-doc-link span {\n",
       "  display: none;\n",
       "  z-index: 9999;\n",
       "  position: relative;\n",
       "  font-weight: normal;\n",
       "  right: .2ex;\n",
       "  padding: .5ex;\n",
       "  margin: .5ex;\n",
       "  width: min-content;\n",
       "  min-width: 20ex;\n",
       "  max-width: 50ex;\n",
       "  color: var(--sklearn-color-text);\n",
       "  box-shadow: 2pt 2pt 4pt #999;\n",
       "  /* unfitted */\n",
       "  background: var(--sklearn-color-unfitted-level-0);\n",
       "  border: .5pt solid var(--sklearn-color-unfitted-level-3);\n",
       "}\n",
       "\n",
       ".sk-estimator-doc-link.fitted span {\n",
       "  /* fitted */\n",
       "  background: var(--sklearn-color-fitted-level-0);\n",
       "  border: var(--sklearn-color-fitted-level-3);\n",
       "}\n",
       "\n",
       ".sk-estimator-doc-link:hover span {\n",
       "  display: block;\n",
       "}\n",
       "\n",
       "/* \"?\"-specific style due to the `<a>` HTML tag */\n",
       "\n",
       "#sk-container-id-5 a.estimator_doc_link {\n",
       "  float: right;\n",
       "  font-size: 1rem;\n",
       "  line-height: 1em;\n",
       "  font-family: monospace;\n",
       "  background-color: var(--sklearn-color-background);\n",
       "  border-radius: 1rem;\n",
       "  height: 1rem;\n",
       "  width: 1rem;\n",
       "  text-decoration: none;\n",
       "  /* unfitted */\n",
       "  color: var(--sklearn-color-unfitted-level-1);\n",
       "  border: var(--sklearn-color-unfitted-level-1) 1pt solid;\n",
       "}\n",
       "\n",
       "#sk-container-id-5 a.estimator_doc_link.fitted {\n",
       "  /* fitted */\n",
       "  border: var(--sklearn-color-fitted-level-1) 1pt solid;\n",
       "  color: var(--sklearn-color-fitted-level-1);\n",
       "}\n",
       "\n",
       "/* On hover */\n",
       "#sk-container-id-5 a.estimator_doc_link:hover {\n",
       "  /* unfitted */\n",
       "  background-color: var(--sklearn-color-unfitted-level-3);\n",
       "  color: var(--sklearn-color-background);\n",
       "  text-decoration: none;\n",
       "}\n",
       "\n",
       "#sk-container-id-5 a.estimator_doc_link.fitted:hover {\n",
       "  /* fitted */\n",
       "  background-color: var(--sklearn-color-fitted-level-3);\n",
       "}\n",
       "</style><div id=\"sk-container-id-5\" class=\"sk-top-container\"><div class=\"sk-text-repr-fallback\"><pre>ExponentiatedGradient(constraints=&lt;fairlearn.reductions._moments.utility_parity.EqualizedOdds object at 0x15ee86800&gt;,\n",
       "                      estimator=XGBClassifier(base_score=None, booster=None,\n",
       "                                              callbacks=None,\n",
       "                                              colsample_bylevel=None,\n",
       "                                              colsample_bynode=None,\n",
       "                                              colsample_bytree=None,\n",
       "                                              device=None,\n",
       "                                              early_stopping_rounds=None,\n",
       "                                              enable_categorical=False,\n",
       "                                              eval_metric=None,\n",
       "                                              feature_types=None, g...\n",
       "                                              max_cat_threshold=None,\n",
       "                                              max_cat_to_onehot=None,\n",
       "                                              max_delta_step=None, max_depth=10,\n",
       "                                              max_leaves=None,\n",
       "                                              min_child_weight=None,\n",
       "                                              missing=nan,\n",
       "                                              monotone_constraints=None,\n",
       "                                              multi_strategy=None,\n",
       "                                              n_estimators=100, n_jobs=None,\n",
       "                                              num_parallel_tree=None,\n",
       "                                              random_state=42, ...),\n",
       "                      nu=np.float64(0.00016527973454256013),\n",
       "                      objective=&lt;fairlearn.reductions._moments.error_rate.ErrorRate object at 0x15ee87f10&gt;)</pre><b>In a Jupyter environment, please rerun this cell to show the HTML representation or trust the notebook. <br />On GitHub, the HTML representation is unable to render, please try loading this page with nbviewer.org.</b></div><div class=\"sk-container\" hidden><div class=\"sk-item sk-dashed-wrapped\"><div class=\"sk-label-container\"><div class=\"sk-label fitted sk-toggleable\"><input class=\"sk-toggleable__control sk-hidden--visually\" id=\"sk-estimator-id-20\" type=\"checkbox\" ><label for=\"sk-estimator-id-20\" class=\"sk-toggleable__label fitted sk-toggleable__label-arrow\"><div><div>ExponentiatedGradient</div></div><div><span class=\"sk-estimator-doc-link fitted\">i<span>Fitted</span></span></div></label><div class=\"sk-toggleable__content fitted\"><pre>ExponentiatedGradient(constraints=&lt;fairlearn.reductions._moments.utility_parity.EqualizedOdds object at 0x15ee86800&gt;,\n",
       "                      estimator=XGBClassifier(base_score=None, booster=None,\n",
       "                                              callbacks=None,\n",
       "                                              colsample_bylevel=None,\n",
       "                                              colsample_bynode=None,\n",
       "                                              colsample_bytree=None,\n",
       "                                              device=None,\n",
       "                                              early_stopping_rounds=None,\n",
       "                                              enable_categorical=False,\n",
       "                                              eval_metric=None,\n",
       "                                              feature_types=None, g...\n",
       "                                              max_cat_threshold=None,\n",
       "                                              max_cat_to_onehot=None,\n",
       "                                              max_delta_step=None, max_depth=10,\n",
       "                                              max_leaves=None,\n",
       "                                              min_child_weight=None,\n",
       "                                              missing=nan,\n",
       "                                              monotone_constraints=None,\n",
       "                                              multi_strategy=None,\n",
       "                                              n_estimators=100, n_jobs=None,\n",
       "                                              num_parallel_tree=None,\n",
       "                                              random_state=42, ...),\n",
       "                      nu=np.float64(0.00016527973454256013),\n",
       "                      objective=&lt;fairlearn.reductions._moments.error_rate.ErrorRate object at 0x15ee87f10&gt;)</pre></div> </div></div><div class=\"sk-parallel\"><div class=\"sk-parallel-item\"><div class=\"sk-item\"><div class=\"sk-label-container\"><div class=\"sk-label fitted sk-toggleable\"><input class=\"sk-toggleable__control sk-hidden--visually\" id=\"sk-estimator-id-21\" type=\"checkbox\" ><label for=\"sk-estimator-id-21\" class=\"sk-toggleable__label fitted sk-toggleable__label-arrow\"><div><div>estimator: XGBClassifier</div></div></label><div class=\"sk-toggleable__content fitted\"><pre>XGBClassifier(base_score=None, booster=None, callbacks=None,\n",
       "              colsample_bylevel=None, colsample_bynode=None,\n",
       "              colsample_bytree=None, device=None, early_stopping_rounds=None,\n",
       "              enable_categorical=False, eval_metric=None, feature_types=None,\n",
       "              gamma=None, grow_policy=None, importance_type=None,\n",
       "              interaction_constraints=None, learning_rate=0.1, max_bin=None,\n",
       "              max_cat_threshold=None, max_cat_to_onehot=None,\n",
       "              max_delta_step=None, max_depth=10, max_leaves=None,\n",
       "              min_child_weight=None, missing=nan, monotone_constraints=None,\n",
       "              multi_strategy=None, n_estimators=100, n_jobs=None,\n",
       "              num_parallel_tree=None, random_state=42, ...)</pre></div> </div></div><div class=\"sk-serial\"><div class=\"sk-item\"><div class=\"sk-estimator fitted sk-toggleable\"><input class=\"sk-toggleable__control sk-hidden--visually\" id=\"sk-estimator-id-22\" type=\"checkbox\" ><label for=\"sk-estimator-id-22\" class=\"sk-toggleable__label fitted sk-toggleable__label-arrow\"><div><div>XGBClassifier</div></div></label><div class=\"sk-toggleable__content fitted\"><pre>XGBClassifier(base_score=None, booster=None, callbacks=None,\n",
       "              colsample_bylevel=None, colsample_bynode=None,\n",
       "              colsample_bytree=None, device=None, early_stopping_rounds=None,\n",
       "              enable_categorical=False, eval_metric=None, feature_types=None,\n",
       "              gamma=None, grow_policy=None, importance_type=None,\n",
       "              interaction_constraints=None, learning_rate=0.1, max_bin=None,\n",
       "              max_cat_threshold=None, max_cat_to_onehot=None,\n",
       "              max_delta_step=None, max_depth=10, max_leaves=None,\n",
       "              min_child_weight=None, missing=nan, monotone_constraints=None,\n",
       "              multi_strategy=None, n_estimators=100, n_jobs=None,\n",
       "              num_parallel_tree=None, random_state=42, ...)</pre></div> </div></div></div></div></div></div></div></div></div>"
      ],
      "text/plain": [
       "ExponentiatedGradient(constraints=<fairlearn.reductions._moments.utility_parity.EqualizedOdds object at 0x15ee86800>,\n",
       "                      estimator=XGBClassifier(base_score=None, booster=None,\n",
       "                                              callbacks=None,\n",
       "                                              colsample_bylevel=None,\n",
       "                                              colsample_bynode=None,\n",
       "                                              colsample_bytree=None,\n",
       "                                              device=None,\n",
       "                                              early_stopping_rounds=None,\n",
       "                                              enable_categorical=False,\n",
       "                                              eval_metric=None,\n",
       "                                              feature_types=None, g...\n",
       "                                              max_cat_threshold=None,\n",
       "                                              max_cat_to_onehot=None,\n",
       "                                              max_delta_step=None, max_depth=10,\n",
       "                                              max_leaves=None,\n",
       "                                              min_child_weight=None,\n",
       "                                              missing=nan,\n",
       "                                              monotone_constraints=None,\n",
       "                                              multi_strategy=None,\n",
       "                                              n_estimators=100, n_jobs=None,\n",
       "                                              num_parallel_tree=None,\n",
       "                                              random_state=42, ...),\n",
       "                      nu=np.float64(0.00016527973454256013),\n",
       "                      objective=<fairlearn.reductions._moments.error_rate.ErrorRate object at 0x15ee87f10>)"
      ]
     },
     "execution_count": 127,
     "metadata": {},
     "output_type": "execute_result"
    }
   ],
   "source": [
    "from fairlearn.reductions import ErrorRate, EqualizedOdds, ExponentiatedGradient\n",
    "objective = ErrorRate(costs={'fp': 0.2, 'fn': 0.8})\n",
    "constraint = EqualizedOdds(difference_bound=0.6)\n",
    "mitigator = ExponentiatedGradient(xg, constraint, objective=objective)\n",
    "race_train = df.iloc[y_train.index].ethnicity.astype(\"category\")\n",
    "race_train.fillna(\"Other/Unknown\", inplace=True)\n",
    "mitigator.fit(X_train, y_train, sensitive_features=race_train)"
   ]
  },
  {
   "cell_type": "code",
   "execution_count": 128,
   "metadata": {},
   "outputs": [
    {
     "data": {
      "text/plain": [
       "0.5017421602787456"
      ]
     },
     "execution_count": 128,
     "metadata": {},
     "output_type": "execute_result"
    }
   ],
   "source": [
    "y_pred_mitigated = mitigator.predict(X_test)\n",
    "mf_mitigated = MetricFrame(metrics=f1_score, y_true=y_test, y_pred=y_pred_mitigated, sensitive_features=race_cat)\n",
    "mf_mitigated.overall.item()"
   ]
  },
  {
   "cell_type": "code",
   "execution_count": 129,
   "metadata": {},
   "outputs": [
    {
     "data": {
      "text/plain": [
       "ethnicity\n",
       "African American    0.518987\n",
       "Asian               0.600000\n",
       "Caucasian           0.502762\n",
       "Hispanic            0.422535\n",
       "Native American     0.800000\n",
       "Other/Unknown       0.447059\n",
       "Name: f1_score, dtype: float64"
      ]
     },
     "execution_count": 129,
     "metadata": {},
     "output_type": "execute_result"
    }
   ],
   "source": [
    "mf_mitigated.by_group"
   ]
  },
  {
   "cell_type": "code",
   "execution_count": 131,
   "metadata": {},
   "outputs": [
    {
     "data": {
      "text/plain": [
       "0.5590062111801242"
      ]
     },
     "execution_count": 131,
     "metadata": {},
     "output_type": "execute_result"
    }
   ],
   "source": [
    "from sklearn.metrics import precision_score\n",
    "mf_mitigated = MetricFrame(metrics=precision_score, y_true=y_test, y_pred=y_pred_mitigated, sensitive_features=race_cat)\n",
    "mf_mitigated.overall.item()"
   ]
  },
  {
   "cell_type": "code",
   "execution_count": 132,
   "metadata": {},
   "outputs": [
    {
     "data": {
      "text/plain": [
       "ethnicity\n",
       "African American    0.525641\n",
       "Asian               0.600000\n",
       "Caucasian           0.560575\n",
       "Hispanic            0.576923\n",
       "Native American     1.000000\n",
       "Other/Unknown       0.513514\n",
       "Name: precision_score, dtype: float64"
      ]
     },
     "execution_count": 132,
     "metadata": {},
     "output_type": "execute_result"
    }
   ],
   "source": [
    "mf_mitigated.by_group"
   ]
  },
  {
   "cell_type": "code",
   "execution_count": 133,
   "metadata": {},
   "outputs": [],
   "source": [
    "def true_negative_rate(y_true, y_pred):\n",
    "    \"\"\"\n",
    "    Calculate True Negative Rate (Specificity)\n",
    "    \n",
    "    Parameters:\n",
    "    y_true : array-like of ground truth labels\n",
    "    y_pred : array-like of predicted labels\n",
    "    \n",
    "    Returns:\n",
    "    float : True Negative Rate\n",
    "    \"\"\"\n",
    "    # Create confusion matrix\n",
    "    cm = confusion_matrix(y_true, y_pred)\n",
    "    \n",
    "    # For binary classification, the confusion matrix is 2x2\n",
    "    # cm[0, 0] is True Negatives (TN)\n",
    "    # cm[0, 1] is False Positives (FP)\n",
    "    # cm[1, 0] is False Negatives (FN)\n",
    "    # cm[1, 1] is True Positives (TP)\n",
    "    \n",
    "    tn, fp = cm[0, 0], cm[0, 1]\n",
    "    \n",
    "    # True Negative Rate = TN / (TN + FP)\n",
    "    tnr = tn / (tn + fp)\n",
    "    \n",
    "    return tnr"
   ]
  },
  {
   "cell_type": "code",
   "execution_count": 134,
   "metadata": {},
   "outputs": [
    {
     "data": {
      "text/plain": [
       "0.9661138288986995"
      ]
     },
     "execution_count": 134,
     "metadata": {},
     "output_type": "execute_result"
    }
   ],
   "source": [
    "mf_mitigated = MetricFrame(metrics=true_negative_rate, y_true=y_test, y_pred=y_pred_mitigated, sensitive_features=race_cat)\n",
    "mf_mitigated.overall.item()"
   ]
  },
  {
   "cell_type": "code",
   "execution_count": 135,
   "metadata": {},
   "outputs": [
    {
     "data": {
      "text/plain": [
       "ethnicity\n",
       "African American    0.959116\n",
       "Asian               0.960784\n",
       "Caucasian           0.966817\n",
       "Hispanic            0.964744\n",
       "Native American     1.000000\n",
       "Other/Unknown       0.967093\n",
       "Name: true_negative_rate, dtype: float64"
      ]
     },
     "execution_count": 135,
     "metadata": {},
     "output_type": "execute_result"
    }
   ],
   "source": [
    "mf_mitigated.by_group"
   ]
  },
  {
   "cell_type": "code",
   "execution_count": 136,
   "metadata": {},
   "outputs": [
    {
     "data": {
      "text/plain": [
       "0.45512010113780027"
      ]
     },
     "execution_count": 136,
     "metadata": {},
     "output_type": "execute_result"
    }
   ],
   "source": [
    "from sklearn.metrics import recall_score\n",
    "mf_mitigated = MetricFrame(metrics=recall_score, y_true=y_test, y_pred=y_pred_mitigated, sensitive_features=race_cat)\n",
    "mf_mitigated.overall.item()"
   ]
  },
  {
   "cell_type": "code",
   "execution_count": 137,
   "metadata": {},
   "outputs": [
    {
     "data": {
      "text/plain": [
       "ethnicity\n",
       "African American    0.512500\n",
       "Asian               0.600000\n",
       "Caucasian           0.455760\n",
       "Hispanic            0.333333\n",
       "Native American     0.666667\n",
       "Other/Unknown       0.395833\n",
       "Name: recall_score, dtype: float64"
      ]
     },
     "execution_count": 137,
     "metadata": {},
     "output_type": "execute_result"
    }
   ],
   "source": [
    "mf_mitigated.by_group"
   ]
  },
  {
   "cell_type": "code",
   "execution_count": 104,
   "metadata": {},
   "outputs": [
    {
     "name": "stdout",
     "output_type": "stream",
     "text": [
      "Code 0: African American\n",
      "Code 1: Asian\n",
      "Code 2: Caucasian\n",
      "Code 3: Hispanic\n",
      "Code 4: Native American\n",
      "Code 5: Other/Unknown\n"
     ]
    }
   ],
   "source": [
    "for code, category in enumerate(race_cat.cat.categories):\n",
    "    print(f\"Code {code}: {category}\")"
   ]
  },
  {
   "cell_type": "code",
   "execution_count": null,
   "metadata": {},
   "outputs": [],
   "source": []
  },
  {
   "cell_type": "code",
   "execution_count": null,
   "metadata": {},
   "outputs": [],
   "source": []
  }
 ],
 "metadata": {
  "kernelspec": {
   "display_name": "Python 3",
   "language": "python",
   "name": "python3"
  },
  "language_info": {
   "codemirror_mode": {
    "name": "ipython",
    "version": 3
   },
   "file_extension": ".py",
   "mimetype": "text/x-python",
   "name": "python",
   "nbconvert_exporter": "python",
   "pygments_lexer": "ipython3",
   "version": "3.10.16"
  }
 },
 "nbformat": 4,
 "nbformat_minor": 2
}
