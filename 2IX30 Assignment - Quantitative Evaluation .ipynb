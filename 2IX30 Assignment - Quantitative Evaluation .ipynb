{
 "cells": [
  {
   "cell_type": "code",
   "execution_count": 1,
   "metadata": {},
   "outputs": [
    {
     "name": "stdout",
     "output_type": "stream",
     "text": [
      "pandas        Tested version: 2.0.3   Your version: 2.0.3\n",
      "numpy         Tested version: 1.21.5  Your version: 1.26.4\n",
      "matplotlib    Tested version: 3.5.3   Your version: 3.8.2\n",
      "scikit-learn  Tested version: 1.2.2   Your version: 1.2.2\n"
     ]
    }
   ],
   "source": [
    "import time, matplotlib, sklearn\n",
    "\n",
    "# visualizatoin \n",
    "import matplotlib.pyplot as plt \n",
    "import seaborn as sns\n",
    "# data wrangling\n",
    "import pandas as pd\n",
    "import numpy as np \n",
    "\n",
    "# data preprocessing\n",
    "from sklearn.model_selection import train_test_split\n",
    "from sklearn.pipeline import Pipeline\n",
    "from sklearn.compose import ColumnTransformer, make_column_selector\n",
    "from sklearn.preprocessing import OneHotEncoder, RobustScaler\n",
    "from sklearn.feature_selection import VarianceThreshold\n",
    "from sklearn.impute import SimpleImputer\n",
    "from sklearn.metrics import accuracy_score, precision_score, recall_score, f1_score, confusion_matrix, roc_auc_score, roc_curve, auc, RocCurveDisplay, brier_score_loss\n",
    "from sklearn.calibration import calibration_curve\n",
    "from sklearn.base import BaseEstimator, TransformerMixin\n",
    "\n",
    "# learning\n",
    "from sklearn.linear_model import LogisticRegression\n",
    "from sklearn.tree import DecisionTreeClassifier\n",
    "from sklearn.ensemble import RandomForestClassifier\n",
    "import xgboost as xgb\n",
    "from sklearn.model_selection import cross_val_score, KFold\n",
    "from sklearn.model_selection import GridSearchCV\n",
    "from sklearn.model_selection import RandomizedSearchCV\n",
    "from scipy.stats import randint\n",
    "\n",
    "\n",
    "# the data intro has been tested with the following versions\n",
    "print(\"pandas        Tested version: 2.0.3   Your version: %s\" % pd.__version__)\n",
    "print(\"numpy         Tested version: 1.21.5  Your version: %s\" % np.__version__)\n",
    "print(\"matplotlib    Tested version: 3.5.3   Your version: %s\" % matplotlib.__version__)\n",
    "print(\"scikit-learn  Tested version: 1.2.2   Your version: %s\" % sklearn.__version__)"
   ]
  },
  {
   "cell_type": "code",
   "execution_count": 2,
   "metadata": {},
   "outputs": [
    {
     "data": {
      "text/html": [
       "<div>\n",
       "<style scoped>\n",
       "    .dataframe tbody tr th:only-of-type {\n",
       "        vertical-align: middle;\n",
       "    }\n",
       "\n",
       "    .dataframe tbody tr th {\n",
       "        vertical-align: top;\n",
       "    }\n",
       "\n",
       "    .dataframe thead th {\n",
       "        text-align: right;\n",
       "    }\n",
       "</style>\n",
       "<table border=\"1\" class=\"dataframe\">\n",
       "  <thead>\n",
       "    <tr style=\"text-align: right;\">\n",
       "      <th></th>\n",
       "      <th>encounter_id</th>\n",
       "      <th>patient_id</th>\n",
       "      <th>hospital_id</th>\n",
       "      <th>hospital_death</th>\n",
       "      <th>age</th>\n",
       "      <th>bmi</th>\n",
       "      <th>elective_surgery</th>\n",
       "      <th>ethnicity</th>\n",
       "      <th>gender</th>\n",
       "      <th>height</th>\n",
       "      <th>...</th>\n",
       "      <th>aids</th>\n",
       "      <th>cirrhosis</th>\n",
       "      <th>diabetes_mellitus</th>\n",
       "      <th>hepatic_failure</th>\n",
       "      <th>immunosuppression</th>\n",
       "      <th>leukemia</th>\n",
       "      <th>lymphoma</th>\n",
       "      <th>solid_tumor_with_metastasis</th>\n",
       "      <th>apache_3j_bodysystem</th>\n",
       "      <th>apache_2_bodysystem</th>\n",
       "    </tr>\n",
       "  </thead>\n",
       "  <tbody>\n",
       "    <tr>\n",
       "      <th>0</th>\n",
       "      <td>66154</td>\n",
       "      <td>25312</td>\n",
       "      <td>118</td>\n",
       "      <td>0</td>\n",
       "      <td>68.0</td>\n",
       "      <td>22.73</td>\n",
       "      <td>0</td>\n",
       "      <td>Caucasian</td>\n",
       "      <td>M</td>\n",
       "      <td>180.3</td>\n",
       "      <td>...</td>\n",
       "      <td>0.0</td>\n",
       "      <td>0.0</td>\n",
       "      <td>1.0</td>\n",
       "      <td>0.0</td>\n",
       "      <td>0.0</td>\n",
       "      <td>0.0</td>\n",
       "      <td>0.0</td>\n",
       "      <td>0.0</td>\n",
       "      <td>Sepsis</td>\n",
       "      <td>Cardiovascular</td>\n",
       "    </tr>\n",
       "    <tr>\n",
       "      <th>1</th>\n",
       "      <td>114252</td>\n",
       "      <td>59342</td>\n",
       "      <td>81</td>\n",
       "      <td>0</td>\n",
       "      <td>77.0</td>\n",
       "      <td>27.42</td>\n",
       "      <td>0</td>\n",
       "      <td>Caucasian</td>\n",
       "      <td>F</td>\n",
       "      <td>160.0</td>\n",
       "      <td>...</td>\n",
       "      <td>0.0</td>\n",
       "      <td>0.0</td>\n",
       "      <td>1.0</td>\n",
       "      <td>0.0</td>\n",
       "      <td>0.0</td>\n",
       "      <td>0.0</td>\n",
       "      <td>0.0</td>\n",
       "      <td>0.0</td>\n",
       "      <td>Respiratory</td>\n",
       "      <td>Respiratory</td>\n",
       "    </tr>\n",
       "    <tr>\n",
       "      <th>2</th>\n",
       "      <td>119783</td>\n",
       "      <td>50777</td>\n",
       "      <td>118</td>\n",
       "      <td>0</td>\n",
       "      <td>25.0</td>\n",
       "      <td>31.95</td>\n",
       "      <td>0</td>\n",
       "      <td>Caucasian</td>\n",
       "      <td>F</td>\n",
       "      <td>172.7</td>\n",
       "      <td>...</td>\n",
       "      <td>0.0</td>\n",
       "      <td>0.0</td>\n",
       "      <td>0.0</td>\n",
       "      <td>0.0</td>\n",
       "      <td>0.0</td>\n",
       "      <td>0.0</td>\n",
       "      <td>0.0</td>\n",
       "      <td>0.0</td>\n",
       "      <td>Metabolic</td>\n",
       "      <td>Metabolic</td>\n",
       "    </tr>\n",
       "    <tr>\n",
       "      <th>3</th>\n",
       "      <td>79267</td>\n",
       "      <td>46918</td>\n",
       "      <td>118</td>\n",
       "      <td>0</td>\n",
       "      <td>81.0</td>\n",
       "      <td>22.64</td>\n",
       "      <td>1</td>\n",
       "      <td>Caucasian</td>\n",
       "      <td>F</td>\n",
       "      <td>165.1</td>\n",
       "      <td>...</td>\n",
       "      <td>0.0</td>\n",
       "      <td>0.0</td>\n",
       "      <td>0.0</td>\n",
       "      <td>0.0</td>\n",
       "      <td>0.0</td>\n",
       "      <td>0.0</td>\n",
       "      <td>0.0</td>\n",
       "      <td>0.0</td>\n",
       "      <td>Cardiovascular</td>\n",
       "      <td>Cardiovascular</td>\n",
       "    </tr>\n",
       "    <tr>\n",
       "      <th>4</th>\n",
       "      <td>92056</td>\n",
       "      <td>34377</td>\n",
       "      <td>33</td>\n",
       "      <td>0</td>\n",
       "      <td>19.0</td>\n",
       "      <td>NaN</td>\n",
       "      <td>0</td>\n",
       "      <td>Caucasian</td>\n",
       "      <td>M</td>\n",
       "      <td>188.0</td>\n",
       "      <td>...</td>\n",
       "      <td>0.0</td>\n",
       "      <td>0.0</td>\n",
       "      <td>0.0</td>\n",
       "      <td>0.0</td>\n",
       "      <td>0.0</td>\n",
       "      <td>0.0</td>\n",
       "      <td>0.0</td>\n",
       "      <td>0.0</td>\n",
       "      <td>Trauma</td>\n",
       "      <td>Trauma</td>\n",
       "    </tr>\n",
       "  </tbody>\n",
       "</table>\n",
       "<p>5 rows × 186 columns</p>\n",
       "</div>"
      ],
      "text/plain": [
       "   encounter_id  patient_id  hospital_id  hospital_death   age    bmi  \\\n",
       "0         66154       25312          118               0  68.0  22.73   \n",
       "1        114252       59342           81               0  77.0  27.42   \n",
       "2        119783       50777          118               0  25.0  31.95   \n",
       "3         79267       46918          118               0  81.0  22.64   \n",
       "4         92056       34377           33               0  19.0    NaN   \n",
       "\n",
       "   elective_surgery  ethnicity gender  height  ... aids cirrhosis  \\\n",
       "0                 0  Caucasian      M   180.3  ...  0.0       0.0   \n",
       "1                 0  Caucasian      F   160.0  ...  0.0       0.0   \n",
       "2                 0  Caucasian      F   172.7  ...  0.0       0.0   \n",
       "3                 1  Caucasian      F   165.1  ...  0.0       0.0   \n",
       "4                 0  Caucasian      M   188.0  ...  0.0       0.0   \n",
       "\n",
       "   diabetes_mellitus hepatic_failure immunosuppression  leukemia  lymphoma  \\\n",
       "0                1.0             0.0               0.0       0.0       0.0   \n",
       "1                1.0             0.0               0.0       0.0       0.0   \n",
       "2                0.0             0.0               0.0       0.0       0.0   \n",
       "3                0.0             0.0               0.0       0.0       0.0   \n",
       "4                0.0             0.0               0.0       0.0       0.0   \n",
       "\n",
       "   solid_tumor_with_metastasis  apache_3j_bodysystem  apache_2_bodysystem  \n",
       "0                          0.0                Sepsis       Cardiovascular  \n",
       "1                          0.0           Respiratory          Respiratory  \n",
       "2                          0.0             Metabolic            Metabolic  \n",
       "3                          0.0        Cardiovascular       Cardiovascular  \n",
       "4                          0.0                Trauma               Trauma  \n",
       "\n",
       "[5 rows x 186 columns]"
      ]
     },
     "execution_count": 2,
     "metadata": {},
     "output_type": "execute_result"
    }
   ],
   "source": [
    "# description\n",
    "description = pd.read_csv('WiDS_Datathon_2020_Dictionary.csv')\n",
    "description_dict = description.set_index('Variable Name').to_dict(orient='index')\n",
    "# data\n",
    "df = pd.read_csv('training_v2.csv')\n",
    "# drop sensitive features\n",
    "# df = df.drop(columns=['age', 'ethnicity', 'gender'])\n",
    "df.head()"
   ]
  },
  {
   "cell_type": "code",
   "execution_count": 3,
   "metadata": {},
   "outputs": [],
   "source": [
    "test_size = 0.2 # proportion for train versus test+val split\n",
    "val_size = 0.5 # proportion for test versus val split\n",
    "random_state = 42  # random state is used to set a seed for randomness, which is only relevant for reproducibility purposes\n",
    "max_missing = 0.7  # maximum percentage of missing values for a column to be dropped"
   ]
  },
  {
   "cell_type": "code",
   "execution_count": 4,
   "metadata": {},
   "outputs": [],
   "source": [
    "class DropHighlyCorrelatedFeatures(BaseEstimator, TransformerMixin):\n",
    "    def __init__(self, threshold=0.8):\n",
    "        self.threshold = threshold\n",
    "        self.features_to_drop = None\n",
    "\n",
    "    def fit(self, X, y=None):\n",
    "        # Calculate the correlation matrix\n",
    "        X = pd.DataFrame(X)\n",
    "        corr_matrix = X.corr()\n",
    "\n",
    "        # Find pairs of features that are highly correlated\n",
    "        highly_correlated = [(i, j) for i in corr_matrix.columns for j in corr_matrix.columns if (corr_matrix.loc[i, j] > self.threshold) and (i != j)]\n",
    "\n",
    "        # Remove one feature from each highly correlated pair\n",
    "        self.features_to_drop = set()\n",
    "        for i, j in highly_correlated:\n",
    "            if i not in self.features_to_drop and j not in self.features_to_drop:\n",
    "                self.features_to_drop.add(j)\n",
    "\n",
    "        return self\n",
    "\n",
    "    def transform(self, X):\n",
    "        # Drop the highly correlated features\n",
    "        X = pd.DataFrame(X)\n",
    "        X_reduced = X.drop(columns=self.features_to_drop)\n",
    "        return X_reduced\n",
    "\n",
    "    def get_feature_names_out(self, input_features=None):\n",
    "        new_features = []\n",
    "        for i, feature in enumerate(input_features):\n",
    "            if i not in self.features_to_drop:\n",
    "                new_features.append(feature)\n",
    "        return np.array(new_features)"
   ]
  },
  {
   "cell_type": "code",
   "execution_count": 5,
   "metadata": {},
   "outputs": [
    {
     "data": {
      "text/html": [
       "<style>#sk-container-id-1 {color: black;background-color: white;}#sk-container-id-1 pre{padding: 0;}#sk-container-id-1 div.sk-toggleable {background-color: white;}#sk-container-id-1 label.sk-toggleable__label {cursor: pointer;display: block;width: 100%;margin-bottom: 0;padding: 0.3em;box-sizing: border-box;text-align: center;}#sk-container-id-1 label.sk-toggleable__label-arrow:before {content: \"▸\";float: left;margin-right: 0.25em;color: #696969;}#sk-container-id-1 label.sk-toggleable__label-arrow:hover:before {color: black;}#sk-container-id-1 div.sk-estimator:hover label.sk-toggleable__label-arrow:before {color: black;}#sk-container-id-1 div.sk-toggleable__content {max-height: 0;max-width: 0;overflow: hidden;text-align: left;background-color: #f0f8ff;}#sk-container-id-1 div.sk-toggleable__content pre {margin: 0.2em;color: black;border-radius: 0.25em;background-color: #f0f8ff;}#sk-container-id-1 input.sk-toggleable__control:checked~div.sk-toggleable__content {max-height: 200px;max-width: 100%;overflow: auto;}#sk-container-id-1 input.sk-toggleable__control:checked~label.sk-toggleable__label-arrow:before {content: \"▾\";}#sk-container-id-1 div.sk-estimator input.sk-toggleable__control:checked~label.sk-toggleable__label {background-color: #d4ebff;}#sk-container-id-1 div.sk-label input.sk-toggleable__control:checked~label.sk-toggleable__label {background-color: #d4ebff;}#sk-container-id-1 input.sk-hidden--visually {border: 0;clip: rect(1px 1px 1px 1px);clip: rect(1px, 1px, 1px, 1px);height: 1px;margin: -1px;overflow: hidden;padding: 0;position: absolute;width: 1px;}#sk-container-id-1 div.sk-estimator {font-family: monospace;background-color: #f0f8ff;border: 1px dotted black;border-radius: 0.25em;box-sizing: border-box;margin-bottom: 0.5em;}#sk-container-id-1 div.sk-estimator:hover {background-color: #d4ebff;}#sk-container-id-1 div.sk-parallel-item::after {content: \"\";width: 100%;border-bottom: 1px solid gray;flex-grow: 1;}#sk-container-id-1 div.sk-label:hover label.sk-toggleable__label {background-color: #d4ebff;}#sk-container-id-1 div.sk-serial::before {content: \"\";position: absolute;border-left: 1px solid gray;box-sizing: border-box;top: 0;bottom: 0;left: 50%;z-index: 0;}#sk-container-id-1 div.sk-serial {display: flex;flex-direction: column;align-items: center;background-color: white;padding-right: 0.2em;padding-left: 0.2em;position: relative;}#sk-container-id-1 div.sk-item {position: relative;z-index: 1;}#sk-container-id-1 div.sk-parallel {display: flex;align-items: stretch;justify-content: center;background-color: white;position: relative;}#sk-container-id-1 div.sk-item::before, #sk-container-id-1 div.sk-parallel-item::before {content: \"\";position: absolute;border-left: 1px solid gray;box-sizing: border-box;top: 0;bottom: 0;left: 50%;z-index: -1;}#sk-container-id-1 div.sk-parallel-item {display: flex;flex-direction: column;z-index: 1;position: relative;background-color: white;}#sk-container-id-1 div.sk-parallel-item:first-child::after {align-self: flex-end;width: 50%;}#sk-container-id-1 div.sk-parallel-item:last-child::after {align-self: flex-start;width: 50%;}#sk-container-id-1 div.sk-parallel-item:only-child::after {width: 0;}#sk-container-id-1 div.sk-dashed-wrapped {border: 1px dashed gray;margin: 0 0.4em 0.5em 0.4em;box-sizing: border-box;padding-bottom: 0.4em;background-color: white;}#sk-container-id-1 div.sk-label label {font-family: monospace;font-weight: bold;display: inline-block;line-height: 1.2em;}#sk-container-id-1 div.sk-label-container {text-align: center;}#sk-container-id-1 div.sk-container {/* jupyter's `normalize.less` sets `[hidden] { display: none; }` but bootstrap.min.css set `[hidden] { display: none !important; }` so we also need the `!important` here to be able to override the default hidden behavior on the sphinx rendered scikit-learn.org. See: https://github.com/scikit-learn/scikit-learn/issues/21755 */display: inline-block !important;position: relative;}#sk-container-id-1 div.sk-text-repr-fallback {display: none;}</style><div id=\"sk-container-id-1\" class=\"sk-top-container\"><div class=\"sk-text-repr-fallback\"><pre>ColumnTransformer(transformers=[(&#x27;num&#x27;,\n",
       "                                 Pipeline(steps=[(&#x27;constant&#x27;,\n",
       "                                                  VarianceThreshold()),\n",
       "                                                 (&#x27;drop_correlated&#x27;,\n",
       "                                                  DropHighlyCorrelatedFeatures()),\n",
       "                                                 (&#x27;imputer&#x27;, SimpleImputer()),\n",
       "                                                 (&#x27;scaling&#x27;,\n",
       "                                                  RobustScaler(quantile_range=(10,\n",
       "                                                                               90)))]),\n",
       "                                 &lt;sklearn.compose._column_transformer.make_column_selector object at 0x00000215975AA4D0&gt;),\n",
       "                                (&#x27;cat&#x27;,\n",
       "                                 Pipeline(steps=[(&#x27;imputer&#x27;,\n",
       "                                                  SimpleImputer(fill_value=&#x27;MISSING&#x27;,\n",
       "                                                                strategy=&#x27;constant&#x27;)),\n",
       "                                                 (&#x27;encoder&#x27;,\n",
       "                                                  OneHotEncoder(drop=&#x27;first&#x27;,\n",
       "                                                                handle_unknown=&#x27;ignore&#x27;,\n",
       "                                                                sparse_output=False)),\n",
       "                                                 (&#x27;constant&#x27;,\n",
       "                                                  VarianceThreshold())]),\n",
       "                                 &lt;sklearn.compose._column_transformer.make_column_selector object at 0x00000215967F5090&gt;)])</pre><b>In a Jupyter environment, please rerun this cell to show the HTML representation or trust the notebook. <br />On GitHub, the HTML representation is unable to render, please try loading this page with nbviewer.org.</b></div><div class=\"sk-container\" hidden><div class=\"sk-item sk-dashed-wrapped\"><div class=\"sk-label-container\"><div class=\"sk-label sk-toggleable\"><input class=\"sk-toggleable__control sk-hidden--visually\" id=\"sk-estimator-id-1\" type=\"checkbox\" ><label for=\"sk-estimator-id-1\" class=\"sk-toggleable__label sk-toggleable__label-arrow\">ColumnTransformer</label><div class=\"sk-toggleable__content\"><pre>ColumnTransformer(transformers=[(&#x27;num&#x27;,\n",
       "                                 Pipeline(steps=[(&#x27;constant&#x27;,\n",
       "                                                  VarianceThreshold()),\n",
       "                                                 (&#x27;drop_correlated&#x27;,\n",
       "                                                  DropHighlyCorrelatedFeatures()),\n",
       "                                                 (&#x27;imputer&#x27;, SimpleImputer()),\n",
       "                                                 (&#x27;scaling&#x27;,\n",
       "                                                  RobustScaler(quantile_range=(10,\n",
       "                                                                               90)))]),\n",
       "                                 &lt;sklearn.compose._column_transformer.make_column_selector object at 0x00000215975AA4D0&gt;),\n",
       "                                (&#x27;cat&#x27;,\n",
       "                                 Pipeline(steps=[(&#x27;imputer&#x27;,\n",
       "                                                  SimpleImputer(fill_value=&#x27;MISSING&#x27;,\n",
       "                                                                strategy=&#x27;constant&#x27;)),\n",
       "                                                 (&#x27;encoder&#x27;,\n",
       "                                                  OneHotEncoder(drop=&#x27;first&#x27;,\n",
       "                                                                handle_unknown=&#x27;ignore&#x27;,\n",
       "                                                                sparse_output=False)),\n",
       "                                                 (&#x27;constant&#x27;,\n",
       "                                                  VarianceThreshold())]),\n",
       "                                 &lt;sklearn.compose._column_transformer.make_column_selector object at 0x00000215967F5090&gt;)])</pre></div></div></div><div class=\"sk-parallel\"><div class=\"sk-parallel-item\"><div class=\"sk-item\"><div class=\"sk-label-container\"><div class=\"sk-label sk-toggleable\"><input class=\"sk-toggleable__control sk-hidden--visually\" id=\"sk-estimator-id-2\" type=\"checkbox\" ><label for=\"sk-estimator-id-2\" class=\"sk-toggleable__label sk-toggleable__label-arrow\">num</label><div class=\"sk-toggleable__content\"><pre>&lt;sklearn.compose._column_transformer.make_column_selector object at 0x00000215975AA4D0&gt;</pre></div></div></div><div class=\"sk-serial\"><div class=\"sk-item\"><div class=\"sk-serial\"><div class=\"sk-item\"><div class=\"sk-estimator sk-toggleable\"><input class=\"sk-toggleable__control sk-hidden--visually\" id=\"sk-estimator-id-3\" type=\"checkbox\" ><label for=\"sk-estimator-id-3\" class=\"sk-toggleable__label sk-toggleable__label-arrow\">VarianceThreshold</label><div class=\"sk-toggleable__content\"><pre>VarianceThreshold()</pre></div></div></div><div class=\"sk-item\"><div class=\"sk-estimator sk-toggleable\"><input class=\"sk-toggleable__control sk-hidden--visually\" id=\"sk-estimator-id-4\" type=\"checkbox\" ><label for=\"sk-estimator-id-4\" class=\"sk-toggleable__label sk-toggleable__label-arrow\">DropHighlyCorrelatedFeatures</label><div class=\"sk-toggleable__content\"><pre>DropHighlyCorrelatedFeatures()</pre></div></div></div><div class=\"sk-item\"><div class=\"sk-estimator sk-toggleable\"><input class=\"sk-toggleable__control sk-hidden--visually\" id=\"sk-estimator-id-5\" type=\"checkbox\" ><label for=\"sk-estimator-id-5\" class=\"sk-toggleable__label sk-toggleable__label-arrow\">SimpleImputer</label><div class=\"sk-toggleable__content\"><pre>SimpleImputer()</pre></div></div></div><div class=\"sk-item\"><div class=\"sk-estimator sk-toggleable\"><input class=\"sk-toggleable__control sk-hidden--visually\" id=\"sk-estimator-id-6\" type=\"checkbox\" ><label for=\"sk-estimator-id-6\" class=\"sk-toggleable__label sk-toggleable__label-arrow\">RobustScaler</label><div class=\"sk-toggleable__content\"><pre>RobustScaler(quantile_range=(10, 90))</pre></div></div></div></div></div></div></div></div><div class=\"sk-parallel-item\"><div class=\"sk-item\"><div class=\"sk-label-container\"><div class=\"sk-label sk-toggleable\"><input class=\"sk-toggleable__control sk-hidden--visually\" id=\"sk-estimator-id-7\" type=\"checkbox\" ><label for=\"sk-estimator-id-7\" class=\"sk-toggleable__label sk-toggleable__label-arrow\">cat</label><div class=\"sk-toggleable__content\"><pre>&lt;sklearn.compose._column_transformer.make_column_selector object at 0x00000215967F5090&gt;</pre></div></div></div><div class=\"sk-serial\"><div class=\"sk-item\"><div class=\"sk-serial\"><div class=\"sk-item\"><div class=\"sk-estimator sk-toggleable\"><input class=\"sk-toggleable__control sk-hidden--visually\" id=\"sk-estimator-id-8\" type=\"checkbox\" ><label for=\"sk-estimator-id-8\" class=\"sk-toggleable__label sk-toggleable__label-arrow\">SimpleImputer</label><div class=\"sk-toggleable__content\"><pre>SimpleImputer(fill_value=&#x27;MISSING&#x27;, strategy=&#x27;constant&#x27;)</pre></div></div></div><div class=\"sk-item\"><div class=\"sk-estimator sk-toggleable\"><input class=\"sk-toggleable__control sk-hidden--visually\" id=\"sk-estimator-id-9\" type=\"checkbox\" ><label for=\"sk-estimator-id-9\" class=\"sk-toggleable__label sk-toggleable__label-arrow\">OneHotEncoder</label><div class=\"sk-toggleable__content\"><pre>OneHotEncoder(drop=&#x27;first&#x27;, handle_unknown=&#x27;ignore&#x27;, sparse_output=False)</pre></div></div></div><div class=\"sk-item\"><div class=\"sk-estimator sk-toggleable\"><input class=\"sk-toggleable__control sk-hidden--visually\" id=\"sk-estimator-id-10\" type=\"checkbox\" ><label for=\"sk-estimator-id-10\" class=\"sk-toggleable__label sk-toggleable__label-arrow\">VarianceThreshold</label><div class=\"sk-toggleable__content\"><pre>VarianceThreshold()</pre></div></div></div></div></div></div></div></div></div></div></div></div>"
      ],
      "text/plain": [
       "ColumnTransformer(transformers=[('num',\n",
       "                                 Pipeline(steps=[('constant',\n",
       "                                                  VarianceThreshold()),\n",
       "                                                 ('drop_correlated',\n",
       "                                                  DropHighlyCorrelatedFeatures()),\n",
       "                                                 ('imputer', SimpleImputer()),\n",
       "                                                 ('scaling',\n",
       "                                                  RobustScaler(quantile_range=(10,\n",
       "                                                                               90)))]),\n",
       "                                 <sklearn.compose._column_transformer.make_column_selector object at 0x00000215975AA4D0>),\n",
       "                                ('cat',\n",
       "                                 Pipeline(steps=[('imputer',\n",
       "                                                  SimpleImputer(fill_value='MISSING',\n",
       "                                                                strategy='constant')),\n",
       "                                                 ('encoder',\n",
       "                                                  OneHotEncoder(drop='first',\n",
       "                                                                handle_unknown='ignore',\n",
       "                                                                sparse_output=False)),\n",
       "                                                 ('constant',\n",
       "                                                  VarianceThreshold())]),\n",
       "                                 <sklearn.compose._column_transformer.make_column_selector object at 0x00000215967F5090>)])"
      ]
     },
     "metadata": {},
     "output_type": "display_data"
    },
    {
     "name": "stdout",
     "output_type": "stream",
     "text": [
      "Time: 3.85s\n",
      "Train set: 73370 rows, 108 columns\n",
      "Validation set: 9171 rows, 108 columns\n",
      "Test set: 9172 rows, 108 columns\n"
     ]
    }
   ],
   "source": [
    "start_time = time.time()\n",
    "\n",
    "# save features\n",
    "X = df.copy().drop(['hospital_death', 'patient_id', 'encounter_id', 'hospital_id', 'icu_id', # drop identifiers\n",
    "                    'apache_4a_hospital_death_prob', 'apache_4a_icu_death_prob', # drop APACHE scores\n",
    "                    'apache_2_bodysystem', # drop because of similarity with apache_3j_bodysystem\n",
    "                    'ethnicity', 'age', 'gender' # Check if can be dropped\n",
    "                    ],\n",
    "                   axis=1)\n",
    "# save target variable\n",
    "y = df['hospital_death'].copy()\n",
    "# save APACHE scores for later evaluation on train / test / validation data\n",
    "y_apache = df['apache_4a_hospital_death_prob'].copy()\n",
    "\n",
    "\"\"\" SPLIT DATA SET \"\"\"\n",
    "# split the dataset into train and test+validation set\n",
    "(\n",
    "    X_train,\n",
    "    X_test,\n",
    "    y_train,\n",
    "    y_test,\n",
    "    y_apache_train,\n",
    "    y_apache_test,\n",
    "    ) = train_test_split(X, y, y_apache, \n",
    "                         test_size=test_size, # used for testing and validation\n",
    "                         random_state=random_state # for reproducibility\n",
    "                        ) \n",
    "# split the test set into test + validation set\n",
    "(\n",
    "    X_val,\n",
    "    X_test,\n",
    "    y_val,\n",
    "    y_test,\n",
    "    y_apache_val,\n",
    "    y_apache_test,\n",
    "    ) = train_test_split(X_test, y_test, y_apache_test, \n",
    "                         test_size=val_size, # used for testing and validation\n",
    "                         random_state=random_state # for reproducibility\n",
    "                        ) \n",
    "\n",
    "\"\"\"MISSING VALUES\"\"\"\n",
    "# drop columns with many missing values\n",
    "missing = X_train.isna().sum() > max_missing * len(X_train)\n",
    "missing = missing[missing].index\n",
    "X_train = X_train.drop(missing, axis=1)\n",
    "X_val = X_val.drop(missing, axis=1)\n",
    "X_test = X_test.drop(missing, axis=1)\n",
    "\n",
    "\"\"\"FURTHER PROCESSING PIPELINE\"\"\"\n",
    "# define pre-processing steps for numerical features\n",
    "num_transformer = Pipeline(steps=[(\"constant\", VarianceThreshold()), # remove constant features\n",
    "                                  (\"drop_correlated\", DropHighlyCorrelatedFeatures(threshold=0.8)),\n",
    "                                  (\"imputer\", SimpleImputer(strategy=\"mean\")),\n",
    "                                  (\"scaling\", RobustScaler(quantile_range=(10, 90))),\n",
    "                                 ])\n",
    "# define preprocessing steps for categorical features\n",
    "cat_transformer = Pipeline(steps=[\n",
    "    (\"imputer\", SimpleImputer(strategy=\"constant\", fill_value=\"MISSING\")),\n",
    "    (\"encoder\", OneHotEncoder(drop='first', sparse_output=False, handle_unknown=\"ignore\")),\n",
    "    (\"constant\", VarianceThreshold())\n",
    "    ])\n",
    "# create preprocessing pipeline\n",
    "prep_pipeline = ColumnTransformer(\n",
    "    transformers=[\n",
    "        ('num', num_transformer, make_column_selector(dtype_exclude=object)), # apply to columns NOT of type object (int or float)\n",
    "        ('cat', cat_transformer, make_column_selector(dtype_include=object)) # apply to columns of type object\n",
    "    ])\n",
    "\n",
    "prep_pipeline.fit(X_train, y_train)\n",
    "display(prep_pipeline) # display preprocessing pipeline\n",
    "\n",
    "# transform data sets\n",
    "X_train = pd.DataFrame(prep_pipeline.transform(X_train), columns=prep_pipeline.get_feature_names_out())\n",
    "X_val = pd.DataFrame(prep_pipeline.transform(X_val), columns=prep_pipeline.get_feature_names_out())\n",
    "X_test = pd.DataFrame(prep_pipeline.transform(X_test), columns=prep_pipeline.get_feature_names_out())\n",
    "        \n",
    "\"\"\"PRINT STATS\"\"\"\n",
    "print(\"Time: %.2fs\" % (time.time() - start_time))\n",
    "print(\"Train set: %s rows, %s columns\" % X_train.shape)\n",
    "print(\"Validation set: %s rows, %s columns\" % X_val.shape)\n",
    "print(\"Test set: %s rows, %s columns\" % X_test.shape)"
   ]
  },
  {
   "cell_type": "markdown",
   "metadata": {},
   "source": [
    "## Evaluation"
   ]
  },
  {
   "cell_type": "code",
   "execution_count": 6,
   "metadata": {},
   "outputs": [],
   "source": [
    "def plotCFMatrix(cm): # input is the confusion matrix from sklearn\n",
    "    \n",
    "    plt.figure(figsize=(8, 6))  \n",
    "    sns.set_style(\"whitegrid\") \n",
    "    sns.heatmap(cm, annot=True, fmt=\"d\")\n",
    "    plt.title('Confusion Matrix')\n",
    "    plt.ylabel('Actual Values')\n",
    "    plt.xlabel('Predicted Values')\n",
    "    plt.show()"
   ]
  },
  {
   "cell_type": "code",
   "execution_count": 7,
   "metadata": {},
   "outputs": [],
   "source": [
    "def Metrics(y_true, y_pred):\n",
    "    accuracy = accuracy_score(y_true, y_pred)\n",
    "    precision = precision_score(y_true, y_pred)\n",
    "    recall = recall_score(y_true, y_pred)\n",
    "    f1 = f1_score(y_true, y_pred)\n",
    "    \n",
    "    cm = confusion_matrix(y_true, y_pred)\n",
    "    tn, fp, fn, tp = cm.ravel()\n",
    "    tpr = tp / (tp + fn)\n",
    "    tnr = tn / (tn + fp)\n",
    "    \n",
    "    print(f'Accuracy: {accuracy:.2f}')\n",
    "    print(f'Precision: {precision:.2f}')\n",
    "    print(f'Recall: {recall:.2f}')\n",
    "    print(f'F1 Score: {f1:.2f}')\n",
    "    print(f'TPR: {tpr}')\n",
    "    print(f'TNR: {tnr}')\n",
    "    return accuracy, precision, recall, f1, tpr, tnr"
   ]
  },
  {
   "cell_type": "code",
   "execution_count": 8,
   "metadata": {},
   "outputs": [],
   "source": [
    "def calibration_plot(y_true, y_prob, model_name):\n",
    "    prob_true, prob_pred = calibration_curve(y_true, y_prob, n_bins=10)\n",
    "    \n",
    "    plt.figure(figsize=(8, 6))\n",
    "    plt.plot(prob_pred, prob_true, marker='o', label=model_name)\n",
    "    plt.plot([0, 1], [0, 1], linestyle='--', color='gray')\n",
    "    plt.xlabel('Mean Predicted Probability')\n",
    "    plt.ylabel('Fraction of Positives')\n",
    "    plt.title(f'Calibration Plot of {model_name}')\n",
    "    plt.legend()\n",
    "    plt.show()"
   ]
  },
  {
   "cell_type": "markdown",
   "metadata": {},
   "source": [
    "## XGBoost Model"
   ]
  },
  {
   "cell_type": "code",
   "execution_count": 9,
   "metadata": {},
   "outputs": [],
   "source": [
    "%matplotlib inline"
   ]
  },
  {
   "cell_type": "code",
   "execution_count": 10,
   "metadata": {},
   "outputs": [],
   "source": [
    "parameters = {\n",
    "    'n_estimators': [50,100,200,500,1000],\n",
    "    'learning_rate': [0.1, 0.3, 0.6, 0.8, 1.0],\n",
    "    'max_depth': [1,3,6,10],\n",
    "    'reg_alpha': [0.0, 0.1, 0.5, 1.0],\n",
    "    'reg_lambda': [0.1, 0.5, 1.0, 1.5],\n",
    "}"
   ]
  },
  {
   "cell_type": "code",
   "execution_count": 11,
   "metadata": {},
   "outputs": [],
   "source": [
    "# xg = xgb.XGBClassifier(random_state=42)\n",
    "# g = RandomizedSearchCV(xg, parameters, cv=5, n_jobs=8)\n",
    "# g.fit(X_train, y_train)\n",
    "# cls_params = g.best_params_\n",
    "# cls_params"
   ]
  },
  {
   "cell_type": "code",
   "execution_count": 12,
   "metadata": {},
   "outputs": [],
   "source": [
    "xg = xgb.XGBClassifier(\n",
    "    objective='binary:logistic',\n",
    "    learning_rate=0.1,\n",
    "    n_estimators=100,\n",
    "    max_depth=10,\n",
    "    reg_lambda=1.0,\n",
    "    reg_alpha=0.0,\n",
    "    random_state=42\n",
    ")\n",
    "xg.fit(X_train, y_train)\n",
    "xg_pred = xg.predict(X_val)\n",
    "xg_pred_proba = xg.predict_proba(X_val)[:, 1]"
   ]
  },
  {
   "cell_type": "code",
   "execution_count": 13,
   "metadata": {},
   "outputs": [
    {
     "name": "stdout",
     "output_type": "stream",
     "text": [
      "Accuracy: 0.93\n",
      "Precision: 0.74\n",
      "Recall: 0.32\n",
      "F1 Score: 0.45\n",
      "TPR: 0.3241206030150754\n",
      "TNR: 0.9891343283582089\n"
     ]
    }
   ],
   "source": [
    "cm_xg = confusion_matrix(y_val, xg_pred)\n",
    "accuracy_xg, precision_xg, recall_xg, f1_xg, tpr_xg, tnr_xg = Metrics(y_val, xg_pred)"
   ]
  },
  {
   "cell_type": "code",
   "execution_count": 14,
   "metadata": {},
   "outputs": [
    {
     "data": {
      "image/png": "[encoded data removed]",
      "text/plain": [
       "<Figure size 800x600 with 2 Axes>"
      ]
     },
     "metadata": {},
     "output_type": "display_data"
    }
   ],
   "source": [
    "plotCFMatrix(cm_xg)"
   ]
  },
  {
   "cell_type": "code",
   "execution_count": 15,
   "metadata": {},
   "outputs": [
    {
     "data": {
      "image/png": "[encoded data removed]",
      "text/plain": [
       "<Figure size 640x480 with 1 Axes>"
      ]
     },
     "metadata": {},
     "output_type": "display_data"
    }
   ],
   "source": [
    "RocCurveDisplay.from_predictions(y_true=y_val, y_pred=xg_pred_proba, name='XGBoost')\n",
    "plt.plot([0, 1], [0, 1], linestyle=\"--\", label='Random Predictions (AUC=0.5)')\n",
    "plt.legend()\n",
    "plt.show()"
   ]
  },
  {
   "cell_type": "code",
   "execution_count": 16,
   "metadata": {},
   "outputs": [
    {
     "data": {
      "image/png": "[encoded data removed]",
      "text/plain": [
       "<Figure size 800x600 with 1 Axes>"
      ]
     },
     "metadata": {},
     "output_type": "display_data"
    }
   ],
   "source": [
    "calibration_plot(y_val, xg_pred_proba, \"XGBoost\")"
   ]
  },
  {
   "cell_type": "markdown",
   "metadata": {},
   "source": [
    "Top 10 most important features for XGBoost"
   ]
  },
  {
   "cell_type": "code",
   "execution_count": 17,
   "metadata": {},
   "outputs": [
    {
     "data": {
      "image/png": "[encoded data removed]",
      "text/plain": [
       "<Figure size 1000x600 with 1 Axes>"
      ]
     },
     "metadata": {},
     "output_type": "display_data"
    }
   ],
   "source": [
    "plt.figure(figsize=(10, 6))\n",
    "plt.barh(range(10), xg.feature_importances_[:10])\n",
    "plt.yticks(range(10), X_train.columns[:10])\n",
    "plt.title('XGBoost Feature Importance')\n",
    "plt.xlabel('Importance')\n",
    "plt.ylabel('Features')\n",
    "plt.tight_layout()\n",
    "plt.show()"
   ]
  },
  {
   "cell_type": "code",
   "execution_count": 18,
   "metadata": {},
   "outputs": [],
   "source": [
    "xg_pred_test = xg.predict(X_test)\n",
    "xg_pred_proba_test = xg.predict_proba(X_test)[:, 1]"
   ]
  },
  {
   "cell_type": "code",
   "execution_count": 19,
   "metadata": {},
   "outputs": [
    {
     "data": {
      "text/plain": [
       "0.6121068000793457"
      ]
     },
     "execution_count": 19,
     "metadata": {},
     "output_type": "execute_result"
    }
   ],
   "source": [
    "single_patient = X_test.head(1)\n",
    "start_time = time.time()  # Start timer\n",
    "for x in range(100):\n",
    "    xg.predict(single_patient)  # Perform prediction\n",
    "end_time = time.time()  # End timer\n",
    "inference_time = end_time - start_time\n",
    "inference_time"
   ]
  },
  {
   "cell_type": "code",
   "execution_count": 20,
   "metadata": {},
   "outputs": [
    {
     "name": "stdout",
     "output_type": "stream",
     "text": [
      "0.05525328149932139\n"
     ]
    }
   ],
   "source": [
    "brier_score = brier_score_loss(y_test, xg_pred_proba_test)\n",
    "print(brier_score)"
   ]
  },
  {
   "cell_type": "code",
   "execution_count": 21,
   "metadata": {},
   "outputs": [
    {
     "name": "stdout",
     "output_type": "stream",
     "text": [
      "Accuracy: 0.93\n",
      "Precision: 0.68\n",
      "Recall: 0.30\n",
      "F1 Score: 0.42\n",
      "TPR: 0.30467762326169406\n",
      "TNR: 0.9866364395656843\n"
     ]
    }
   ],
   "source": [
    "cm_xg = confusion_matrix(y_test, xg_pred_test)\n",
    "accuracy_xg, precision_xg, recall_xg, f1_xg, tpr_xg, tnr_xg = Metrics(y_test, xg_pred_test)"
   ]
  },
  {
   "cell_type": "code",
   "execution_count": 22,
   "metadata": {},
   "outputs": [
    {
     "data": {
      "image/png": "[encoded data removed]",
      "text/plain": [
       "<Figure size 800x600 with 2 Axes>"
      ]
     },
     "metadata": {},
     "output_type": "display_data"
    }
   ],
   "source": [
    "plotCFMatrix(cm_xg)"
   ]
  },
  {
   "cell_type": "code",
   "execution_count": 23,
   "metadata": {},
   "outputs": [
    {
     "data": {
      "image/png": "[encoded data removed]",
      "text/plain": [
       "<Figure size 640x480 with 1 Axes>"
      ]
     },
     "metadata": {},
     "output_type": "display_data"
    }
   ],
   "source": [
    "RocCurveDisplay.from_predictions(y_true=y_val, y_pred=xg_pred_proba, name='XGBoost')\n",
    "plt.plot([0, 1], [0, 1], linestyle=\"--\", label='Random Predictions (AUC=0.5)')\n",
    "plt.legend()\n",
    "plt.show()"
   ]
  },
  {
   "cell_type": "code",
   "execution_count": 24,
   "metadata": {},
   "outputs": [
    {
     "data": {
      "image/png": "[encoded data removed]",
      "text/plain": [
       "<Figure size 800x600 with 1 Axes>"
      ]
     },
     "metadata": {},
     "output_type": "display_data"
    }
   ],
   "source": [
    "calibration_plot(y_val, xg_pred_proba, \"XGBoost\")"
   ]
  },
  {
   "cell_type": "code",
   "execution_count": 25,
   "metadata": {},
   "outputs": [
    {
     "data": {
      "text/html": [
       "<div>\n",
       "<style scoped>\n",
       "    .dataframe tbody tr th:only-of-type {\n",
       "        vertical-align: middle;\n",
       "    }\n",
       "\n",
       "    .dataframe tbody tr th {\n",
       "        vertical-align: top;\n",
       "    }\n",
       "\n",
       "    .dataframe thead th {\n",
       "        text-align: right;\n",
       "    }\n",
       "</style>\n",
       "<table border=\"1\" class=\"dataframe\">\n",
       "  <thead>\n",
       "    <tr style=\"text-align: right;\">\n",
       "      <th></th>\n",
       "      <th>Variable Name</th>\n",
       "      <th>Description</th>\n",
       "    </tr>\n",
       "  </thead>\n",
       "  <tbody>\n",
       "    <tr>\n",
       "      <th>19</th>\n",
       "      <td>albumin_apache</td>\n",
       "      <td>The albumin concentration measured during the ...</td>\n",
       "    </tr>\n",
       "    <tr>\n",
       "      <th>20</th>\n",
       "      <td>apache_2_diagnosis</td>\n",
       "      <td>The APACHE II diagnosis for the ICU admission</td>\n",
       "    </tr>\n",
       "    <tr>\n",
       "      <th>21</th>\n",
       "      <td>apache_3j_diagnosis</td>\n",
       "      <td>The APACHE III-J sub-diagnosis code which best...</td>\n",
       "    </tr>\n",
       "    <tr>\n",
       "      <th>22</th>\n",
       "      <td>apache_post_operative</td>\n",
       "      <td>The APACHE operative status; 1 for post-operat...</td>\n",
       "    </tr>\n",
       "    <tr>\n",
       "      <th>23</th>\n",
       "      <td>arf_apache</td>\n",
       "      <td>Whether the patient had acute renal failure du...</td>\n",
       "    </tr>\n",
       "    <tr>\n",
       "      <th>24</th>\n",
       "      <td>bilirubin_apache</td>\n",
       "      <td>The bilirubin concentration measured during th...</td>\n",
       "    </tr>\n",
       "    <tr>\n",
       "      <th>25</th>\n",
       "      <td>bun_apache</td>\n",
       "      <td>The blood urea nitrogen concentration measured...</td>\n",
       "    </tr>\n",
       "    <tr>\n",
       "      <th>26</th>\n",
       "      <td>creatinine_apache</td>\n",
       "      <td>The creatinine concentration measured during t...</td>\n",
       "    </tr>\n",
       "    <tr>\n",
       "      <th>27</th>\n",
       "      <td>fio2_apache</td>\n",
       "      <td>The fraction of inspired oxygen from the arter...</td>\n",
       "    </tr>\n",
       "    <tr>\n",
       "      <th>28</th>\n",
       "      <td>gcs_eyes_apache</td>\n",
       "      <td>The eye opening component of the Glasgow Coma ...</td>\n",
       "    </tr>\n",
       "    <tr>\n",
       "      <th>29</th>\n",
       "      <td>gcs_motor_apache</td>\n",
       "      <td>The motor component of the Glasgow Coma Scale ...</td>\n",
       "    </tr>\n",
       "    <tr>\n",
       "      <th>30</th>\n",
       "      <td>gcs_unable_apache</td>\n",
       "      <td>Whether the Glasgow Coma Scale was unable to b...</td>\n",
       "    </tr>\n",
       "    <tr>\n",
       "      <th>31</th>\n",
       "      <td>gcs_verbal_apache</td>\n",
       "      <td>The verbal component of the Glasgow Coma Scale...</td>\n",
       "    </tr>\n",
       "    <tr>\n",
       "      <th>32</th>\n",
       "      <td>glucose_apache</td>\n",
       "      <td>The glucose concentration measured during the ...</td>\n",
       "    </tr>\n",
       "    <tr>\n",
       "      <th>33</th>\n",
       "      <td>heart_rate_apache</td>\n",
       "      <td>The heart rate measured during the first 24 ho...</td>\n",
       "    </tr>\n",
       "    <tr>\n",
       "      <th>34</th>\n",
       "      <td>hematocrit_apache</td>\n",
       "      <td>The hematocrit measured during the first 24 ho...</td>\n",
       "    </tr>\n",
       "    <tr>\n",
       "      <th>35</th>\n",
       "      <td>intubated_apache</td>\n",
       "      <td>Whether the patient was intubated at the time ...</td>\n",
       "    </tr>\n",
       "    <tr>\n",
       "      <th>36</th>\n",
       "      <td>map_apache</td>\n",
       "      <td>The mean arterial pressure measured during the...</td>\n",
       "    </tr>\n",
       "    <tr>\n",
       "      <th>37</th>\n",
       "      <td>paco2_apache</td>\n",
       "      <td>The partial pressure of carbon dioxide from th...</td>\n",
       "    </tr>\n",
       "    <tr>\n",
       "      <th>38</th>\n",
       "      <td>paco2_for_ph_apache</td>\n",
       "      <td>The partial pressure of carbon dioxide from th...</td>\n",
       "    </tr>\n",
       "    <tr>\n",
       "      <th>39</th>\n",
       "      <td>pao2_apache</td>\n",
       "      <td>The partial pressure of oxygen from the arteri...</td>\n",
       "    </tr>\n",
       "    <tr>\n",
       "      <th>40</th>\n",
       "      <td>ph_apache</td>\n",
       "      <td>The pH from the arterial blood gas taken durin...</td>\n",
       "    </tr>\n",
       "    <tr>\n",
       "      <th>41</th>\n",
       "      <td>resprate_apache</td>\n",
       "      <td>The respiratory rate measured during the first...</td>\n",
       "    </tr>\n",
       "    <tr>\n",
       "      <th>42</th>\n",
       "      <td>sodium_apache</td>\n",
       "      <td>The sodium concentration measured during the f...</td>\n",
       "    </tr>\n",
       "    <tr>\n",
       "      <th>43</th>\n",
       "      <td>temp_apache</td>\n",
       "      <td>The temperature measured during the first 24 h...</td>\n",
       "    </tr>\n",
       "    <tr>\n",
       "      <th>44</th>\n",
       "      <td>urineoutput_apache</td>\n",
       "      <td>The total urine output for the first 24 hours</td>\n",
       "    </tr>\n",
       "    <tr>\n",
       "      <th>45</th>\n",
       "      <td>ventilated_apache</td>\n",
       "      <td>Whether the patient was invasively ventilated ...</td>\n",
       "    </tr>\n",
       "    <tr>\n",
       "      <th>46</th>\n",
       "      <td>wbc_apache</td>\n",
       "      <td>The white blood cell count measured during the...</td>\n",
       "    </tr>\n",
       "    <tr>\n",
       "      <th>175</th>\n",
       "      <td>apache_4a_hospital_death_prob</td>\n",
       "      <td>The APACHE IVa probabilistic prediction of in-...</td>\n",
       "    </tr>\n",
       "    <tr>\n",
       "      <th>176</th>\n",
       "      <td>apache_4a_icu_death_prob</td>\n",
       "      <td>The APACHE IVa probabilistic prediction of in ...</td>\n",
       "    </tr>\n",
       "    <tr>\n",
       "      <th>185</th>\n",
       "      <td>apache_3j_bodysystem</td>\n",
       "      <td>Admission diagnosis group for APACHE III</td>\n",
       "    </tr>\n",
       "    <tr>\n",
       "      <th>186</th>\n",
       "      <td>apache_2_bodysystem</td>\n",
       "      <td>Admission diagnosis group for APACHE II</td>\n",
       "    </tr>\n",
       "  </tbody>\n",
       "</table>\n",
       "</div>"
      ],
      "text/plain": [
       "                     Variable Name  \\\n",
       "19                  albumin_apache   \n",
       "20              apache_2_diagnosis   \n",
       "21             apache_3j_diagnosis   \n",
       "22           apache_post_operative   \n",
       "23                      arf_apache   \n",
       "24                bilirubin_apache   \n",
       "25                      bun_apache   \n",
       "26               creatinine_apache   \n",
       "27                     fio2_apache   \n",
       "28                 gcs_eyes_apache   \n",
       "29                gcs_motor_apache   \n",
       "30               gcs_unable_apache   \n",
       "31               gcs_verbal_apache   \n",
       "32                  glucose_apache   \n",
       "33               heart_rate_apache   \n",
       "34               hematocrit_apache   \n",
       "35                intubated_apache   \n",
       "36                      map_apache   \n",
       "37                    paco2_apache   \n",
       "38             paco2_for_ph_apache   \n",
       "39                     pao2_apache   \n",
       "40                       ph_apache   \n",
       "41                 resprate_apache   \n",
       "42                   sodium_apache   \n",
       "43                     temp_apache   \n",
       "44              urineoutput_apache   \n",
       "45               ventilated_apache   \n",
       "46                      wbc_apache   \n",
       "175  apache_4a_hospital_death_prob   \n",
       "176       apache_4a_icu_death_prob   \n",
       "185           apache_3j_bodysystem   \n",
       "186            apache_2_bodysystem   \n",
       "\n",
       "                                           Description  \n",
       "19   The albumin concentration measured during the ...  \n",
       "20       The APACHE II diagnosis for the ICU admission  \n",
       "21   The APACHE III-J sub-diagnosis code which best...  \n",
       "22   The APACHE operative status; 1 for post-operat...  \n",
       "23   Whether the patient had acute renal failure du...  \n",
       "24   The bilirubin concentration measured during th...  \n",
       "25   The blood urea nitrogen concentration measured...  \n",
       "26   The creatinine concentration measured during t...  \n",
       "27   The fraction of inspired oxygen from the arter...  \n",
       "28   The eye opening component of the Glasgow Coma ...  \n",
       "29   The motor component of the Glasgow Coma Scale ...  \n",
       "30   Whether the Glasgow Coma Scale was unable to b...  \n",
       "31   The verbal component of the Glasgow Coma Scale...  \n",
       "32   The glucose concentration measured during the ...  \n",
       "33   The heart rate measured during the first 24 ho...  \n",
       "34   The hematocrit measured during the first 24 ho...  \n",
       "35   Whether the patient was intubated at the time ...  \n",
       "36   The mean arterial pressure measured during the...  \n",
       "37   The partial pressure of carbon dioxide from th...  \n",
       "38   The partial pressure of carbon dioxide from th...  \n",
       "39   The partial pressure of oxygen from the arteri...  \n",
       "40   The pH from the arterial blood gas taken durin...  \n",
       "41   The respiratory rate measured during the first...  \n",
       "42   The sodium concentration measured during the f...  \n",
       "43   The temperature measured during the first 24 h...  \n",
       "44       The total urine output for the first 24 hours  \n",
       "45   Whether the patient was invasively ventilated ...  \n",
       "46   The white blood cell count measured during the...  \n",
       "175  The APACHE IVa probabilistic prediction of in-...  \n",
       "176  The APACHE IVa probabilistic prediction of in ...  \n",
       "185           Admission diagnosis group for APACHE III  \n",
       "186            Admission diagnosis group for APACHE II  "
      ]
     },
     "execution_count": 25,
     "metadata": {},
     "output_type": "execute_result"
    }
   ],
   "source": [
    "description[[\"Variable Name\", \"Description\"]].loc[description[\"Variable Name\"].str.contains(\"apache\")]"
   ]
  },
  {
   "cell_type": "code",
   "execution_count": 26,
   "metadata": {},
   "outputs": [],
   "source": [
    "non_nan_apache = y_apache_test[~y_apache_test.isna()].index"
   ]
  },
  {
   "cell_type": "code",
   "execution_count": 27,
   "metadata": {},
   "outputs": [],
   "source": [
    "y_apache_test_binary = (y_apache_test > 0.5).astype(int)"
   ]
  },
  {
   "cell_type": "code",
   "execution_count": 28,
   "metadata": {},
   "outputs": [
    {
     "name": "stdout",
     "output_type": "stream",
     "text": [
      "Accuracy: 0.92\n",
      "Precision: 0.58\n",
      "Recall: 0.33\n",
      "F1 Score: 0.42\n",
      "TPR: 0.32737276478679506\n",
      "TNR: 0.977436704709432\n"
     ]
    }
   ],
   "source": [
    "cm_xg = confusion_matrix(y_test[non_nan_apache], y_apache_test_binary[non_nan_apache])\n",
    "accuracy_xg, precision_xg, recall_xg, f1_xg, tpr_xg, tnr_xg = Metrics(y_test[non_nan_apache], y_apache_test_binary[non_nan_apache])"
   ]
  },
  {
   "cell_type": "code",
   "execution_count": 29,
   "metadata": {},
   "outputs": [],
   "source": [
    "non_nan_apache_reset = y_apache_test.reset_index(drop=False)[y_apache_test.reset_index(drop=False)[\"index\"].isin(non_nan_apache)].index"
   ]
  },
  {
   "cell_type": "code",
   "execution_count": 30,
   "metadata": {},
   "outputs": [],
   "source": [
    "xg_pred_test = xg.predict(X_test.iloc[non_nan_apache_reset])\n",
    "xg_pred_proba_test = xg.predict_proba(X_test.iloc[non_nan_apache_reset])[:, 1]"
   ]
  },
  {
   "cell_type": "code",
   "execution_count": 31,
   "metadata": {},
   "outputs": [
    {
     "name": "stdout",
     "output_type": "stream",
     "text": [
      "Accuracy: 0.93\n",
      "Precision: 0.69\n",
      "Recall: 0.30\n",
      "F1 Score: 0.42\n",
      "TPR: 0.30398899587345257\n",
      "TNR: 0.9872753509117146\n"
     ]
    }
   ],
   "source": [
    "cm_xg = confusion_matrix(y_test[non_nan_apache], xg_pred_test)\n",
    "accuracy_xg, precision_xg, recall_xg, f1_xg, tpr_xg, tnr_xg = Metrics(y_test[non_nan_apache], xg_pred_test)"
   ]
  },
  {
   "cell_type": "code",
   "execution_count": 32,
   "metadata": {},
   "outputs": [],
   "source": [
    "X_test_with_index = X_test.copy().set_index(y_test.index)"
   ]
  },
  {
   "cell_type": "code",
   "execution_count": 33,
   "metadata": {},
   "outputs": [
    {
     "data": {
      "text/plain": [
       "ethnicity\n",
       "Caucasian           70684\n",
       "African American     9547\n",
       "Other/Unknown        4374\n",
       "Hispanic             3796\n",
       "Asian                1129\n",
       "Native American       788\n",
       "Name: count, dtype: int64"
      ]
     },
     "execution_count": 33,
     "metadata": {},
     "output_type": "execute_result"
    }
   ],
   "source": [
    "df.ethnicity.value_counts()"
   ]
  },
  {
   "cell_type": "code",
   "execution_count": 34,
   "metadata": {},
   "outputs": [
    {
     "data": {
      "text/html": [
       "<div>\n",
       "<style scoped>\n",
       "    .dataframe tbody tr th:only-of-type {\n",
       "        vertical-align: middle;\n",
       "    }\n",
       "\n",
       "    .dataframe tbody tr th {\n",
       "        vertical-align: top;\n",
       "    }\n",
       "\n",
       "    .dataframe thead th {\n",
       "        text-align: right;\n",
       "    }\n",
       "</style>\n",
       "<table border=\"1\" class=\"dataframe\">\n",
       "  <thead>\n",
       "    <tr style=\"text-align: right;\">\n",
       "      <th>hospital_death</th>\n",
       "      <th>0</th>\n",
       "      <th>1</th>\n",
       "    </tr>\n",
       "    <tr>\n",
       "      <th>ethnicity</th>\n",
       "      <th></th>\n",
       "      <th></th>\n",
       "    </tr>\n",
       "  </thead>\n",
       "  <tbody>\n",
       "    <tr>\n",
       "      <th>African American</th>\n",
       "      <td>0.921441</td>\n",
       "      <td>0.078559</td>\n",
       "    </tr>\n",
       "    <tr>\n",
       "      <th>Asian</th>\n",
       "      <td>0.917626</td>\n",
       "      <td>0.082374</td>\n",
       "    </tr>\n",
       "    <tr>\n",
       "      <th>Caucasian</th>\n",
       "      <td>0.912738</td>\n",
       "      <td>0.087262</td>\n",
       "    </tr>\n",
       "    <tr>\n",
       "      <th>Hispanic</th>\n",
       "      <td>0.900948</td>\n",
       "      <td>0.099052</td>\n",
       "    </tr>\n",
       "    <tr>\n",
       "      <th>Native American</th>\n",
       "      <td>0.911168</td>\n",
       "      <td>0.088832</td>\n",
       "    </tr>\n",
       "    <tr>\n",
       "      <th>Other/Unknown</th>\n",
       "      <td>0.919296</td>\n",
       "      <td>0.080704</td>\n",
       "    </tr>\n",
       "  </tbody>\n",
       "</table>\n",
       "</div>"
      ],
      "text/plain": [
       "hospital_death           0         1\n",
       "ethnicity                           \n",
       "African American  0.921441  0.078559\n",
       "Asian             0.917626  0.082374\n",
       "Caucasian         0.912738  0.087262\n",
       "Hispanic          0.900948  0.099052\n",
       "Native American   0.911168  0.088832\n",
       "Other/Unknown     0.919296  0.080704"
      ]
     },
     "execution_count": 34,
     "metadata": {},
     "output_type": "execute_result"
    }
   ],
   "source": [
    "ethnicity_grouped = df.groupby('ethnicity')['hospital_death'].value_counts(normalize=True).unstack()\n",
    "ethnicity_grouped"
   ]
  },
  {
   "cell_type": "code",
   "execution_count": 35,
   "metadata": {},
   "outputs": [],
   "source": [
    "X_test_caucasian = X_test_with_index.loc[df.iloc[y_test.index].loc[df.iloc[y_test.index].ethnicity == \"Caucasian\"].index]\n",
    "y_test_caucasian = y_test.loc[df.iloc[y_test.index].loc[df.iloc[y_test.index].ethnicity == \"Caucasian\"].index]\n",
    "\n",
    "X_test_african_american = X_test_with_index.loc[df.iloc[y_test.index].loc[df.iloc[y_test.index].ethnicity == \"African American\"].index]\n",
    "y_test_african_american = y_test.loc[df.iloc[y_test.index].loc[df.iloc[y_test.index].ethnicity == \"African American\"].index]\n",
    "\n",
    "X_test_other = X_test_with_index.loc[df.iloc[y_test.index].loc[df.iloc[y_test.index].ethnicity == \"Other/Unknown\"].index]\n",
    "y_test_other = y_test.loc[df.iloc[y_test.index].loc[df.iloc[y_test.index].ethnicity == \"Other/Unknown\"].index]\n",
    "\n",
    "X_test_hispanic = X_test_with_index.loc[df.iloc[y_test.index].loc[df.iloc[y_test.index].ethnicity == \"Hispanic\"].index]\n",
    "y_test_hispanic = y_test.loc[df.iloc[y_test.index].loc[df.iloc[y_test.index].ethnicity == \"Hispanic\"].index]\n",
    "\n",
    "X_test_asian = X_test_with_index.loc[df.iloc[y_test.index].loc[df.iloc[y_test.index].ethnicity == \"Asian\"].index]\n",
    "y_test_asian = y_test.loc[df.iloc[y_test.index].loc[df.iloc[y_test.index].ethnicity == \"Asian\"].index]\n",
    "\n",
    "X_test_native_american = X_test_with_index.loc[df.iloc[y_test.index].loc[df.iloc[y_test.index].ethnicity == \"Native American\"].index]\n",
    "y_test_native_american = y_test.loc[df.iloc[y_test.index].loc[df.iloc[y_test.index].ethnicity == \"Native American\"].index]"
   ]
  },
  {
   "cell_type": "code",
   "execution_count": 36,
   "metadata": {},
   "outputs": [
    {
     "name": "stdout",
     "output_type": "stream",
     "text": [
      "total: 0.038486698648059314\n",
      "caucasian: 0.07346174 1.9087566299411458\n",
      "african american: 0.08292459 2.154629844275142\n",
      "other: 0.072011314 1.8710701842990203\n",
      "hispanic: 0.073120564 1.89989182732936\n",
      "asian: 0.08344723 2.168209687339685\n",
      "native american: 0.08461656 2.198592234096851\n"
     ]
    }
   ],
   "source": [
    "xg_pred_test = xg.predict(X_test)\n",
    "total_mean = xg_pred_test.mean()\n",
    "print(\"total:\", xg_pred_test.mean())\n",
    "\n",
    "xg_pred_test = xg.predict_proba(X_test_caucasian)[:, 1]\n",
    "print(\"caucasian:\", xg_pred_test.mean(), xg_pred_test.mean()/total_mean)\n",
    "\n",
    "xg_pred_test = xg.predict_proba(X_test_african_american)[:, 1]\n",
    "print(\"african american:\", xg_pred_test.mean(), xg_pred_test.mean()/total_mean)\n",
    "\n",
    "xg_pred_test = xg.predict_proba(X_test_other)[:, 1]\n",
    "print(\"other:\", xg_pred_test.mean(), xg_pred_test.mean()/total_mean)\n",
    "\n",
    "xg_pred_test = xg.predict_proba(X_test_hispanic)[:, 1]\n",
    "print(\"hispanic:\", xg_pred_test.mean(), xg_pred_test.mean()/total_mean)\n",
    "\n",
    "xg_pred_test = xg.predict_proba(X_test_asian)[:, 1]\n",
    "print(\"asian:\", xg_pred_test.mean(), xg_pred_test.mean()/total_mean)\n",
    "\n",
    "xg_pred_test = xg.predict_proba(X_test_native_american)[:, 1]\n",
    "print(\"native american:\", xg_pred_test.mean(), xg_pred_test.mean()/total_mean)\n"
   ]
  },
  {
   "cell_type": "code",
   "execution_count": 37,
   "metadata": {},
   "outputs": [
    {
     "name": "stdout",
     "output_type": "stream",
     "text": [
      "Accuracy: 0.93\n",
      "Precision: 0.68\n",
      "Recall: 0.30\n",
      "F1 Score: 0.42\n",
      "TPR: 0.30467762326169406\n",
      "TNR: 0.9866364395656843\n"
     ]
    }
   ],
   "source": [
    "xg_pred_test = xg.predict(X_test)\n",
    "xg_pred_proba_test = xg.predict_proba(X_test)[:, 1]\n",
    "cm_xg = confusion_matrix(y_test, xg_pred_test)\n",
    "accuracy_xg, precision_xg, recall_xg, f1_xg, tpr_xg, tnr_xg = Metrics(y_test, xg_pred_test)"
   ]
  },
  {
   "cell_type": "code",
   "execution_count": 38,
   "metadata": {},
   "outputs": [
    {
     "name": "stdout",
     "output_type": "stream",
     "text": [
      "Accuracy: 0.93\n",
      "Precision: 0.70\n",
      "Recall: 0.31\n",
      "F1 Score: 0.43\n",
      "TPR: 0.3055091819699499\n",
      "TNR: 0.9879051015661343\n"
     ]
    }
   ],
   "source": [
    "xg_pred_test = xg.predict(X_test_caucasian)\n",
    "xg_pred_proba_test = xg.predict_proba(X_test_caucasian)[:, 1]\n",
    "cm_xg = confusion_matrix(y_test_caucasian, xg_pred_test)\n",
    "accuracy_xg, precision_xg, recall_xg, f1_xg, tpr_xg, tnr_xg = Metrics(y_test_caucasian, xg_pred_test)"
   ]
  },
  {
   "cell_type": "code",
   "execution_count": 39,
   "metadata": {},
   "outputs": [
    {
     "name": "stdout",
     "output_type": "stream",
     "text": [
      "Accuracy: 0.93\n",
      "Precision: 0.57\n",
      "Recall: 0.35\n",
      "F1 Score: 0.43\n",
      "TPR: 0.35\n",
      "TNR: 0.9767955801104973\n"
     ]
    }
   ],
   "source": [
    "xg_pred_test = xg.predict(X_test_african_american)\n",
    "xg_pred_proba_test = xg.predict_proba(X_test_african_american)[:, 1]\n",
    "cm_xg = confusion_matrix(y_test_african_american, xg_pred_test)\n",
    "accuracy_xg, precision_xg, recall_xg, f1_xg, tpr_xg, tnr_xg = Metrics(y_test_african_american, xg_pred_test)"
   ]
  },
  {
   "cell_type": "code",
   "execution_count": 40,
   "metadata": {},
   "outputs": [
    {
     "name": "stdout",
     "output_type": "stream",
     "text": [
      "Accuracy: 0.92\n",
      "Precision: 0.62\n",
      "Recall: 0.26\n",
      "F1 Score: 0.36\n",
      "TPR: 0.2564102564102564\n",
      "TNR: 0.9851116625310173\n"
     ]
    }
   ],
   "source": [
    "xg_pred_test = xg.predict(X_test_other)\n",
    "xg_pred_proba_test = xg.predict_proba(X_test_other)[:, 1]\n",
    "cm_xg = confusion_matrix(y_test_other, xg_pred_test)\n",
    "accuracy_xg, precision_xg, recall_xg, f1_xg, tpr_xg, tnr_xg = Metrics(y_test_other, xg_pred_test)"
   ]
  },
  {
   "cell_type": "code",
   "execution_count": 41,
   "metadata": {},
   "outputs": [
    {
     "name": "stdout",
     "output_type": "stream",
     "text": [
      "Accuracy: 0.89\n",
      "Precision: 0.71\n",
      "Recall: 0.22\n",
      "F1 Score: 0.34\n",
      "TPR: 0.2222222222222222\n",
      "TNR: 0.9871794871794872\n"
     ]
    }
   ],
   "source": [
    "xg_pred_test = xg.predict(X_test_hispanic)\n",
    "xg_pred_proba_test = xg.predict_proba(X_test_hispanic)[:, 1]\n",
    "cm_xg = confusion_matrix(y_test_hispanic, xg_pred_test)\n",
    "accuracy_xg, precision_xg, recall_xg, f1_xg, tpr_xg, tnr_xg = Metrics(y_test_hispanic, xg_pred_test)"
   ]
  },
  {
   "cell_type": "code",
   "execution_count": 42,
   "metadata": {},
   "outputs": [
    {
     "name": "stdout",
     "output_type": "stream",
     "text": [
      "Accuracy: 0.94\n",
      "Precision: 0.80\n",
      "Recall: 0.40\n",
      "F1 Score: 0.53\n",
      "TPR: 0.4\n",
      "TNR: 0.9901960784313726\n"
     ]
    }
   ],
   "source": [
    "xg_pred_test = xg.predict(X_test_asian)\n",
    "xg_pred_proba_test = xg.predict_proba(X_test_asian)[:, 1]\n",
    "cm_xg = confusion_matrix(y_test_asian, xg_pred_test)\n",
    "accuracy_xg, precision_xg, recall_xg, f1_xg, tpr_xg, tnr_xg = Metrics(y_test_asian, xg_pred_test)"
   ]
  },
  {
   "cell_type": "code",
   "execution_count": 43,
   "metadata": {},
   "outputs": [
    {
     "name": "stdout",
     "output_type": "stream",
     "text": [
      "Accuracy: 0.93\n",
      "Precision: 1.00\n",
      "Recall: 0.44\n",
      "F1 Score: 0.62\n",
      "TPR: 0.4444444444444444\n",
      "TNR: 1.0\n"
     ]
    }
   ],
   "source": [
    "xg_pred_test = xg.predict(X_test_native_american)\n",
    "xg_pred_proba_test = xg.predict_proba(X_test_native_american)[:, 1]\n",
    "cm_xg = confusion_matrix(y_test_native_american, xg_pred_test)\n",
    "accuracy_xg, precision_xg, recall_xg, f1_xg, tpr_xg, tnr_xg = Metrics(y_test_native_american, xg_pred_test)"
   ]
  },
  {
   "cell_type": "code",
   "execution_count": 44,
   "metadata": {},
   "outputs": [
    {
     "data": {
      "text/plain": [
       "gender\n",
       "M    49469\n",
       "F    42219\n",
       "Name: count, dtype: int64"
      ]
     },
     "execution_count": 44,
     "metadata": {},
     "output_type": "execute_result"
    }
   ],
   "source": [
    "df.gender.value_counts()"
   ]
  },
  {
   "cell_type": "code",
   "execution_count": 45,
   "metadata": {},
   "outputs": [],
   "source": [
    "X_test_male = X_test_with_index.loc[df.iloc[y_test.index].loc[df.iloc[y_test.index].gender == \"M\"].index]\n",
    "y_test_male = y_test.loc[df.iloc[y_test.index].loc[df.iloc[y_test.index].gender == \"M\"].index]\n",
    "\n",
    "X_test_female = X_test_with_index.loc[df.iloc[y_test.index].loc[df.iloc[y_test.index].gender == \"F\"].index]\n",
    "y_test_female = y_test.loc[df.iloc[y_test.index].loc[df.iloc[y_test.index].gender == \"F\"].index]"
   ]
  },
  {
   "cell_type": "code",
   "execution_count": 46,
   "metadata": {},
   "outputs": [
    {
     "name": "stdout",
     "output_type": "stream",
     "text": [
      "Accuracy: 0.93\n",
      "Precision: 0.70\n",
      "Recall: 0.32\n",
      "F1 Score: 0.44\n",
      "TPR: 0.32027649769585254\n",
      "TNR: 0.9871794871794872\n"
     ]
    }
   ],
   "source": [
    "xg_pred_test = xg.predict(X_test_male)\n",
    "xg_pred_proba_test = xg.predict_proba(X_test_male)[:, 1]\n",
    "cm_xg = confusion_matrix(y_test_male, xg_pred_test)\n",
    "accuracy_xg, precision_xg, recall_xg, f1_xg, tpr_xg, tnr_xg = Metrics(y_test_male, xg_pred_test)"
   ]
  },
  {
   "cell_type": "code",
   "execution_count": 47,
   "metadata": {},
   "outputs": [
    {
     "name": "stdout",
     "output_type": "stream",
     "text": [
      "Accuracy: 0.93\n",
      "Precision: 0.66\n",
      "Recall: 0.29\n",
      "F1 Score: 0.40\n",
      "TPR: 0.28651685393258425\n",
      "TNR: 0.986225165562914\n"
     ]
    }
   ],
   "source": [
    "xg_pred_test = xg.predict(X_test_female)\n",
    "xg_pred_proba_test = xg.predict_proba(X_test_female)[:, 1]\n",
    "cm_xg = confusion_matrix(y_test_female, xg_pred_test)\n",
    "accuracy_xg, precision_xg, recall_xg, f1_xg, tpr_xg, tnr_xg = Metrics(y_test_female, xg_pred_test)"
   ]
  },
  {
   "cell_type": "code",
   "execution_count": 48,
   "metadata": {},
   "outputs": [
    {
     "data": {
      "text/plain": [
       "age_group\n",
       "60-69    20052\n",
       "70-79    19463\n",
       "50-59    15918\n",
       "80-89    14040\n",
       "40-49     8161\n",
       "30-39     5076\n",
       "20-29     4003\n",
       "10-19      772\n",
       "Name: count, dtype: int64"
      ]
     },
     "execution_count": 48,
     "metadata": {},
     "output_type": "execute_result"
    }
   ],
   "source": [
    "bins = range(10, 91, 10)\n",
    "labels = [f\"{i}-{i+9}\" for i in bins[:-1]]\n",
    "df['age_group'] = pd.cut(df['age'], bins=bins, labels=labels, right=False)\n",
    "df.age_group.value_counts()"
   ]
  },
  {
   "cell_type": "code",
   "execution_count": 49,
   "metadata": {},
   "outputs": [],
   "source": [
    "X_test_10 = X_test_with_index.loc[df.iloc[y_test.index].loc[df.iloc[y_test.index].age_group == \"10-19\"].index]\n",
    "y_test_10 = y_test.loc[df.iloc[y_test.index].loc[df.iloc[y_test.index].age_group == \"10-19\"].index]\n",
    "\n",
    "X_test_20 = X_test_with_index.loc[df.iloc[y_test.index].loc[df.iloc[y_test.index].age_group == \"20-29\"].index]\n",
    "y_test_20 = y_test.loc[df.iloc[y_test.index].loc[df.iloc[y_test.index].age_group == \"20-29\"].index]\n",
    "\n",
    "X_test_30 = X_test_with_index.loc[df.iloc[y_test.index].loc[df.iloc[y_test.index].age_group == \"30-39\"].index]\n",
    "y_test_30 = y_test.loc[df.iloc[y_test.index].loc[df.iloc[y_test.index].age_group == \"30-39\"].index]\n",
    "\n",
    "X_test_40 = X_test_with_index.loc[df.iloc[y_test.index].loc[df.iloc[y_test.index].age_group == \"40-49\"].index]\n",
    "y_test_40 = y_test.loc[df.iloc[y_test.index].loc[df.iloc[y_test.index].age_group == \"40-49\"].index]\n",
    "\n",
    "X_test_50 = X_test_with_index.loc[df.iloc[y_test.index].loc[df.iloc[y_test.index].age_group == \"50-59\"].index]\n",
    "y_test_50 = y_test.loc[df.iloc[y_test.index].loc[df.iloc[y_test.index].age_group == \"50-59\"].index]\n",
    "\n",
    "X_test_60 = X_test_with_index.loc[df.iloc[y_test.index].loc[df.iloc[y_test.index].age_group == \"60-69\"].index]\n",
    "y_test_60 = y_test.loc[df.iloc[y_test.index].loc[df.iloc[y_test.index].age_group == \"60-69\"].index]\n",
    "\n",
    "X_test_70 = X_test_with_index.loc[df.iloc[y_test.index].loc[df.iloc[y_test.index].age_group == \"70-79\"].index]\n",
    "y_test_70 = y_test.loc[df.iloc[y_test.index].loc[df.iloc[y_test.index].age_group == \"70-79\"].index]\n",
    "\n",
    "X_test_80 = X_test_with_index.loc[df.iloc[y_test.index].loc[df.iloc[y_test.index].age_group == \"80-89\"].index]\n",
    "y_test_80 = y_test.loc[df.iloc[y_test.index].loc[df.iloc[y_test.index].age_group == \"80-89\"].index]"
   ]
  },
  {
   "cell_type": "code",
   "execution_count": 50,
   "metadata": {},
   "outputs": [
    {
     "name": "stdout",
     "output_type": "stream",
     "text": [
      "Accuracy: 0.99\n",
      "Precision: 1.00\n",
      "Recall: 0.50\n",
      "F1 Score: 0.67\n",
      "TPR: 0.5\n",
      "TNR: 1.0\n"
     ]
    }
   ],
   "source": [
    "xg_pred_test = xg.predict(X_test_10)\n",
    "xg_pred_proba_test = xg.predict_proba(X_test_10)[:, 1]\n",
    "cm_xg = confusion_matrix(y_test_10, xg_pred_test)\n",
    "accuracy_xg, precision_xg, recall_xg, f1_xg, tpr_xg, tnr_xg = Metrics(y_test_10, xg_pred_test)"
   ]
  },
  {
   "cell_type": "code",
   "execution_count": 51,
   "metadata": {},
   "outputs": [
    {
     "name": "stdout",
     "output_type": "stream",
     "text": [
      "Accuracy: 0.97\n",
      "Precision: 0.57\n",
      "Recall: 0.31\n",
      "F1 Score: 0.40\n",
      "TPR: 0.3076923076923077\n",
      "TNR: 0.9926470588235294\n"
     ]
    }
   ],
   "source": [
    "xg_pred_test = xg.predict(X_test_20)\n",
    "xg_pred_proba_test = xg.predict_proba(X_test_20)[:, 1]\n",
    "cm_xg = confusion_matrix(y_test_20, xg_pred_test)\n",
    "accuracy_xg, precision_xg, recall_xg, f1_xg, tpr_xg, tnr_xg = Metrics(y_test_20, xg_pred_test)"
   ]
  },
  {
   "cell_type": "code",
   "execution_count": 52,
   "metadata": {},
   "outputs": [
    {
     "name": "stdout",
     "output_type": "stream",
     "text": [
      "Accuracy: 0.98\n",
      "Precision: 0.75\n",
      "Recall: 0.40\n",
      "F1 Score: 0.52\n",
      "TPR: 0.4\n",
      "TNR: 0.9958419958419958\n"
     ]
    }
   ],
   "source": [
    "xg_pred_test = xg.predict(X_test_30)\n",
    "xg_pred_proba_test = xg.predict_proba(X_test_30)[:, 1]\n",
    "cm_xg = confusion_matrix(y_test_30, xg_pred_test)\n",
    "accuracy_xg, precision_xg, recall_xg, f1_xg, tpr_xg, tnr_xg = Metrics(y_test_30, xg_pred_test)"
   ]
  },
  {
   "cell_type": "code",
   "execution_count": 53,
   "metadata": {},
   "outputs": [
    {
     "name": "stdout",
     "output_type": "stream",
     "text": [
      "Accuracy: 0.96\n",
      "Precision: 0.68\n",
      "Recall: 0.45\n",
      "F1 Score: 0.54\n",
      "TPR: 0.4523809523809524\n",
      "TNR: 0.9886792452830189\n"
     ]
    }
   ],
   "source": [
    "xg_pred_test = xg.predict(X_test_40)\n",
    "xg_pred_proba_test = xg.predict_proba(X_test_40)[:, 1]\n",
    "cm_xg = confusion_matrix(y_test_40, xg_pred_test)\n",
    "accuracy_xg, precision_xg, recall_xg, f1_xg, tpr_xg, tnr_xg = Metrics(y_test_40, xg_pred_test)"
   ]
  },
  {
   "cell_type": "code",
   "execution_count": 54,
   "metadata": {},
   "outputs": [
    {
     "name": "stdout",
     "output_type": "stream",
     "text": [
      "Accuracy: 0.95\n",
      "Precision: 0.66\n",
      "Recall: 0.37\n",
      "F1 Score: 0.47\n",
      "TPR: 0.36538461538461536\n",
      "TNR: 0.986468200270636\n"
     ]
    }
   ],
   "source": [
    "xg_pred_test = xg.predict(X_test_50)\n",
    "xg_pred_proba_test = xg.predict_proba(X_test_50)[:, 1]\n",
    "cm_xg = confusion_matrix(y_test_50, xg_pred_test)\n",
    "accuracy_xg, precision_xg, recall_xg, f1_xg, tpr_xg, tnr_xg = Metrics(y_test_50, xg_pred_test)"
   ]
  },
  {
   "cell_type": "code",
   "execution_count": 55,
   "metadata": {},
   "outputs": [
    {
     "name": "stdout",
     "output_type": "stream",
     "text": [
      "Accuracy: 0.93\n",
      "Precision: 0.62\n",
      "Recall: 0.33\n",
      "F1 Score: 0.43\n",
      "TPR: 0.3291139240506329\n",
      "TNR: 0.9829787234042553\n"
     ]
    }
   ],
   "source": [
    "xg_pred_test = xg.predict(X_test_60)\n",
    "xg_pred_proba_test = xg.predict_proba(X_test_60)[:, 1]\n",
    "cm_xg = confusion_matrix(y_test_60, xg_pred_test)\n",
    "accuracy_xg, precision_xg, recall_xg, f1_xg, tpr_xg, tnr_xg = Metrics(y_test_60, xg_pred_test)"
   ]
  },
  {
   "cell_type": "code",
   "execution_count": 56,
   "metadata": {},
   "outputs": [
    {
     "name": "stdout",
     "output_type": "stream",
     "text": [
      "Accuracy: 0.92\n",
      "Precision: 0.74\n",
      "Recall: 0.30\n",
      "F1 Score: 0.43\n",
      "TPR: 0.3015075376884422\n",
      "TNR: 0.9881154499151104\n"
     ]
    }
   ],
   "source": [
    "xg_pred_test = xg.predict(X_test_70)\n",
    "xg_pred_proba_test = xg.predict_proba(X_test_70)[:, 1]\n",
    "cm_xg = confusion_matrix(y_test_70, xg_pred_test)\n",
    "accuracy_xg, precision_xg, recall_xg, f1_xg, tpr_xg, tnr_xg = Metrics(y_test_70, xg_pred_test)"
   ]
  },
  {
   "cell_type": "code",
   "execution_count": 57,
   "metadata": {},
   "outputs": [
    {
     "name": "stdout",
     "output_type": "stream",
     "text": [
      "Accuracy: 0.88\n",
      "Precision: 0.74\n",
      "Recall: 0.25\n",
      "F1 Score: 0.37\n",
      "TPR: 0.25\n",
      "TNR: 0.9852558542931483\n"
     ]
    }
   ],
   "source": [
    "xg_pred_test = xg.predict(X_test_80)\n",
    "xg_pred_proba_test = xg.predict_proba(X_test_80)[:, 1]\n",
    "cm_xg = confusion_matrix(y_test_80, xg_pred_test)\n",
    "accuracy_xg, precision_xg, recall_xg, f1_xg, tpr_xg, tnr_xg = Metrics(y_test_80, xg_pred_test)"
   ]
  }
 ],
 "metadata": {
  "kernelspec": {
   "display_name": "Python 3",
   "language": "python",
   "name": "python3"
  },
  "language_info": {
   "codemirror_mode": {
    "name": "ipython",
    "version": 3
   },
   "file_extension": ".py",
   "mimetype": "text/x-python",
   "name": "python",
   "nbconvert_exporter": "python",
   "pygments_lexer": "ipython3",
   "version": "3.11.9"
  }
 },
 "nbformat": 4,
 "nbformat_minor": 2
}
